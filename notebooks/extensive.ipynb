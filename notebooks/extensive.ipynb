{
 "cells": [
  {
   "cell_type": "markdown",
   "metadata": {},
   "source": [
    "# Multistage Stochastic Unit Commitment Problem"
   ]
  },
  {
   "cell_type": "code",
   "execution_count": 1,
   "metadata": {},
   "outputs": [],
   "source": [
    "import os\n",
    "import numpy as np\n",
    "import pandas as pd\n",
    "import gurobipy as gp\n",
    "from scipy import stats, linalg\n",
    "from itertools import product\n",
    "\n",
    "\n",
    "from sddip import config, utils, tree\n"
   ]
  },
  {
   "cell_type": "markdown",
   "metadata": {},
   "source": [
    "## Parameters"
   ]
  },
  {
   "cell_type": "code",
   "execution_count": 2,
   "metadata": {},
   "outputs": [],
   "source": [
    "test_case_raw_dir = \"case6ww/raw\"\n",
    "\n",
    "test_case_raw_dir = os.path.join(config.test_cases_dir, test_case_raw_dir)\n",
    "\n",
    "bus_file_raw = os.path.join(test_case_raw_dir, \"bus_data.txt\")\n",
    "branch_file_raw = os.path.join(test_case_raw_dir, \"branch_data.txt\")\n",
    "gen_file_raw = os.path.join(test_case_raw_dir, \"gen_data.txt\")\n",
    "gen_cost_file_raw = os.path.join(test_case_raw_dir, \"gen_cost_data.txt\")\n",
    "scenario_data_file = os.path.join(test_case_raw_dir, \"scenario_data.txt\")\n",
    "\n",
    "bus_df = pd.read_csv(bus_file_raw, delimiter=\"\\s+\")\n",
    "branch_df = pd.read_csv(branch_file_raw, delimiter=\"\\s+\")\n",
    "gen_df = pd.read_csv(gen_file_raw, delimiter=\"\\s+\")\n",
    "gen_cost_df = pd.read_csv(gen_cost_file_raw, delimiter=\"\\s+\")\n",
    "\n",
    "scenario_df = pd.read_csv(scenario_data_file, delimiter=\"\\s+\")"
   ]
  },
  {
   "cell_type": "code",
   "execution_count": 3,
   "metadata": {},
   "outputs": [],
   "source": [
    "nodes = bus_df.bus_i.values.tolist()\n",
    "edges = branch_df[[\"fbus\", \"tbus\"]].values.tolist()\n",
    "\n",
    "graph = utils.Graph(nodes, edges)\n",
    "\n",
    "ref_bus = bus_df.loc[bus_df.type == 3].bus_i.values[0]\n",
    "\n",
    "a_inc = graph.incidence_matrix()\n",
    "b_l = (-branch_df.x /(branch_df.r**2 + branch_df.x**2)).tolist()\n",
    "b_diag = np.diag(b_l)\n",
    "\n",
    "m1 = b_diag.dot(a_inc)\n",
    "m2 = a_inc.T.dot(b_diag).dot(a_inc)\n",
    "\n",
    "m1 = np.delete(m1, ref_bus-1, 1)\n",
    "m2 = np.delete(m2, ref_bus-1, 0)\n",
    "m2 = np.delete(m2, ref_bus-1, 1)\n",
    "\n",
    "ptdf = m1.dot(np.linalg.inv(m2))\n",
    "\n",
    "ptdf = np.insert(ptdf, ref_bus-1, 0, axis=1)"
   ]
  },
  {
   "cell_type": "code",
   "execution_count": 4,
   "metadata": {},
   "outputs": [],
   "source": [
    "########################################################################################################################\n",
    "# Deterministic parameters\n",
    "########################################################################################################################\n",
    "gc = np.array(gen_cost_df.c1)\n",
    "suc = np.array(gen_cost_df.startup)\n",
    "sdc = np.array( gen_cost_df.startup)\n",
    "pg_min = np.array(gen_df.Pmin)\n",
    "pg_max = np.array(gen_df.Pmax)\n",
    "pl_max = np.array(branch_df.rateA)\n",
    "\n",
    "n_gens = len(gc)\n",
    "n_lines, n_buses = ptdf.shape\n",
    "\n",
    "# Lists of generators at each bus\n",
    "#\n",
    "# Example: [[0,1], [], [2]]\n",
    "# Generator 1 & 2 are located at bus 1\n",
    "# No Generator is located at bus 2\n",
    "# Generator 3 is located at bus 3\n",
    "gens_at_bus = [[] for _ in range(n_buses)]\n",
    "g = 0\n",
    "for b in gen_df.bus.values:\n",
    "    gens_at_bus[b-1].append(g)\n",
    "    g+=1\n",
    "\n",
    "# TODO Add ramp rate limits\n",
    "rg_up_max = np.full(n_gens, 1000)\n",
    "rg_down_max = np.full(n_gens, 1000)\n",
    "\n",
    "# TODO Adjust penalty\n",
    "penalty = 10000\n",
    "    \n",
    "########################################################################################################################\n",
    "# Stochastic parameters\n",
    "########################################################################################################################\n",
    "n_realizations_per_stage = scenario_df.groupby(\"t\")[\"n\"].nunique().tolist()\n",
    "n_stages = len(n_realizations_per_stage)\n",
    "\n",
    "prob = []\n",
    "p_d = []\n",
    "\n",
    "for t in range(n_stages):\n",
    "    stage_df = scenario_df[scenario_df[\"t\"] == t+1]\n",
    "    p_d.append(stage_df[scenario_df.columns[scenario_df.columns.to_series().str.contains('Pd')]].values.tolist())\n",
    "    prob.append(stage_df[\"p\"].values.tolist())\n",
    "\n",
    "\n",
    "########################################################################################################################\n",
    "# Expected values of stochastic parameters\n",
    "########################################################################################################################\n",
    "ex_pd = [np.array(prob[t]).dot(np.array(p_d[t])) for t in range(n_stages)]"
   ]
  },
  {
   "cell_type": "code",
   "execution_count": 5,
   "metadata": {},
   "outputs": [],
   "source": [
    "# TODO min up-/down-time\n",
    "min_up_time = [2]*n_gens\n",
    "min_down_time = [2]*n_gens"
   ]
  },
  {
   "cell_type": "code",
   "execution_count": 6,
   "metadata": {},
   "outputs": [
    {
     "data": {
      "text/plain": [
       "[[0], [1], [2], [], [], []]"
      ]
     },
     "execution_count": 6,
     "metadata": {},
     "output_type": "execute_result"
    }
   ],
   "source": [
    "gens_at_bus"
   ]
  },
  {
   "cell_type": "code",
   "execution_count": 7,
   "metadata": {},
   "outputs": [],
   "source": [
    "# prob[t][n]\n",
    "# Probability of realization n at stage t\n",
    "#prob"
   ]
  },
  {
   "cell_type": "code",
   "execution_count": 8,
   "metadata": {},
   "outputs": [],
   "source": [
    "# p_d[t][n][b]\n",
    "# Demand in stage t and realization n at bus b\n",
    "#p_d"
   ]
  },
  {
   "cell_type": "code",
   "execution_count": 9,
   "metadata": {},
   "outputs": [],
   "source": [
    "# ex_pd[t][b]\n",
    "# Expected demand in stage t at bus b\n",
    "#ex_pd"
   ]
  },
  {
   "cell_type": "code",
   "execution_count": 10,
   "metadata": {},
   "outputs": [
    {
     "name": "stdout",
     "output_type": "stream",
     "text": [
      "ScenarioTree: Stages = 12, Nodes = 4095\n"
     ]
    }
   ],
   "source": [
    "scenario_tree = tree.ScenarioTree(n_realizations_per_stage)\n",
    "print(scenario_tree)"
   ]
  },
  {
   "cell_type": "markdown",
   "metadata": {},
   "source": [
    "## Optimization"
   ]
  },
  {
   "cell_type": "markdown",
   "metadata": {},
   "source": [
    "### Variables"
   ]
  },
  {
   "cell_type": "code",
   "execution_count": 11,
   "metadata": {},
   "outputs": [
    {
     "name": "stdout",
     "output_type": "stream",
     "text": [
      "Set parameter Username\n",
      "Academic license - for non-commercial use only - expires 2022-03-29\n"
     ]
    }
   ],
   "source": [
    "model = gp.Model(\"MSUC\")\n",
    "\n",
    "x = {}\n",
    "y = {}\n",
    "s_up = {}\n",
    "s_down = {}\n",
    "ys_p = {}\n",
    "ys_n = {}\n",
    "\n",
    "# TODO Set startup and shutdown costs\n",
    "# suc = [10]*n_gens\n",
    "# sdc = [10]*n_gens\n",
    "\n",
    "for t in range(n_stages):\n",
    "    for node in scenario_tree.get_stage_nodes(t):\n",
    "        n = node.index\n",
    "        for g in range(n_gens):\n",
    "            x[t,n,g] = model.addVar(vtype = gp.GRB.BINARY, name = f\"x_{t+1}_{n+1}_{g+1}\")\n",
    "            y[t,n,g] = model.addVar(vtype = gp.GRB.CONTINUOUS, lb = 0, name = f\"y_{t+1}_{n+1}_{g+1}\")\n",
    "            s_up[t,n,g] = model.addVar(vtype = gp.GRB.BINARY, name = f\"s_up_{t+1}_{n+1}_{g+1}\")\n",
    "            s_down[t,n,g] = model.addVar(vtype = gp.GRB.BINARY, name = f\"s_down_{t+1}_{n+1}_{g+1}\")\n",
    "        ys_p[t,n] = model.addVar(vtype = gp.GRB.CONTINUOUS, lb = 0, name = f\"ys_p_{t+1}_{n+1}\")\n",
    "        ys_n[t,n] = model.addVar(vtype = gp.GRB.CONTINUOUS, lb = 0, name = f\"ys_n_{t+1}_{n+1}\")\n",
    "\n",
    "model.update()"
   ]
  },
  {
   "cell_type": "markdown",
   "metadata": {},
   "source": [
    "### Constraints"
   ]
  },
  {
   "cell_type": "code",
   "execution_count": 12,
   "metadata": {},
   "outputs": [],
   "source": [
    "# Objective\n",
    "obj = gp.quicksum(1/scenario_tree.n_nodes_per_stage[t]*(gc[g]*y[t,n,g] + suc[g]*s_up[t,n,g] + sdc[g]*s_down[t,n,g] + penalty*(ys_p[t,n] + ys_n[t,n])) \n",
    "                    for t in range(n_stages)\n",
    "                    for n in range(scenario_tree.n_nodes_per_stage[t])\n",
    "                    for g in range(n_gens))\n",
    "\n",
    "model.setObjective(obj)\n",
    "\n",
    "\n",
    "# Balance constraints\n",
    "model.addConstrs((gp.quicksum(y[t,n.index,g] for g in range(n_gens)) + ys_p[t,n.index] - ys_n[t,n.index] == gp.quicksum(p_d[t][n.realization])\n",
    "                    for t in range(n_stages)\n",
    "                    for n in scenario_tree.get_stage_nodes(t)),                    \n",
    "                    \"balance\")\n",
    "\n",
    "\n",
    "# Generator constraints\n",
    "model.addConstrs((y[t,n,g] >= pg_min[g]*x[t,n,g] \n",
    "                    for g in range(n_gens)\n",
    "                    for t in range(n_stages) \n",
    "                    for n in range(scenario_tree.n_nodes_per_stage[t])),\n",
    "                    \"min-generation\")\n",
    "\n",
    "model.addConstrs((y[t,n,g] <= pg_max[g]*x[t,n,g]  \n",
    "                    for g in range(n_gens)\n",
    "                    for t in range(n_stages) \n",
    "                    for n in range(scenario_tree.n_nodes_per_stage[t])),\n",
    "                    \"max-generation\")\n",
    "\n",
    "\n",
    "# Power flow constraints\n",
    "for t in range(n_stages):\n",
    "    for node in scenario_tree.get_stage_nodes(t):\n",
    "        n = node.index\n",
    "        line_flows = [gp.quicksum(ptdf[l,b] * (gp.quicksum(y[t,n,g] for g in gens_at_bus[b]) - p_d[t][node.realization][b])\n",
    "                        for b in range(n_buses)) for l in range(n_lines)]\n",
    "        model.addConstrs((line_flows[l] <= pl_max[l] for l in range(n_lines)), \"power-flow(1)\")\n",
    "        model.addConstrs((-line_flows[l] <= pl_max[l] for l in range(n_lines)), \"power-flow(2)\")\n",
    "\n",
    "\n",
    "# Startup shutdown constraints\n",
    "# t=0\n",
    "x_init = [0]*n_gens\n",
    "model.addConstrs((x[0,0,g] - x_init[g] <= s_up[0,0,g] for g in range(n_gens)), \"up-down(1)\")\n",
    "model.addConstrs((x[0,0,g] - x_init[g] == s_up[0,0,g] - s_down[0,0,g] for g in range(n_gens)), \"up-down(2)\")\n",
    "# t>0\n",
    "for t in range(1,n_stages):\n",
    "    for node in scenario_tree.get_stage_nodes(t):\n",
    "        n = node.index\n",
    "        a_n = node.parent.index\n",
    "        model.addConstrs((x[t,n,g] - x[t-1,a_n,g] <= s_up[t,n,g] \n",
    "                        for g in range(n_gens)), \n",
    "                        \"up-down(1)\")\n",
    "        model.addConstrs((x[t,n,g] - x[t-1,a_n,g] == s_up[t,n,g] - s_down[t,n,g] \n",
    "                        for g in range(n_gens)), \n",
    "                        \"up-down(2)\")\n",
    "\n",
    "\n",
    "# Ramp rate constraints\n",
    "# t=0\n",
    "y_init = [0]*n_gens\n",
    "model.addConstrs((y[0,0,g] - y_init[g] <= rg_up_max[g] for g in range(n_gens)), \"rate-up\")\n",
    "model.addConstrs((y_init[g] - y[0,0,g] <= rg_down_max[g] for g in range(n_gens)), \"rate-down(2)\")\n",
    "# t>0\n",
    "for t in range(1,n_stages):\n",
    "    for node in scenario_tree.get_stage_nodes(t):\n",
    "        n = node.index\n",
    "        a_n = node.parent.index\n",
    "        model.addConstrs((y[t,n,g] - y[t-1,a_n,g] <= rg_up_max[g]\n",
    "                        for g in range(n_gens)), \n",
    "                        \"rate-up\")\n",
    "        model.addConstrs((y[t-1,a_n,g] - y[t,n,g] <= rg_down_max[g]\n",
    "                        for g in range(n_gens)), \n",
    "                        \"rate-down\")\n",
    "\n",
    "\n",
    "# Minimum up- and down-time constraints\n",
    "for g in range(n_gens):\n",
    "    for t in range(1, min_up_time[g]):\n",
    "        for node in scenario_tree.get_stage_nodes(t):\n",
    "            n = node.index\n",
    "            ancestors = node.get_ancestors()\n",
    "            model.addConstr((gp.quicksum(x[m.stage,m.index,g] for m in ancestors) >= (t+1)*s_down[t,n,g]), \"min-uptime\")\n",
    "    \n",
    "    for t in range(min_up_time[g], n_stages):\n",
    "        for node in scenario_tree.get_stage_nodes(t):\n",
    "            n = node.index\n",
    "            ancestors = node.get_ancestors(min_up_time[g])\n",
    "            model.addConstr((gp.quicksum(x[m.stage, m.index,g] for m in ancestors) >= min_up_time[g]*s_down[t,n,g]), \"min-uptime\")\n",
    "\n",
    "    for t in range(1, min_down_time[g]):\n",
    "        for node in scenario_tree.get_stage_nodes(t):\n",
    "            n = node.index\n",
    "            ancestors = node.get_ancestors()\n",
    "            model.addConstr((gp.quicksum((1-x[m.stage,m.index,g]) for m in ancestors) >= (t+1)*s_up[t,n,g]), \"min-downtime\")\n",
    "\n",
    "    for t in range(min_down_time[g], n_stages):\n",
    "        for node in scenario_tree.get_stage_nodes(t):\n",
    "            n = node.index\n",
    "            ancestors = node.get_ancestors(min_down_time[g])\n",
    "            model.addConstr((gp.quicksum((1-x[m.stage,m.index,g]) for m in ancestors) >= min_down_time[g]*s_up[t,n,g]), \"min-downtime\")\n",
    "\n",
    "\n",
    "model.update()\n",
    "#model.display()"
   ]
  },
  {
   "cell_type": "markdown",
   "metadata": {},
   "source": [
    "### Solve"
   ]
  },
  {
   "cell_type": "code",
   "execution_count": 13,
   "metadata": {},
   "outputs": [
    {
     "name": "stdout",
     "output_type": "stream",
     "text": [
      "\n",
      "Optimal value: 21202.634616017443\n"
     ]
    }
   ],
   "source": [
    "model.setParam(\"OutputFlag\",0)\n",
    "\n",
    "model.optimize()\n",
    "\n",
    "#model.setParam(\"OutputFlag\",1)\n",
    "\n",
    "model.printAttr(\"X\")\n",
    "print()\n",
    "print(f\"Optimal value: {obj.getValue()}\")"
   ]
  },
  {
   "cell_type": "code",
   "execution_count": 14,
   "metadata": {},
   "outputs": [],
   "source": [
    "display_results = False\n",
    "\n",
    "if display_results:\n",
    "    x_out = [f\"x[{t+1},{n+1},{g+1}]:  {x[t,n,g].x}\" for t in range(n_stages) for n in range(scenario_tree.n_nodes_per_stage[t]) for g in range(n_gens)]\n",
    "    y_out = [f\"y[{t+1},{n+1},{g+1}]:  {y[t,n,g].x}\" for t in range(n_stages) for n in range(scenario_tree.n_nodes_per_stage[t]) for g in range(n_gens)]\n",
    "    s_up_out = [f\"s_up[{t+1},{n+1},{g+1}]:  {s_up[t,n,g].x}\" for t in range(n_stages) for n in range(scenario_tree.n_nodes_per_stage[t]) for g in range(n_gens)]\n",
    "    s_down_out = [f\"s_down[{t+1},{n+1},{g+1}]:  {s_down[t,n,g].x}\" for t in range(n_stages) for n in range(scenario_tree.n_nodes_per_stage[t]) for g in range(n_gens)]\n",
    "\n",
    "    print(\"Commitment decisions\")\n",
    "    for text in x_out:\n",
    "        print(f\"{text}\")\n",
    "\n",
    "    print(\"Dispatch decisions\")\n",
    "    for text in y_out:\n",
    "        print(f\"{text}\")\n",
    "\n",
    "    print(\"Startup decisions\")\n",
    "    for text in s_up_out:\n",
    "        print(f\"{text}\")\n",
    "\n",
    "    print(\"Shutdown decisions\")\n",
    "    for text in s_down_out:\n",
    "        print(f\"{text}\")"
   ]
  },
  {
   "cell_type": "code",
   "execution_count": 15,
   "metadata": {},
   "outputs": [
    {
     "data": {
      "text/plain": [
       "[1744.9038054575242,\n",
       " 3981.206207675645,\n",
       " 6105.71056784157,\n",
       " 7738.676124137741,\n",
       " 9488.760855720844,\n",
       " 11498.92434148991,\n",
       " 13449.059868452488,\n",
       " 15408.261032991302,\n",
       " 16950.676874400073,\n",
       " 17694.388695702582,\n",
       " 18345.988782978937,\n",
       " 19202.634616010837]"
      ]
     },
     "execution_count": 15,
     "metadata": {},
     "output_type": "execute_result"
    }
   ],
   "source": [
    "costs = []\n",
    "c = 0\n",
    "for t in reversed(range(n_stages)):\n",
    "    for n in range(scenario_tree.n_nodes_per_stage[t]):\n",
    "        for g in range(n_gens):\n",
    "            c += 1/scenario_tree.n_nodes_per_stage[t] * y[t,n,g].x*gc[g]\n",
    "    costs.append(c)\n",
    "\n",
    "\n",
    "costs"
   ]
  },
  {
   "cell_type": "code",
   "execution_count": 16,
   "metadata": {},
   "outputs": [],
   "source": [
    "#model.display()"
   ]
  }
 ],
 "metadata": {
  "interpreter": {
   "hash": "abe42ade3e87b4e6c3c5745962b526975dbcf6574cac0f27c7eb88f5d6f3bab5"
  },
  "kernelspec": {
   "display_name": "Python 3.10.0 64-bit ('optimization': conda)",
   "language": "python",
   "name": "python3"
  },
  "language_info": {
   "codemirror_mode": {
    "name": "ipython",
    "version": 3
   },
   "file_extension": ".py",
   "mimetype": "text/x-python",
   "name": "python",
   "nbconvert_exporter": "python",
   "pygments_lexer": "ipython3",
   "version": "3.9.7"
  },
  "orig_nbformat": 4
 },
 "nbformat": 4,
 "nbformat_minor": 2
}
