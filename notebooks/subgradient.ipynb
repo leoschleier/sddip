{
 "cells": [
  {
   "cell_type": "markdown",
   "metadata": {},
   "source": [
    "# Subgradient method on MILP"
   ]
  },
  {
   "cell_type": "code",
   "execution_count": 17,
   "metadata": {},
   "outputs": [],
   "source": [
    "import sys\n",
    "sys.path.append('../sddip')"
   ]
  },
  {
   "cell_type": "code",
   "execution_count": 18,
   "metadata": {},
   "outputs": [],
   "source": [
    "from gurobipy import *\n",
    "import numpy as np\n",
    "import pandas as pd\n",
    "\n",
    "import sddip.dualsolver as ds"
   ]
  },
  {
   "cell_type": "markdown",
   "metadata": {},
   "source": [
    "## Problem parameters"
   ]
  },
  {
   "cell_type": "code",
   "execution_count": 19,
   "metadata": {},
   "outputs": [],
   "source": [
    "i_max = 4\n",
    "j_max = 5\n",
    "\n",
    "d = np.array([120, 150, 100, 150, 180])\n",
    "a = np.array([250, 300, 400, 700])\n",
    "k = np.array([700, 900, 300, 400])\n",
    "c = np.array([[2, 1, 3, 4, 5],[4, 2, 8, 14, 10], [4, 12, 3, 14, 7], [8, 17, 7, 9, 15]])\n",
    "\n",
    "x = np.empty((i_max, j_max), dtype=object)\n",
    "y = np.empty(i_max, dtype=object)"
   ]
  },
  {
   "cell_type": "markdown",
   "metadata": {},
   "source": [
    "## Original problem"
   ]
  },
  {
   "cell_type": "code",
   "execution_count": 20,
   "metadata": {},
   "outputs": [
    {
     "name": "stdout",
     "output_type": "stream",
     "text": [
      "Gurobi Optimizer version 9.5.0 build v9.5.0rc5 (win64)\n",
      "Thread count: 8 physical cores, 16 logical processors, using up to 16 threads\n",
      "Optimize a model with 9 rows, 104 columns and 44 nonzeros\n",
      "Model fingerprint: 0x6d512bd2\n",
      "Variable types: 100 continuous, 4 integer (4 binary)\n",
      "Coefficient statistics:\n",
      "  Matrix range     [1e+00, 7e+02]\n",
      "  Objective range  [1e+00, 9e+02]\n",
      "  Bounds range     [1e+00, 1e+00]\n",
      "  RHS range        [1e+02, 2e+02]\n",
      "Presolve removed 0 rows and 80 columns\n",
      "Presolve time: 0.00s\n",
      "Presolved: 9 rows, 24 columns, 44 nonzeros\n",
      "Variable types: 20 continuous, 4 integer (4 binary)\n",
      "Found heuristic solution: objective 4640.0000000\n",
      "\n",
      "Root relaxation: objective 3.990000e+03, 4 iterations, 0.00 seconds (0.00 work units)\n",
      "\n",
      "    Nodes    |    Current Node    |     Objective Bounds      |     Work\n",
      " Expl Unexpl |  Obj  Depth IntInf | Incumbent    BestBd   Gap | It/Node Time\n",
      "\n",
      "     0     0 3990.00000    0    1 4640.00000 3990.00000  14.0%     -    0s\n",
      "H    0     0                    4440.0000000 3990.00000  10.1%     -    0s\n",
      "\n",
      "Cutting planes:\n",
      "  Gomory: 1\n",
      "  Implied bound: 1\n",
      "  MIR: 1\n",
      "\n",
      "Explored 1 nodes (4 simplex iterations) in 0.01 seconds (0.00 work units)\n",
      "Thread count was 16 (of 16 available processors)\n",
      "\n",
      "Solution count 2: 4440 4640 \n",
      "\n",
      "Optimal solution found (tolerance 1.00e-04)\n",
      "Best objective 4.440000000000e+03, best bound 4.440000000000e+03, gap 0.0000%\n",
      "\n",
      "    Variable            X \n",
      "-------------------------\n",
      "         y_1            1 \n",
      "        x_12          150 \n",
      "        x_14          100 \n",
      "         y_3            1 \n",
      "        x_31          120 \n",
      "        x_33          100 \n",
      "        x_35          180 \n",
      "         y_4            1 \n",
      "        x_44           50 \n",
      "#################################################\n",
      "Optimal value v= 4440.0\n"
     ]
    }
   ],
   "source": [
    "m = Model(\"Standortproblem\")\n",
    "\n",
    "\n",
    "for i in range(i_max):\n",
    "    y[i] = m.addVar(vtype = GRB.BINARY, name = \"y_%i\"%(i+1))\n",
    "    for j in range(j_max):\n",
    "        for j in range(j_max):\n",
    "            x[i,j] = m.addVar(vtype = GRB.CONTINUOUS, lb = 0, name = \"x_%i%i\"%(i+1,j+1))\n",
    "\n",
    "m.update()\n",
    "\n",
    "expr_o1 = LinExpr(k, y)\n",
    "expr_o2 = LinExpr(c.flatten(), x.flatten())\n",
    "obj = expr_o1+expr_o2\n",
    "m.setObjective(obj)\n",
    "\n",
    "m.addConstrs(quicksum(x[:,j]) == d[j] for j in range(j_max))\n",
    "m.addConstrs(quicksum(x[i,:]) <= a[i]*y[i] for i in range(i_max))\n",
    "\n",
    "m.update()\n",
    "\n",
    "m.optimize()\n",
    "m.printAttr(\"X\")\n",
    "\n",
    "\n",
    "\n",
    "####################################\n",
    "# Solution\n",
    "####################################\n",
    "print('#################################################')\n",
    "\n",
    "# Optimal value\n",
    "v = m.getObjective().getValue()\n",
    "print(\"Optimal value v= {}\".format(v))"
   ]
  },
  {
   "cell_type": "markdown",
   "metadata": {},
   "source": [
    "## Lagrangian Dual"
   ]
  },
  {
   "cell_type": "code",
   "execution_count": 21,
   "metadata": {},
   "outputs": [],
   "source": [
    "m = Model(\"Standortproblem\")\n",
    "\n",
    "\n",
    "for i in range(i_max):\n",
    "    y[i] = m.addVar(vtype = GRB.BINARY, name = \"y_%i\"%(i+1))\n",
    "    for j in range(j_max):\n",
    "        for j in range(j_max):\n",
    "            x[i,j] = m.addVar(vtype = GRB.CONTINUOUS, lb = 0, name = \"x_%i%i\"%(i+1,j+1))\n",
    "\n",
    "expr_o1 = LinExpr(k, y)\n",
    "expr_o2 = LinExpr(c.flatten(), x.flatten())\n",
    "\n",
    "objective_terms = expr_o1+expr_o2\n",
    "relaxed_terms = [quicksum(x[:,j]) - d[j] for j in range(j_max)]\n",
    "\n",
    "#m.setObjective(objective_terms)\n",
    "#m.addConstrs(quicksum(x[:,j]) == d[j] for j in range(j_max))\n",
    "m.addConstrs(quicksum(x[i,:]) <= a[i]*y[i] for i in range(i_max))\n",
    "\n",
    "m.update()\n",
    "\n",
    "m.setParam(\"Outputflag\",0)"
   ]
  },
  {
   "cell_type": "markdown",
   "metadata": {},
   "source": [
    "### Subgradient mehod"
   ]
  },
  {
   "cell_type": "code",
   "execution_count": 22,
   "metadata": {},
   "outputs": [],
   "source": [
    "sg_method = ds.SubgradientMethod(max_iterations = 100)\n",
    "\n",
    "rlx_model, results = sg_method.solve(m, objective_terms, relaxed_terms, 4500)"
   ]
  },
  {
   "cell_type": "code",
   "execution_count": 23,
   "metadata": {},
   "outputs": [
    {
     "name": "stdout",
     "output_type": "stream",
     "text": [
      "Set parameter OutputFlag to value 1\n",
      "\n",
      "    Variable            X \n",
      "-------------------------\n",
      "         y_1            1 \n",
      "        x_14          250 \n",
      "         y_3            1 \n",
      "        x_35          400 \n"
     ]
    }
   ],
   "source": [
    "m.setParam(\"Outputflag\",1)\n",
    "rlx_model.printAttr(\"X\")"
   ]
  },
  {
   "cell_type": "code",
   "execution_count": 24,
   "metadata": {},
   "outputs": [
    {
     "data": {
      "text/plain": [
       "3643.8903311226495"
      ]
     },
     "execution_count": 24,
     "metadata": {},
     "output_type": "execute_result"
    }
   ],
   "source": [
    "results.obj_value"
   ]
  }
 ],
 "metadata": {
  "interpreter": {
   "hash": "abe42ade3e87b4e6c3c5745962b526975dbcf6574cac0f27c7eb88f5d6f3bab5"
  },
  "kernelspec": {
   "display_name": "optimization",
   "language": "python",
   "name": "python3"
  },
  "language_info": {
   "codemirror_mode": {
    "name": "ipython",
    "version": 3
   },
   "file_extension": ".py",
   "mimetype": "text/x-python",
   "name": "python",
   "nbconvert_exporter": "python",
   "pygments_lexer": "ipython3",
   "version": "3.10.0"
  }
 },
 "nbformat": 4,
 "nbformat_minor": 4
}
