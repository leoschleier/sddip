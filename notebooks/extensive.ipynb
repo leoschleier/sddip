{
 "cells": [
  {
   "cell_type": "markdown",
   "metadata": {},
   "source": [
    "# Multistage Stochastic Unit Commitment Problem"
   ]
  },
  {
   "cell_type": "code",
   "execution_count": 66,
   "metadata": {},
   "outputs": [],
   "source": [
    "import sys\n",
    "sys.path.append('../sddip')"
   ]
  },
  {
   "cell_type": "code",
   "execution_count": 67,
   "metadata": {},
   "outputs": [],
   "source": [
    "import os\n",
    "import numpy as np\n",
    "import pandas as pd\n",
    "import gurobipy as gp\n",
    "from scipy import stats, linalg\n",
    "\n",
    "import sddip.config as config\n",
    "import sddip.storage as storage\n",
    "import sddip.utils as utils\n",
    "import sddip.dualsolver as dualsolver\n",
    "import sddip.ucmodel as ucmodel\n"
   ]
  },
  {
   "cell_type": "markdown",
   "metadata": {},
   "source": [
    "## Parameters"
   ]
  },
  {
   "cell_type": "code",
   "execution_count": 68,
   "metadata": {},
   "outputs": [],
   "source": [
    "test_case_raw_dir = \"WB2/raw\"\n",
    "\n",
    "test_case_raw_dir = os.path.join(config.test_cases_dir, test_case_raw_dir)\n",
    "\n",
    "bus_file_raw = os.path.join(test_case_raw_dir, \"bus_data.txt\")\n",
    "branch_file_raw = os.path.join(test_case_raw_dir, \"branch_data.txt\")\n",
    "gen_file_raw = os.path.join(test_case_raw_dir, \"gen_data.txt\")\n",
    "gen_cost_file_raw = os.path.join(test_case_raw_dir, \"gen_cost_data.txt\")\n",
    "scenario_data_file = os.path.join(test_case_raw_dir, \"scenario_data.txt\")\n",
    "\n",
    "bus_df = pd.read_csv(bus_file_raw, delimiter=\"\\t\")\n",
    "branch_df = pd.read_csv(branch_file_raw, delimiter=\"\\t\")\n",
    "gen_df = pd.read_csv(gen_file_raw, delimiter=\"\\t\")\n",
    "gen_cost_df = pd.read_csv(gen_cost_file_raw, delimiter=\"\\t\")\n",
    "\n",
    "scenario_df = pd.read_csv(scenario_data_file, delimiter=\"\\t\")"
   ]
  },
  {
   "cell_type": "code",
   "execution_count": 69,
   "metadata": {},
   "outputs": [
    {
     "data": {
      "text/plain": [
       "array([[ 0., -1.]])"
      ]
     },
     "execution_count": 69,
     "metadata": {},
     "output_type": "execute_result"
    }
   ],
   "source": [
    "nodes = bus_df.bus_i.values.tolist()\n",
    "edges = branch_df[[\"fbus\", \"tbus\"]].values.tolist()\n",
    "\n",
    "graph = utils.Graph(nodes, edges)\n",
    "\n",
    "ref_bus = bus_df.loc[bus_df.type == 3].bus_i.values[0]\n",
    "\n",
    "a_inc = graph.incidence_matrix()\n",
    "b_l = (-branch_df.x /(branch_df.r**2 + branch_df.x**2)).tolist()\n",
    "b_diag = np.diag(b_l)\n",
    "\n",
    "m1 = b_diag.dot(a_inc)\n",
    "m2 = a_inc.T.dot(b_diag).dot(a_inc)\n",
    "\n",
    "m1 = np.delete(m1, ref_bus-1, 1)\n",
    "m2 = np.delete(m2, ref_bus-1, 0)\n",
    "m2 = np.delete(m2, ref_bus-1, 1)\n",
    "\n",
    "ptdf = m1.dot(np.linalg.inv(m2))\n",
    "\n",
    "zeros_col = np.zeros((1,ptdf.shape[1]))\n",
    "\n",
    "ptdf = np.insert(ptdf, ref_bus-1, zeros_col, axis=1)\n",
    "\n",
    "ptdf"
   ]
  },
  {
   "cell_type": "code",
   "execution_count": 70,
   "metadata": {},
   "outputs": [],
   "source": [
    "########################################################################################################################\n",
    "# Deterministic parameters\n",
    "########################################################################################################################\n",
    "gc = np.array(gen_cost_df.c1)\n",
    "suc = np.array(gen_cost_df.startup)\n",
    "sdc = np.array( gen_cost_df.startup)\n",
    "pg_min = np.array(gen_df.Pmin)\n",
    "pg_max = np.array(gen_df.Pmax)\n",
    "pl_max = np.array(branch_df.rateA)\n",
    "\n",
    "n_gens = len(gc)\n",
    "n_lines, n_buses = ptdf.shape\n",
    "\n",
    "# Lists of generators at each bus\n",
    "#\n",
    "# Example: [[0,1], [], [2]]\n",
    "# Generator 1 & 2 are located at bus 1\n",
    "# No Generator is located at bus 2\n",
    "# Generator 3 is located at bus 3\n",
    "gens_at_bus = [[] for _ in range(n_buses)]\n",
    "g = 0\n",
    "for b in gen_df.bus.values:\n",
    "    gens_at_bus[b-1].append(g)\n",
    "    g+=1\n",
    "\n",
    "# TODO Add ramp rate limits\n",
    "rg_up_max = np.full(n_gens, 1000)\n",
    "rg_down_max = np.full(n_gens, 1000)\n",
    "\n",
    "# TODO Adjust penalty\n",
    "penalty = 10000\n",
    "    \n",
    "########################################################################################################################\n",
    "# Stochastic parameters\n",
    "########################################################################################################################\n",
    "n_nodes_per_stage = scenario_df.groupby(\"t\")[\"n\"].nunique().tolist()\n",
    "n_stages = len(n_nodes_per_stage)\n",
    "\n",
    "prob = []\n",
    "p_d = []\n",
    "\n",
    "for t in range(n_stages):\n",
    "    stage_df = scenario_df[scenario_df[\"t\"] == t+1]\n",
    "    p_d.append(stage_df[scenario_df.columns[scenario_df.columns.to_series().str.contains('Pd')]].values.tolist())\n",
    "    prob.append(stage_df[\"p\"].values.tolist())\n",
    "\n",
    "\n",
    "########################################################################################################################\n",
    "# Expected values of stochastic parameters\n",
    "########################################################################################################################\n",
    "ex_pd = [np.array(prob[t]).dot(np.array(p_d[t])) for t in range(n_stages)]"
   ]
  },
  {
   "cell_type": "code",
   "execution_count": 71,
   "metadata": {},
   "outputs": [
    {
     "data": {
      "text/plain": [
       "[[1.0], [0.5, 0.5]]"
      ]
     },
     "execution_count": 71,
     "metadata": {},
     "output_type": "execute_result"
    }
   ],
   "source": [
    "# prob[t][n]\n",
    "# Probability of realization n at stage t\n",
    "prob"
   ]
  },
  {
   "cell_type": "code",
   "execution_count": 72,
   "metadata": {},
   "outputs": [
    {
     "data": {
      "text/plain": [
       "[[[0, 350]], [[0, 300], [0, 200]]]"
      ]
     },
     "execution_count": 72,
     "metadata": {},
     "output_type": "execute_result"
    }
   ],
   "source": [
    "# p_d[t][n][b]\n",
    "# Demand in stage t and realization n at bus b\n",
    "p_d"
   ]
  },
  {
   "cell_type": "code",
   "execution_count": 73,
   "metadata": {},
   "outputs": [
    {
     "data": {
      "text/plain": [
       "[array([  0., 350.]), array([  0., 250.])]"
      ]
     },
     "execution_count": 73,
     "metadata": {},
     "output_type": "execute_result"
    }
   ],
   "source": [
    "# ex_pd[t][b]\n",
    "# Expected demand in stage t at bus b\n",
    "ex_pd"
   ]
  },
  {
   "cell_type": "markdown",
   "metadata": {},
   "source": [
    "## Optimization"
   ]
  },
  {
   "cell_type": "markdown",
   "metadata": {},
   "source": [
    "### Variables"
   ]
  },
  {
   "cell_type": "code",
   "execution_count": 74,
   "metadata": {},
   "outputs": [],
   "source": [
    "model = gp.Model(\"MSUC\")\n",
    "\n",
    "x = {}\n",
    "y = {}\n",
    "s_up = {}\n",
    "s_down = {}\n",
    "ys_p = {}\n",
    "ys_n = {}\n",
    "\n",
    "for t in range(n_stages):\n",
    "    for n in range(n_nodes_per_stage[t]):\n",
    "        for g in range(n_gens):\n",
    "            x[t,n,g] = model.addVar(vtype = gp.GRB.BINARY, name = f\"x_{t+1}_{n+1}_{g+1}\")\n",
    "            y[t,n,g] = model.addVar(vtype = gp.GRB.CONTINUOUS, lb = 0, name = f\"y_{t+1}_{n+1}_{g+1}\")\n",
    "            s_up[t,n,g] = model.addVar(vtype = gp.GRB.BINARY, name = f\"s_up_{t+1}_{n+1}_{g+1}\")\n",
    "            s_down[t,n,g] = model.addVar(vtype = gp.GRB.BINARY, name = f\"s_down_{t+1}_{n+1}_{g+1}\")\n",
    "        ys_p[t,n] = model.addVar(vtype = gp.GRB.CONTINUOUS, lb = 0, name = f\"ys_p_{t+1}_{n+1}\")\n",
    "        ys_n[t,n] = model.addVar(vtype = gp.GRB.CONTINUOUS, lb = 0, name = f\"ys_n_{t+1}_{n+1}\")\n",
    "\n",
    "model.update()"
   ]
  },
  {
   "cell_type": "markdown",
   "metadata": {},
   "source": [
    "### Constraints"
   ]
  },
  {
   "cell_type": "code",
   "execution_count": 75,
   "metadata": {},
   "outputs": [],
   "source": [
    "# Objective\n",
    "obj = gp.quicksum(prob[t][n]*(gc[g]*y[t,n,g] + suc[g]*s_up[t,n,g] + sdc[g]*s_down[t,n,g] + penalty*(ys_p[t,n] + ys_n[t,n])) \n",
    "                    for t in range(n_stages)\n",
    "                    for n in range(n_nodes_per_stage[t])\n",
    "                    for g in range(n_gens))\n",
    "\n",
    "model.setObjective(obj)\n",
    "\n",
    "\n",
    "# Balance constraints\n",
    "model.addConstrs((gp.quicksum(y[t,n,g] for g in range(n_gens)) + ys_p[t,n] - ys_n[t,n] == gp.quicksum(p_d[t][n])\n",
    "                    for t in range(n_stages)\n",
    "                    for n in range(n_nodes_per_stage[t])),                    \n",
    "                    \"balance\")\n",
    "\n",
    "\n",
    "# Generator constraints\n",
    "model.addConstrs((y[t,n,g] >= pg_min[g] \n",
    "                    for g in range(n_gens)\n",
    "                    for t in range(n_stages) \n",
    "                    for n in range(n_nodes_per_stage[t])),\n",
    "                    \"min-generation\")\n",
    "\n",
    "model.addConstrs((y[t,n,g] <= pg_max[g] \n",
    "                    for g in range(n_gens)\n",
    "                    for t in range(n_stages) \n",
    "                    for n in range(n_nodes_per_stage[t])),\n",
    "                    \"max-generation\")\n",
    "\n",
    "\n",
    "# Power flow constraints\n",
    "for t in range(n_stages):\n",
    "    for n in range(n_nodes_per_stage[t]):\n",
    "        line_flows = [gp.quicksum(ptdf[l,b] * (gp.quicksum(y[t,n,g] for g in gens_at_bus[b]) - p_d[t][n][b])\n",
    "                        for b in range(n_buses)) for l in range(n_lines)]\n",
    "        model.addConstrs((line_flows[l] <= pl_max[l] for l in range(n_lines)), \"power-flow(1)\")\n",
    "        model.addConstrs((-line_flows[l] <= pl_max[l] for l in range(n_lines)), \"power-flow(2)\")\n",
    "\n",
    "\n",
    "# Startup shutdown constraints\n",
    "# t=0\n",
    "x_init = [0]*n_gens\n",
    "model.addConstrs((x[0,0,g] - x_init[g] <= s_up[0,0,g] for g in range(n_gens)), \"up-down(1)\")\n",
    "model.addConstrs((x[0,0,g] - x_init[g] <= s_up[0,0,g] - s_down[0,0,g] for g in range(n_gens)), \"up-down(2)\")\n",
    "# t>0\n",
    "for t in range(1,n_stages):\n",
    "    for n in range(n_nodes_per_stage[t]):\n",
    "        model.addConstrs((x[t,n,g] - x[t-1,n_prev,g] <= s_up[t,n,g] \n",
    "                        for g in range(n_gens) \n",
    "                        for n_prev in range(n_nodes_per_stage[t-1])), \n",
    "                        \"up-down(1)\")\n",
    "        model.addConstrs((x[t,n,g] - x[t-1,n_prev,g] <= s_up[t,n,g] - s_down[t,n,g] \n",
    "                        for g in range(n_gens)\n",
    "                        for n_prev in range(n_nodes_per_stage[t-1])), \n",
    "                        \"up-down(2)\")\n",
    "\n",
    "\n",
    "# Ramp rate constraints\n",
    "# t=0\n",
    "y_init = [0]*n_gens\n",
    "model.addConstrs((y[0,0,g] - y_init[g] <= rg_up_max[g] for g in range(n_gens)), \"rate-up\")\n",
    "model.addConstrs((y_init[g] - y[0,0,g] <= rg_down_max[g] for g in range(n_gens)), \"rate-down(2)\")\n",
    "# t>0\n",
    "for t in range(1,n_stages):\n",
    "    for n in range(n_nodes_per_stage[t]):\n",
    "        model.addConstrs((y[t,n,g] - y[t-1,n_prev,g] <= rg_up_max[g]\n",
    "                        for g in range(n_gens)\n",
    "                        for n_prev in range(n_nodes_per_stage[t-1])), \n",
    "                        \"rate-up\")\n",
    "        model.addConstrs((y[t-1,n_prev,g] - y[t,n,g] <= rg_down_max[g]\n",
    "                        for g in range(n_gens)\n",
    "                        for n_prev in range(n_nodes_per_stage[t-1])), \n",
    "                        \"rate-down\")\n",
    "\n",
    "model.update()"
   ]
  },
  {
   "cell_type": "markdown",
   "metadata": {},
   "source": [
    "### Solve"
   ]
  },
  {
   "cell_type": "code",
   "execution_count": 76,
   "metadata": {},
   "outputs": [
    {
     "name": "stdout",
     "output_type": "stream",
     "text": [
      "Gurobi Optimizer version 9.5.0 build v9.5.0rc5 (win64)\n",
      "Thread count: 8 physical cores, 16 logical processors, using up to 16 threads\n",
      "Optimize a model with 27 rows, 18 columns and 44 nonzeros\n",
      "Model fingerprint: 0x82ac71f4\n",
      "Variable types: 9 continuous, 9 integer (9 binary)\n",
      "Coefficient statistics:\n",
      "  Matrix range     [1e+00, 1e+00]\n",
      "  Objective range  [1e+00, 1e+04]\n",
      "  Bounds range     [1e+00, 1e+00]\n",
      "  RHS range        [2e+02, 1e+06]\n",
      "Presolve removed 27 rows and 18 columns\n",
      "Presolve time: 0.00s\n",
      "Presolve: All rows and columns removed\n",
      "\n",
      "Explored 0 nodes (0 simplex iterations) in 0.01 seconds (0.00 work units)\n",
      "Thread count was 1 (of 16 available processors)\n",
      "\n",
      "Solution count 1: 1200 \n",
      "\n",
      "Optimal solution found (tolerance 1.00e-04)\n",
      "Best objective 1.200000000000e+03, best bound 1.200000000000e+03, gap 0.0000%\n",
      "\n",
      "    Variable            X \n",
      "-------------------------\n",
      "     y_1_1_1          350 \n",
      "  s_up_1_1_1            1 \n",
      "     y_2_1_1          300 \n",
      "  s_up_2_1_1            1 \n",
      "     y_2_2_1          200 \n",
      "  s_up_2_2_1            1 \n"
     ]
    }
   ],
   "source": [
    "#model.setParam(\"OutputFlag\",0)\n",
    "\n",
    "model.optimize()\n",
    "\n",
    "#model.setParam(\"OutputFlag\",1)\n",
    "\n",
    "model.printAttr(\"X\")"
   ]
  }
 ],
 "metadata": {
  "interpreter": {
   "hash": "abe42ade3e87b4e6c3c5745962b526975dbcf6574cac0f27c7eb88f5d6f3bab5"
  },
  "kernelspec": {
   "display_name": "Python 3.10.0 64-bit ('optimization': conda)",
   "language": "python",
   "name": "python3"
  },
  "language_info": {
   "codemirror_mode": {
    "name": "ipython",
    "version": 3
   },
   "file_extension": ".py",
   "mimetype": "text/x-python",
   "name": "python",
   "nbconvert_exporter": "python",
   "pygments_lexer": "ipython3",
   "version": "3.10.0"
  },
  "orig_nbformat": 4
 },
 "nbformat": 4,
 "nbformat_minor": 2
}
