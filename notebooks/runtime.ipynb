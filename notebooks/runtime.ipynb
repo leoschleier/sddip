{
 "cells": [
  {
   "cell_type": "code",
   "execution_count": null,
   "metadata": {},
   "outputs": [],
   "source": []
  },
  {
   "cell_type": "code",
   "execution_count": null,
   "metadata": {},
   "outputs": [],
   "source": [
    "tags = {\n",
    "    \"s\": \"sampling\",\n",
    "    \"f\": \"forward_pass\",\n",
    "    \"u\": \"upper_bound\",\n",
    "    \"b\": \"backward_pass\",\n",
    "    \"l\": \"lower_bound\",\n",
    "}"
   ]
  }
 ],
 "metadata": {
  "language_info": {
   "name": "python"
  },
  "orig_nbformat": 4
 },
 "nbformat": 4,
 "nbformat_minor": 2
}
