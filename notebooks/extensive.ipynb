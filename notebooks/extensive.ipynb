{
 "cells": [
  {
   "cell_type": "markdown",
   "metadata": {},
   "source": [
    "# Multistage Stochastic Unit Commitment Problem"
   ]
  },
  {
   "cell_type": "code",
   "execution_count": 43,
   "metadata": {},
   "outputs": [],
   "source": [
    "import os\n",
    "import numpy as np\n",
    "import pandas as pd\n",
    "import gurobipy as gp\n",
    "from scipy import stats, linalg\n",
    "\n",
    "from sddip import config, utils\n"
   ]
  },
  {
   "cell_type": "markdown",
   "metadata": {},
   "source": [
    "## Parameters"
   ]
  },
  {
   "cell_type": "code",
   "execution_count": 44,
   "metadata": {},
   "outputs": [],
   "source": [
    "test_case_raw_dir = \"WB3/raw\"\n",
    "\n",
    "test_case_raw_dir = os.path.join(config.test_cases_dir, test_case_raw_dir)\n",
    "\n",
    "bus_file_raw = os.path.join(test_case_raw_dir, \"bus_data.txt\")\n",
    "branch_file_raw = os.path.join(test_case_raw_dir, \"branch_data.txt\")\n",
    "gen_file_raw = os.path.join(test_case_raw_dir, \"gen_data.txt\")\n",
    "gen_cost_file_raw = os.path.join(test_case_raw_dir, \"gen_cost_data.txt\")\n",
    "scenario_data_file = os.path.join(test_case_raw_dir, \"scenario_data.txt\")\n",
    "\n",
    "bus_df = pd.read_csv(bus_file_raw, delimiter=\"\\s+\")\n",
    "branch_df = pd.read_csv(branch_file_raw, delimiter=\"\\s+\")\n",
    "gen_df = pd.read_csv(gen_file_raw, delimiter=\"\\s+\")\n",
    "gen_cost_df = pd.read_csv(gen_cost_file_raw, delimiter=\"\\s+\")\n",
    "\n",
    "scenario_df = pd.read_csv(scenario_data_file, delimiter=\"\\s+\")"
   ]
  },
  {
   "cell_type": "code",
   "execution_count": 45,
   "metadata": {},
   "outputs": [
    {
     "data": {
      "text/plain": [
       "array([[ 0.00000000e+00, -1.00000000e+00, -1.00000000e+00],\n",
       "       [ 0.00000000e+00, -1.86387445e-16, -1.00000000e+00]])"
      ]
     },
     "execution_count": 45,
     "metadata": {},
     "output_type": "execute_result"
    }
   ],
   "source": [
    "nodes = bus_df.bus_i.values.tolist()\n",
    "edges = branch_df[[\"fbus\", \"tbus\"]].values.tolist()\n",
    "\n",
    "graph = utils.Graph(nodes, edges)\n",
    "\n",
    "ref_bus = bus_df.loc[bus_df.type == 3].bus_i.values[0]\n",
    "\n",
    "a_inc = graph.incidence_matrix()\n",
    "b_l = (-branch_df.x /(branch_df.r**2 + branch_df.x**2)).tolist()\n",
    "b_diag = np.diag(b_l)\n",
    "\n",
    "m1 = b_diag.dot(a_inc)\n",
    "m2 = a_inc.T.dot(b_diag).dot(a_inc)\n",
    "\n",
    "m1 = np.delete(m1, ref_bus-1, 1)\n",
    "m2 = np.delete(m2, ref_bus-1, 0)\n",
    "m2 = np.delete(m2, ref_bus-1, 1)\n",
    "\n",
    "ptdf = m1.dot(np.linalg.inv(m2))\n",
    "\n",
    "zeros_col = np.zeros((1,ptdf.shape[1]))\n",
    "\n",
    "ptdf = np.insert(ptdf, ref_bus-1, zeros_col, axis=1)\n",
    "\n",
    "ptdf"
   ]
  },
  {
   "cell_type": "code",
   "execution_count": 46,
   "metadata": {},
   "outputs": [],
   "source": [
    "########################################################################################################################\n",
    "# Deterministic parameters\n",
    "########################################################################################################################\n",
    "gc = np.array(gen_cost_df.c1)\n",
    "suc = np.array(gen_cost_df.startup)\n",
    "sdc = np.array( gen_cost_df.startup)\n",
    "pg_min = np.array(gen_df.Pmin)\n",
    "pg_max = np.array(gen_df.Pmax)\n",
    "pl_max = np.array(branch_df.rateA)\n",
    "\n",
    "n_gens = len(gc)\n",
    "n_lines, n_buses = ptdf.shape\n",
    "\n",
    "# Lists of generators at each bus\n",
    "#\n",
    "# Example: [[0,1], [], [2]]\n",
    "# Generator 1 & 2 are located at bus 1\n",
    "# No Generator is located at bus 2\n",
    "# Generator 3 is located at bus 3\n",
    "gens_at_bus = [[] for _ in range(n_buses)]\n",
    "g = 0\n",
    "for b in gen_df.bus.values:\n",
    "    gens_at_bus[b-1].append(g)\n",
    "    g+=1\n",
    "\n",
    "# TODO Add ramp rate limits\n",
    "rg_up_max = np.full(n_gens, 1000)\n",
    "rg_down_max = np.full(n_gens, 1000)\n",
    "\n",
    "# TODO Adjust penalty\n",
    "penalty = 10000\n",
    "    \n",
    "########################################################################################################################\n",
    "# Stochastic parameters\n",
    "########################################################################################################################\n",
    "n_nodes_per_stage = scenario_df.groupby(\"t\")[\"n\"].nunique().tolist()\n",
    "n_stages = len(n_nodes_per_stage)\n",
    "\n",
    "prob = []\n",
    "p_d = []\n",
    "\n",
    "for t in range(n_stages):\n",
    "    stage_df = scenario_df[scenario_df[\"t\"] == t+1]\n",
    "    p_d.append(stage_df[scenario_df.columns[scenario_df.columns.to_series().str.contains('Pd')]].values.tolist())\n",
    "    prob.append(stage_df[\"p\"].values.tolist())\n",
    "\n",
    "\n",
    "########################################################################################################################\n",
    "# Expected values of stochastic parameters\n",
    "########################################################################################################################\n",
    "ex_pd = [np.array(prob[t]).dot(np.array(p_d[t])) for t in range(n_stages)]"
   ]
  },
  {
   "cell_type": "code",
   "execution_count": 47,
   "metadata": {},
   "outputs": [
    {
     "data": {
      "text/plain": [
       "array([[ 0.00000000e+00, -1.00000000e+00, -1.00000000e+00],\n",
       "       [ 0.00000000e+00, -1.86387445e-16, -1.00000000e+00]])"
      ]
     },
     "execution_count": 47,
     "metadata": {},
     "output_type": "execute_result"
    }
   ],
   "source": [
    "ptdf"
   ]
  },
  {
   "cell_type": "code",
   "execution_count": 48,
   "metadata": {},
   "outputs": [
    {
     "data": {
      "text/plain": [
       "[[0], [], []]"
      ]
     },
     "execution_count": 48,
     "metadata": {},
     "output_type": "execute_result"
    }
   ],
   "source": [
    "gens_at_bus"
   ]
  },
  {
   "cell_type": "code",
   "execution_count": 49,
   "metadata": {},
   "outputs": [
    {
     "data": {
      "text/plain": [
       "[[1.0], [0.5, 0.5], [0.5, 0.5]]"
      ]
     },
     "execution_count": 49,
     "metadata": {},
     "output_type": "execute_result"
    }
   ],
   "source": [
    "# prob[t][n]\n",
    "# Probability of realization n at stage t\n",
    "prob"
   ]
  },
  {
   "cell_type": "code",
   "execution_count": 50,
   "metadata": {},
   "outputs": [
    {
     "data": {
      "text/plain": [
       "[[[0.0, 62.32083260934583, 34.305091739820405]],\n",
       " [[0.0, 120.02999105714431, 68.8178383561837],\n",
       "  [0.0, 131.97491816753634, 68.15322777275095]],\n",
       " [[0.0, 127.01202751854132, 65.64150717257031],\n",
       "  [0.0, 130.3279223545401, 69.6940248570091]]]"
      ]
     },
     "execution_count": 50,
     "metadata": {},
     "output_type": "execute_result"
    }
   ],
   "source": [
    "# p_d[t][n][b]\n",
    "# Demand in stage t and realization n at bus b\n",
    "p_d"
   ]
  },
  {
   "cell_type": "code",
   "execution_count": 51,
   "metadata": {},
   "outputs": [
    {
     "data": {
      "text/plain": [
       "[array([ 0.        , 62.32083261, 34.30509174]),\n",
       " array([  0.        , 126.00245461,  68.48553306]),\n",
       " array([  0.        , 128.66997494,  67.66776601])]"
      ]
     },
     "execution_count": 51,
     "metadata": {},
     "output_type": "execute_result"
    }
   ],
   "source": [
    "# ex_pd[t][b]\n",
    "# Expected demand in stage t at bus b\n",
    "ex_pd"
   ]
  },
  {
   "cell_type": "markdown",
   "metadata": {},
   "source": [
    "## Optimization"
   ]
  },
  {
   "cell_type": "markdown",
   "metadata": {},
   "source": [
    "### Variables"
   ]
  },
  {
   "cell_type": "code",
   "execution_count": 52,
   "metadata": {},
   "outputs": [],
   "source": [
    "model = gp.Model(\"MSUC\")\n",
    "\n",
    "x = {}\n",
    "y = {}\n",
    "s_up = {}\n",
    "s_down = {}\n",
    "ys_p = {}\n",
    "ys_n = {}\n",
    "\n",
    "# TODO Set startup and shutdown costs\n",
    "# suc = [10]*n_gens\n",
    "# sdc = [10]*n_gens\n",
    "\n",
    "for t in range(n_stages):\n",
    "    for n in range(n_nodes_per_stage[t]):\n",
    "        for g in range(n_gens):\n",
    "            x[t,n,g] = model.addVar(vtype = gp.GRB.BINARY, name = f\"x_{t+1}_{n+1}_{g+1}\")\n",
    "            y[t,n,g] = model.addVar(vtype = gp.GRB.CONTINUOUS, lb = 0, name = f\"y_{t+1}_{n+1}_{g+1}\")\n",
    "            s_up[t,n,g] = model.addVar(vtype = gp.GRB.BINARY, name = f\"s_up_{t+1}_{n+1}_{g+1}\")\n",
    "            s_down[t,n,g] = model.addVar(vtype = gp.GRB.BINARY, name = f\"s_down_{t+1}_{n+1}_{g+1}\")\n",
    "        ys_p[t,n] = model.addVar(vtype = gp.GRB.CONTINUOUS, lb = 0, name = f\"ys_p_{t+1}_{n+1}\")\n",
    "        ys_n[t,n] = model.addVar(vtype = gp.GRB.CONTINUOUS, lb = 0, name = f\"ys_n_{t+1}_{n+1}\")\n",
    "\n",
    "model.update()"
   ]
  },
  {
   "cell_type": "markdown",
   "metadata": {},
   "source": [
    "### Constraints"
   ]
  },
  {
   "cell_type": "code",
   "execution_count": 53,
   "metadata": {},
   "outputs": [
    {
     "name": "stdout",
     "output_type": "stream",
     "text": [
      "Minimize\n",
      "<gurobi.LinExpr: 2.0 y_1_1_1 + 10000.0 ys_p_1_1 + 10000.0 ys_n_1_1 + y_2_1_1\n",
      "+ 5000.0 ys_p_2_1 + 5000.0 ys_n_2_1 + y_2_2_1 + 5000.0 ys_p_2_2 + 5000.0 ys_n_2_2\n",
      "+ y_3_1_1 + 5000.0 ys_p_3_1 + 5000.0 ys_n_3_1 + y_3_2_1 + 5000.0 ys_p_3_2\n",
      "+ 5000.0 ys_n_3_2>\n",
      "Subject To\n",
      "  balance[0,0]: <gurobi.LinExpr: y_1_1_1 + ys_p_1_1 + -1.0 ys_n_1_1> = 96.6259\n",
      "  balance[1,0]: <gurobi.LinExpr: y_2_1_1 + ys_p_2_1 + -1.0 ys_n_2_1> = 188.848\n",
      "  balance[1,1]: <gurobi.LinExpr: y_2_2_1 + ys_p_2_2 + -1.0 ys_n_2_2> = 200.128\n",
      "  balance[2,0]: <gurobi.LinExpr: y_3_1_1 + ys_p_3_1 + -1.0 ys_n_3_1> = 192.654\n",
      "  balance[2,1]: <gurobi.LinExpr: y_3_2_1 + ys_p_3_2 + -1.0 ys_n_3_2> = 200.022\n",
      "  min-generation[0,0,0]: <gurobi.LinExpr: y_1_1_1> >= 0\n",
      "  min-generation[0,1,0]: <gurobi.LinExpr: y_2_1_1> >= 0\n",
      "  min-generation[0,1,1]: <gurobi.LinExpr: y_2_2_1> >= 0\n",
      "  min-generation[0,2,0]: <gurobi.LinExpr: y_3_1_1> >= 0\n",
      "  min-generation[0,2,1]: <gurobi.LinExpr: y_3_2_1> >= 0\n",
      "  max-generation[0,0,0]: <gurobi.LinExpr: -5000.0 x_1_1_1 + y_1_1_1> <= 0\n",
      "  max-generation[0,1,0]: <gurobi.LinExpr: -5000.0 x_2_1_1 + y_2_1_1> <= 0\n",
      "  max-generation[0,1,1]: <gurobi.LinExpr: -5000.0 x_2_2_1 + y_2_2_1> <= 0\n",
      "  max-generation[0,2,0]: <gurobi.LinExpr: -5000.0 x_3_1_1 + y_3_1_1> <= 0\n",
      "  max-generation[0,2,1]: <gurobi.LinExpr: -5000.0 x_3_2_1 + y_3_2_1> <= 0\n",
      "  power-flow(1)[0]: <gurobi.LinExpr: 0.0> <= 989903\n",
      "  power-flow(1)[1]: <gurobi.LinExpr: 0.0> <= 989966\n",
      "  power-flow(2)[0]: <gurobi.LinExpr: 0.0> <= 990097\n",
      "  power-flow(2)[1]: <gurobi.LinExpr: 0.0> <= 990034\n",
      "  power-flow(1)[0]: <gurobi.LinExpr: 0.0> <= 989811\n",
      "  power-flow(1)[1]: <gurobi.LinExpr: 0.0> <= 989931\n",
      "  power-flow(2)[0]: <gurobi.LinExpr: 0.0> <= 990189\n",
      "  power-flow(2)[1]: <gurobi.LinExpr: 0.0> <= 990069\n",
      "  power-flow(1)[0]: <gurobi.LinExpr: 0.0> <= 989800\n",
      "  power-flow(1)[1]: <gurobi.LinExpr: 0.0> <= 989932\n",
      "  power-flow(2)[0]: <gurobi.LinExpr: 0.0> <= 990200\n",
      "  power-flow(2)[1]: <gurobi.LinExpr: 0.0> <= 990068\n",
      "  power-flow(1)[0]: <gurobi.LinExpr: 0.0> <= 989807\n",
      "  power-flow(1)[1]: <gurobi.LinExpr: 0.0> <= 989934\n",
      "  power-flow(2)[0]: <gurobi.LinExpr: 0.0> <= 990193\n",
      "  power-flow(2)[1]: <gurobi.LinExpr: 0.0> <= 990066\n",
      "  power-flow(1)[0]: <gurobi.LinExpr: 0.0> <= 989800\n",
      "  power-flow(1)[1]: <gurobi.LinExpr: 0.0> <= 989930\n",
      "  power-flow(2)[0]: <gurobi.LinExpr: 0.0> <= 990200\n",
      "  power-flow(2)[1]: <gurobi.LinExpr: 0.0> <= 990070\n",
      "  up-down(1)[0]: <gurobi.LinExpr: x_1_1_1 + -1.0 s_up_1_1_1> <= 0\n",
      "  up-down(2)[0]: <gurobi.LinExpr: x_1_1_1 + -1.0 s_up_1_1_1 + s_down_1_1_1> = 0\n",
      "  up-down(1)[0,0]: <gurobi.LinExpr: -1.0 x_1_1_1 + x_2_1_1 + -1.0 s_up_2_1_1> <= 0\n",
      "up-down(2)[0,0]: <gurobi.LinExpr: -1.0 x_1_1_1 + x_2_1_1 + -1.0 s_up_2_1_1 +\n",
      " s_down_2_1_1> <= 0\n",
      "  up-down(1)[0,0]: <gurobi.LinExpr: -1.0 x_1_1_1 + x_2_2_1 + -1.0 s_up_2_2_1> <= 0\n",
      "up-down(2)[0,0]: <gurobi.LinExpr: -1.0 x_1_1_1 + x_2_2_1 + -1.0 s_up_2_2_1 +\n",
      " s_down_2_2_1> <= 0\n",
      "  up-down(1)[0,0]: <gurobi.LinExpr: -1.0 x_2_1_1 + x_3_1_1 + -1.0 s_up_3_1_1> <= 0\n",
      "  up-down(1)[0,1]: <gurobi.LinExpr: -1.0 x_2_2_1 + x_3_1_1 + -1.0 s_up_3_1_1> <= 0\n",
      "up-down(2)[0,0]: <gurobi.LinExpr: -1.0 x_2_1_1 + x_3_1_1 + -1.0 s_up_3_1_1 +\n",
      " s_down_3_1_1> <= 0\n",
      "up-down(2)[0,1]: <gurobi.LinExpr: -1.0 x_2_2_1 + x_3_1_1 + -1.0 s_up_3_1_1 +\n",
      " s_down_3_1_1> <= 0\n",
      "  up-down(1)[0,0]: <gurobi.LinExpr: -1.0 x_2_1_1 + x_3_2_1 + -1.0 s_up_3_2_1> <= 0\n",
      "  up-down(1)[0,1]: <gurobi.LinExpr: -1.0 x_2_2_1 + x_3_2_1 + -1.0 s_up_3_2_1> <= 0\n",
      "up-down(2)[0,0]: <gurobi.LinExpr: -1.0 x_2_1_1 + x_3_2_1 + -1.0 s_up_3_2_1 +\n",
      " s_down_3_2_1> <= 0\n",
      "up-down(2)[0,1]: <gurobi.LinExpr: -1.0 x_2_2_1 + x_3_2_1 + -1.0 s_up_3_2_1 +\n",
      " s_down_3_2_1> <= 0\n",
      "  rate-up[0]: <gurobi.LinExpr: y_1_1_1> <= 1000\n",
      "  rate-down(2)[0]: <gurobi.LinExpr: -1.0 y_1_1_1> <= 1000\n",
      "  rate-up[0,0]: <gurobi.LinExpr: -1.0 y_1_1_1 + y_2_1_1> <= 1000\n",
      "  rate-down[0,0]: <gurobi.LinExpr: y_1_1_1 + -1.0 y_2_1_1> <= 1000\n",
      "  rate-up[0,0]: <gurobi.LinExpr: -1.0 y_1_1_1 + y_2_2_1> <= 1000\n",
      "  rate-down[0,0]: <gurobi.LinExpr: y_1_1_1 + -1.0 y_2_2_1> <= 1000\n",
      "  rate-up[0,0]: <gurobi.LinExpr: -1.0 y_2_1_1 + y_3_1_1> <= 1000\n",
      "  rate-up[0,1]: <gurobi.LinExpr: -1.0 y_2_2_1 + y_3_1_1> <= 1000\n",
      "  rate-down[0,0]: <gurobi.LinExpr: y_2_1_1 + -1.0 y_3_1_1> <= 1000\n",
      "  rate-down[0,1]: <gurobi.LinExpr: y_2_2_1 + -1.0 y_3_1_1> <= 1000\n",
      "  rate-up[0,0]: <gurobi.LinExpr: -1.0 y_2_1_1 + y_3_2_1> <= 1000\n",
      "  rate-up[0,1]: <gurobi.LinExpr: -1.0 y_2_2_1 + y_3_2_1> <= 1000\n",
      "  rate-down[0,0]: <gurobi.LinExpr: y_2_1_1 + -1.0 y_3_2_1> <= 1000\n",
      "  rate-down[0,1]: <gurobi.LinExpr: y_2_2_1 + -1.0 y_3_2_1> <= 1000\n",
      "Binaries\n",
      "['x_1_1_1', 's_up_1_1_1', 's_down_1_1_1', 'x_2_1_1', 's_up_2_1_1', 's_down_2_1_1',\n",
      "'x_2_2_1', 's_up_2_2_1', 's_down_2_2_1', 'x_3_1_1', 's_up_3_1_1', 's_down_3_1_1',\n",
      " 'x_3_2_1', 's_up_3_2_1', 's_down_3_2_1']\n"
     ]
    }
   ],
   "source": [
    "# Objective\n",
    "obj = gp.quicksum(prob[t][n]*(gc[g]*y[t,n,g] + suc[g]*s_up[t,n,g] + sdc[g]*s_down[t,n,g] + penalty*(ys_p[t,n] + ys_n[t,n])) \n",
    "                    for t in range(n_stages)\n",
    "                    for n in range(n_nodes_per_stage[t])\n",
    "                    for g in range(n_gens))\n",
    "\n",
    "model.setObjective(obj)\n",
    "\n",
    "\n",
    "# Balance constraints\n",
    "model.addConstrs((gp.quicksum(y[t,n,g] for g in range(n_gens)) + ys_p[t,n] - ys_n[t,n] == gp.quicksum(p_d[t][n])\n",
    "                    for t in range(n_stages)\n",
    "                    for n in range(n_nodes_per_stage[t])),                    \n",
    "                    \"balance\")\n",
    "\n",
    "\n",
    "# Generator constraints\n",
    "model.addConstrs((y[t,n,g] >= pg_min[g]*x[t,n,g] \n",
    "                    for g in range(n_gens)\n",
    "                    for t in range(n_stages) \n",
    "                    for n in range(n_nodes_per_stage[t])),\n",
    "                    \"min-generation\")\n",
    "\n",
    "model.addConstrs((y[t,n,g] <= pg_max[g]*x[t,n,g]  \n",
    "                    for g in range(n_gens)\n",
    "                    for t in range(n_stages) \n",
    "                    for n in range(n_nodes_per_stage[t])),\n",
    "                    \"max-generation\")\n",
    "\n",
    "\n",
    "# Power flow constraints\n",
    "for t in range(n_stages):\n",
    "    for n in range(n_nodes_per_stage[t]):\n",
    "        line_flows = [gp.quicksum(ptdf[l,b] * (gp.quicksum(y[t,n,g] for g in gens_at_bus[b]) - p_d[t][n][b])\n",
    "                        for b in range(n_buses)) for l in range(n_lines)]\n",
    "        model.addConstrs((line_flows[l] <= pl_max[l] for l in range(n_lines)), \"power-flow(1)\")\n",
    "        model.addConstrs((-line_flows[l] <= pl_max[l] for l in range(n_lines)), \"power-flow(2)\")\n",
    "\n",
    "\n",
    "# Startup shutdown constraints\n",
    "# t=0\n",
    "x_init = [0]*n_gens\n",
    "model.addConstrs((x[0,0,g] - x_init[g] <= s_up[0,0,g] for g in range(n_gens)), \"up-down(1)\")\n",
    "model.addConstrs((x[0,0,g] - x_init[g] == s_up[0,0,g] - s_down[0,0,g] for g in range(n_gens)), \"up-down(2)\")\n",
    "# t>0\n",
    "for t in range(1,n_stages):\n",
    "    for n in range(n_nodes_per_stage[t]):\n",
    "        model.addConstrs((x[t,n,g] - x[t-1,n_prev,g] <= s_up[t,n,g] \n",
    "                        for g in range(n_gens) \n",
    "                        for n_prev in range(n_nodes_per_stage[t-1])), \n",
    "                        \"up-down(1)\")\n",
    "        model.addConstrs((x[t,n,g] - x[t-1,n_prev,g] <= s_up[t,n,g] - s_down[t,n,g] \n",
    "                        for g in range(n_gens)\n",
    "                        for n_prev in range(n_nodes_per_stage[t-1])), \n",
    "                        \"up-down(2)\")\n",
    "\n",
    "\n",
    "# Ramp rate constraints\n",
    "# t=0\n",
    "y_init = [0]*n_gens\n",
    "model.addConstrs((y[0,0,g] - y_init[g] <= rg_up_max[g] for g in range(n_gens)), \"rate-up\")\n",
    "model.addConstrs((y_init[g] - y[0,0,g] <= rg_down_max[g] for g in range(n_gens)), \"rate-down(2)\")\n",
    "# t>0\n",
    "for t in range(1,n_stages):\n",
    "    for n in range(n_nodes_per_stage[t]):\n",
    "        model.addConstrs((y[t,n,g] - y[t-1,n_prev,g] <= rg_up_max[g]\n",
    "                        for g in range(n_gens)\n",
    "                        for n_prev in range(n_nodes_per_stage[t-1])), \n",
    "                        \"rate-up\")\n",
    "        model.addConstrs((y[t-1,n_prev,g] - y[t,n,g] <= rg_down_max[g]\n",
    "                        for g in range(n_gens)\n",
    "                        for n_prev in range(n_nodes_per_stage[t-1])), \n",
    "                        \"rate-down\")\n",
    "\n",
    "model.update()\n",
    "model.display()"
   ]
  },
  {
   "cell_type": "code",
   "execution_count": 54,
   "metadata": {},
   "outputs": [
    {
     "name": "stdout",
     "output_type": "stream",
     "text": [
      "[<gurobi.LinExpr: 200.02194721154922 + 0.0 y_3_2_1>, <gurobi.LinExpr: 69.69402485700913 + 0.0 y_3_2_1>]\n"
     ]
    }
   ],
   "source": [
    "print(line_flows)"
   ]
  },
  {
   "cell_type": "markdown",
   "metadata": {},
   "source": [
    "### Solve"
   ]
  },
  {
   "cell_type": "code",
   "execution_count": 55,
   "metadata": {},
   "outputs": [
    {
     "name": "stdout",
     "output_type": "stream",
     "text": [
      "Gurobi Optimizer version 9.5.0 build v9.5.0rc5 (win64)\n",
      "Thread count: 8 physical cores, 16 logical processors, using up to 16 threads\n",
      "Optimize a model with 63 rows, 30 columns and 103 nonzeros\n",
      "Model fingerprint: 0xbab5a2f1\n",
      "Variable types: 15 continuous, 15 integer (15 binary)\n",
      "Coefficient statistics:\n",
      "  Matrix range     [1e+00, 5e+03]\n",
      "  Objective range  [1e+00, 1e+04]\n",
      "  Bounds range     [1e+00, 1e+00]\n",
      "  RHS range        [1e+02, 1e+06]\n",
      "Found heuristic solution: objective 4874516.5298\n",
      "Presolve removed 48 rows and 20 columns\n",
      "Presolve time: 0.00s\n",
      "Presolved: 15 rows, 10 columns, 30 nonzeros\n",
      "Found heuristic solution: objective 974.9033060\n",
      "Variable types: 10 continuous, 0 integer (0 binary)\n",
      "\n",
      "Root relaxation: cutoff, 0 iterations, 0.00 seconds (0.00 work units)\n",
      "\n",
      "Explored 1 nodes (0 simplex iterations) in 0.01 seconds (0.00 work units)\n",
      "Thread count was 16 (of 16 available processors)\n",
      "\n",
      "Solution count 2: 974.903 4.87452e+06 \n",
      "\n",
      "Optimal solution found (tolerance 1.00e-04)\n",
      "Best objective 9.749033059673e+02, best bound 9.749033059673e+02, gap 0.0000%\n",
      "\n",
      "    Variable            X \n",
      "-------------------------\n",
      "     x_1_1_1            1 \n",
      "     y_1_1_1      96.6259 \n",
      "  s_up_1_1_1            1 \n",
      "     x_2_1_1            1 \n",
      "     y_2_1_1      188.848 \n",
      "  s_up_2_1_1            1 \n",
      "     x_2_2_1            1 \n",
      "     y_2_2_1      200.128 \n",
      "  s_up_2_2_1            1 \n",
      "     x_3_1_1            1 \n",
      "     y_3_1_1      192.654 \n",
      "  s_up_3_1_1            1 \n",
      "     x_3_2_1            1 \n",
      "     y_3_2_1      200.022 \n",
      "  s_up_3_2_1            1 \n",
      "Optimal value: 974.9033059672538\n"
     ]
    }
   ],
   "source": [
    "#model.setParam(\"OutputFlag\",0)\n",
    "\n",
    "model.optimize()\n",
    "\n",
    "#model.setParam(\"OutputFlag\",1)\n",
    "\n",
    "model.printAttr(\"X\")\n",
    "print(f\"Optimal value: {obj.getValue()}\")"
   ]
  },
  {
   "cell_type": "code",
   "execution_count": 56,
   "metadata": {},
   "outputs": [
    {
     "name": "stdout",
     "output_type": "stream",
     "text": [
      "Commitment decisions\n",
      "x[1,1,1]:  1.0\n",
      "x[2,1,1]:  1.0\n",
      "x[2,2,1]:  1.0\n",
      "x[3,1,1]:  1.0\n",
      "x[3,2,1]:  1.0\n",
      "Dispatch decisions\n",
      "y[1,1,1]:  96.62592434916598\n",
      "y[2,1,1]:  188.84782941332764\n",
      "y[2,2,1]:  200.1281459402869\n",
      "y[3,1,1]:  192.65353469111096\n",
      "y[3,2,1]:  200.02194721154865\n",
      "Startup decisions\n",
      "s_up[1,1,1]:  1.0\n",
      "s_up[2,1,1]:  1.0\n",
      "s_up[2,2,1]:  1.0\n",
      "s_up[3,1,1]:  1.0\n",
      "s_up[3,2,1]:  1.0\n",
      "Shutdown decisions\n",
      "s_down[1,1,1]:  0.0\n",
      "s_down[2,1,1]:  0.0\n",
      "s_down[2,2,1]:  0.0\n",
      "s_down[3,1,1]:  0.0\n",
      "s_down[3,2,1]:  0.0\n"
     ]
    }
   ],
   "source": [
    "x_out = [f\"x[{t+1},{n+1},{g+1}]:  {x[t,n,g].x}\" for t in range(n_stages) for n in range(n_nodes_per_stage[t]) for g in range(n_gens)]\n",
    "y_out = [f\"y[{t+1},{n+1},{g+1}]:  {y[t,n,g].x}\" for t in range(n_stages) for n in range(n_nodes_per_stage[t]) for g in range(n_gens)]\n",
    "s_up_out = [f\"s_up[{t+1},{n+1},{g+1}]:  {s_up[t,n,g].x}\" for t in range(n_stages) for n in range(n_nodes_per_stage[t]) for g in range(n_gens)]\n",
    "s_down_out = [f\"s_down[{t+1},{n+1},{g+1}]:  {s_down[t,n,g].x}\" for t in range(n_stages) for n in range(n_nodes_per_stage[t]) for g in range(n_gens)]\n",
    "\n",
    "print(\"Commitment decisions\")\n",
    "for text in x_out:\n",
    "    print(f\"{text}\")\n",
    "\n",
    "print(\"Dispatch decisions\")\n",
    "for text in y_out:\n",
    "    print(f\"{text}\")\n",
    "\n",
    "print(\"Startup decisions\")\n",
    "for text in s_up_out:\n",
    "    print(f\"{text}\")\n",
    "\n",
    "print(\"Shutdown decisions\")\n",
    "for text in s_down_out:\n",
    "    print(f\"{text}\")"
   ]
  }
 ],
 "metadata": {
  "interpreter": {
   "hash": "abe42ade3e87b4e6c3c5745962b526975dbcf6574cac0f27c7eb88f5d6f3bab5"
  },
  "kernelspec": {
   "display_name": "Python 3.10.0 64-bit ('optimization': conda)",
   "language": "python",
   "name": "python3"
  },
  "language_info": {
   "codemirror_mode": {
    "name": "ipython",
    "version": 3
   },
   "file_extension": ".py",
   "mimetype": "text/x-python",
   "name": "python",
   "nbconvert_exporter": "python",
   "pygments_lexer": "ipython3",
   "version": "3.10.0"
  },
  "orig_nbformat": 4
 },
 "nbformat": 4,
 "nbformat_minor": 2
}
