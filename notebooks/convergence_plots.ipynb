{
 "cells": [
  {
   "cell_type": "markdown",
   "metadata": {},
   "source": [
    "# Convergence Plots"
   ]
  },
  {
   "cell_type": "markdown",
   "metadata": {},
   "source": [
    "## Dependencies"
   ]
  },
  {
   "cell_type": "code",
   "execution_count": null,
   "metadata": {},
   "outputs": [],
   "source": [
    "import json  # noqa: EXE002\n",
    "import re\n",
    "import time\n",
    "from collections import defaultdict\n",
    "from collections.abc import Iterable\n",
    "from pathlib import Path\n",
    "from pprint import pprint\n",
    "\n",
    "import matplotlib.colors as mcolors\n",
    "import matplotlib.pyplot as plt\n",
    "import pandas as pd\n"
   ]
  },
  {
   "cell_type": "markdown",
   "metadata": {},
   "source": [
    "## Parameters"
   ]
  },
  {
   "cell_type": "code",
   "execution_count": null,
   "metadata": {},
   "outputs": [],
   "source": [
    "RESULTS_DIR: Path = Path() / \"..\" / \"data\" / \"02_results\"\n",
    "OUT_DIR: Path = (\n",
    "    Path() / \"..\" / \"data\" / f\"{time.strftime(\"%Y%m%d%H%M%S\")}_convergence\"\n",
    ")\n",
    "OUT_DIR.mkdir(exist_ok=True, parents=True)\n",
    "\n",
    "# Set alternative labels to be displayed in the plots' legends\n",
    "# This is supposed to map from result directory name to the label to be\n",
    "# displayed.\n",
    "# Example:\n",
    "# ALT_LABELS = {\n",
    "#   rdir.name: f\"Test_{i}\" for i, rdir in enumerate(RESULTS_DIR.iterdir())\n",
    "# }\n",
    "ALT_LABELS: dict[str, str] = {}"
   ]
  },
  {
   "cell_type": "markdown",
   "metadata": {},
   "source": [
    "## Locating Result Data"
   ]
  },
  {
   "cell_type": "code",
   "execution_count": null,
   "metadata": {},
   "outputs": [],
   "source": [
    "\n",
    "result_paths: dict[str, dict[str, Path]] = {}\n",
    "\n",
    "res = {\n",
    "    \"bounds\": \"bounds.csv\",\n",
    "    \"dual_solver\": \"dual_solver.csv\",\n",
    "    \"runtime\": \"runtime.json\",\n",
    "}\n",
    "\n",
    "for rdir in RESULTS_DIR.iterdir():\n",
    "    if not rdir.is_dir():\n",
    "        continue\n",
    "    result_paths[rdir.name] = {}\n",
    "    for k, v in res.items():\n",
    "        p = rdir / v\n",
    "        if not p.exists():\n",
    "            msg = f\"File {p} not found\"\n",
    "            raise FileNotFoundError(msg)\n",
    "        result_paths[rdir.name][k] = p\n",
    "\n",
    "def natural_sort(text: str) -> list[int | str]:\n",
    "    \"\"\"Sort alphanumerical strings naturally.\"\"\"\n",
    "    def a2i(_text: str) -> int | str:\n",
    "        return int(_text) if _text.isdigit() else _text\n",
    "    return [a2i(t) for t in re.split(r\"(\\d+)\", text)]\n",
    "\n",
    "result_paths = {\n",
    "    k: result_paths[k]\n",
    "    for k in sorted(result_paths.keys(), key=natural_sort)\n",
    "}\n",
    "\n",
    "pprint(result_paths)  # noqa: T203"
   ]
  },
  {
   "cell_type": "markdown",
   "metadata": {},
   "source": [
    "## Arrange Data"
   ]
  },
  {
   "cell_type": "code",
   "execution_count": null,
   "metadata": {},
   "outputs": [],
   "source": [
    "lagrange_markers = {}\n",
    "\n",
    "for label, paths in result_paths.items():\n",
    "    ds_path = paths.get(\"dual_solver\")\n",
    "    if ds_path:\n",
    "        ds_df = pd.read_csv(paths[\"dual_solver\"], sep=\"\\t\")\n",
    "        lagrange_markers[label] = list(ds_df.i.unique().tolist())\n",
    "    else:\n",
    "        lagrange_markers[label] = []"
   ]
  },
  {
   "cell_type": "code",
   "execution_count": null,
   "metadata": {},
   "outputs": [],
   "source": [
    "lower_bounds = {}\n",
    "lower_bounds_relative = {}\n",
    "\n",
    "for label, paths in result_paths.items():\n",
    "    bounds_df = pd.read_csv(paths[\"bounds\"], sep=\"\\t\")\n",
    "    ub = bounds_df[\"ub_r\"].array[-1]\n",
    "    lbs_abs = bounds_df[\"lb\"].tolist()\n",
    "    lbs_rel = bounds_df[\"lb\"].div(ub).tolist()\n",
    "    lbs_abs.pop()\n",
    "    lbs_rel.pop()\n",
    "    lower_bounds[label] = lbs_abs\n",
    "    lower_bounds_relative[label] = lbs_rel"
   ]
  },
  {
   "cell_type": "code",
   "execution_count": null,
   "metadata": {},
   "outputs": [],
   "source": [
    "runtimes = {}\n",
    "\n",
    "for label, paths in result_paths.items():\n",
    "    with paths[\"runtime\"].open() as runtime_file:\n",
    "        runtime_data = runtime_file.read()\n",
    "        runtimes[label] = json.loads(runtime_data)\n",
    "\n",
    "iter_durations = defaultdict(list)\n",
    "iterations = {}\n",
    "\n",
    "for label, runtime in runtimes.items():\n",
    "    iter_list = [i+1 for i in range(len(lower_bounds[label]))]\n",
    "    iterations[label] = iter_list\n",
    "    for i in iter_list:\n",
    "        duration = sum(\n",
    "            value for key, value in runtime.items()\n",
    "            if f\"i{i}\" == key.split(\"_\")[-1]\n",
    "        )\n",
    "        iter_durations[label].append(duration)\n",
    "\n",
    "# Determine the cumulative duration of iterations\n",
    "iter_durations_cum = {}\n",
    "for label, durations in iter_durations.items():\n",
    "    iter_durations_cum[label] = [\n",
    "        sum(durations[:i]) for i in range(1, len(durations)+1)\n",
    "    ]"
   ]
  },
  {
   "cell_type": "markdown",
   "metadata": {},
   "source": [
    "## Plot"
   ]
  },
  {
   "cell_type": "markdown",
   "metadata": {},
   "source": [
    "### Graphs"
   ]
  },
  {
   "cell_type": "code",
   "execution_count": null,
   "metadata": {},
   "outputs": [],
   "source": [
    "def plot_convergence(  # noqa: PLR0913\n",
    "    labels: Iterable[str],\n",
    "    durations: dict[str, list[float]],\n",
    "    bounds: dict[str, list[float]],\n",
    "    markers: dict[str, list[int]],\n",
    "    xlabel: str,\n",
    "    ylabel: str,\n",
    "    title: str,\n",
    "    hline: float | None = None,\n",
    "    alt_labels: dict[str, str] | None = None,\n",
    "    filename: str | None = None,\n",
    ") -> None:\n",
    "    \"\"\"Plot convergence of lower bounds.\"\"\"\n",
    "    fig = plt.figure(dpi=600, facecolor=\"w\", edgecolor=\"k\")\n",
    "    ax = fig.gca()\n",
    "    ax.xaxis.get_major_locator().set_params(integer=True)\n",
    "\n",
    "    plt.title(title)\n",
    "    ax.set(\n",
    "        xlabel=xlabel,\n",
    "        ylabel=ylabel\n",
    "    )\n",
    "\n",
    "    if hline is not None:\n",
    "        plt.axhline(hline, color=\"red\", linestyle=\"-\")\n",
    "\n",
    "    alt_labels = alt_labels or {}\n",
    "\n",
    "    z = 0\n",
    "    for label, color in zip(\n",
    "        labels, mcolors.TABLEAU_COLORS.keys(), strict=False\n",
    "    ):\n",
    "        y = [0] + bounds[label]\n",
    "        iterations = list(range(len(y)))\n",
    "\n",
    "        m = markers[label]\n",
    "        if m and len(iterations) < m[-1]:\n",
    "            m = m[:-1]\n",
    "\n",
    "        if durations:\n",
    "            x = [0] + durations[label]\n",
    "            plt.plot(\n",
    "                 x, y, ls=\"-\", label=alt_labels.get(label, label), color=color\n",
    "            )\n",
    "            z+=1\n",
    "            for i in m:\n",
    "                    plt.scatter(x[i], y[i], color=color, marker=\"o\")\n",
    "            z+=1\n",
    "        else:\n",
    "            plt.plot(\n",
    "                iterations, y,\n",
    "                \"o\",\n",
    "                ls=\"-\",\n",
    "                color=color,\n",
    "                markevery=m,\n",
    "                label=alt_labels.get(label, label)\n",
    "            )\n",
    "\n",
    "    plt.xlim(left=0)\n",
    "    plt.ylim(bottom=0)\n",
    "\n",
    "    plt.legend(loc=4)\n",
    "\n",
    "    if filename:\n",
    "        plt.savefig(OUT_DIR / filename)\n",
    "\n",
    "    plt.show()"
   ]
  },
  {
   "cell_type": "code",
   "execution_count": null,
   "metadata": {},
   "outputs": [],
   "source": [
    "plot_convergence(\n",
    "    labels=result_paths,\n",
    "    durations = {},\n",
    "    bounds=lower_bounds_relative,\n",
    "    markers=lagrange_markers,\n",
    "    xlabel=\"Iteration\",\n",
    "    ylabel=r\"Relative lower bound $\\left[\\frac{1}{\\overline{v}}\\right]$\",\n",
    "    title=\"Lower Bound vs. SDDiP Iterations\",\n",
    "    hline=1,\n",
    "    filename=\"convergence_relative.png\",\n",
    ")"
   ]
  },
  {
   "cell_type": "code",
   "execution_count": null,
   "metadata": {},
   "outputs": [],
   "source": [
    "plot_convergence(\n",
    "    labels=result_paths,\n",
    "    durations={},\n",
    "    bounds=lower_bounds,\n",
    "    markers=lagrange_markers,\n",
    "    xlabel=\"Iteration\",\n",
    "    ylabel=\"Lower bound\",\n",
    "    title=\"Lower Bound vs. SDDiP Iterations\",\n",
    "    filename=\"convergence_absolute.png\",\n",
    ")"
   ]
  },
  {
   "cell_type": "code",
   "execution_count": null,
   "metadata": {},
   "outputs": [],
   "source": [
    "plot_convergence(\n",
    "    labels=result_paths,\n",
    "    durations=iter_durations_cum,\n",
    "    bounds=lower_bounds_relative,\n",
    "    markers=lagrange_markers,\n",
    "    xlabel=\"Time past [s]\",\n",
    "    ylabel=r\"Relative lower bound $\\left[\\frac{1}{\\overline{v}}\\right]$\",\n",
    "    title=\"Lower Bound vs. Time Past\",\n",
    "    hline=1,\n",
    "    filename=\"convergence_time_relative.png\",\n",
    ")"
   ]
  },
  {
   "cell_type": "code",
   "execution_count": null,
   "metadata": {},
   "outputs": [],
   "source": [
    "plot_convergence(\n",
    "    labels=result_paths,\n",
    "    durations=iter_durations_cum,\n",
    "    bounds=lower_bounds,\n",
    "    markers=lagrange_markers,\n",
    "    xlabel=\"Time past [s]\",\n",
    "    ylabel=\"Lower bound\",\n",
    "    title=\"Lower Bound vs. Time Past\",\n",
    "    filename=\"convergence_time_absolute.png\",\n",
    ")"
   ]
  },
  {
   "cell_type": "markdown",
   "metadata": {},
   "source": [
    "### Bar Charts"
   ]
  },
  {
   "cell_type": "code",
   "execution_count": null,
   "metadata": {},
   "outputs": [],
   "source": [
    "fig = plt.figure(dpi= 600, facecolor=\"w\", edgecolor=\"k\")\n",
    "ax = fig.gca()\n",
    "\n",
    "hatches = [\"/\", \"\\\\\", \"|\", \"-\", \"+\", \"x\", \"o\", \"O\", \".\", \"*\"][\n",
    "    :len(result_paths)\n",
    "    ]\n",
    "\n",
    "bar_labels = [ALT_LABELS.get(label, label) for label in result_paths]\n",
    "bar_values = [(1-lower_bounds_relative[label][-1]) for label in result_paths]\n",
    "\n",
    "plt.bar(\n",
    "    bar_labels, bar_values, color=mcolors.TABLEAU_COLORS.keys(), hatch=hatches\n",
    ")\n",
    "\n",
    "ax.set(\n",
    "    ylabel=r\"Gap $\\left[\\frac{1}{\\overline{v}}\\right]$\"\n",
    ")\n",
    "\n",
    "plt.title(r\"Optimality Gap\")\n",
    "\n",
    "plt.savefig(OUT_DIR / \"optimality_gap_bars.png\")\n",
    "plt.show()"
   ]
  }
 ],
 "metadata": {
  "kernelspec": {
   "display_name": ".venv",
   "language": "python",
   "name": "python3"
  },
  "language_info": {
   "codemirror_mode": {
    "name": "ipython",
    "version": 3
   },
   "file_extension": ".py",
   "mimetype": "text/x-python",
   "name": "python",
   "nbconvert_exporter": "python",
   "pygments_lexer": "ipython3",
   "version": "3.12.7"
  }
 },
 "nbformat": 4,
 "nbformat_minor": 4
}
