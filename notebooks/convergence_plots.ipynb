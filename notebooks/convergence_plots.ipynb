{
 "cells": [
  {
   "cell_type": "markdown",
   "metadata": {},
   "source": [
    "# Convergence Plots"
   ]
  },
  {
   "cell_type": "markdown",
   "metadata": {},
   "source": [
    "## Dependencies"
   ]
  },
  {
   "cell_type": "code",
   "execution_count": null,
   "metadata": {},
   "outputs": [],
   "source": [
    "import json  # noqa: EXE002\n",
    "import re\n",
    "import time\n",
    "from collections import defaultdict\n",
    "from pathlib import Path\n",
    "from pprint import pprint\n",
    "\n",
    "import matplotlib.colors as mcolors\n",
    "import matplotlib.pyplot as plt\n",
    "import pandas as pd\n"
   ]
  },
  {
   "cell_type": "markdown",
   "metadata": {},
   "source": [
    "## Parameters"
   ]
  },
  {
   "cell_type": "code",
   "execution_count": null,
   "metadata": {},
   "outputs": [],
   "source": [
    "RESULTS_DIR: Path = Path() / \"..\" / \"data\" / \"02_results\"\n",
    "OUT_DIR: Path = (\n",
    "    Path() / \"..\" / \"data\" / f\"{time.strftime(\"%Y%m%d%H%M%S\")}_convergence\"\n",
    ")\n",
    "OUT_DIR.mkdir(exist_ok=True, parents=True)"
   ]
  },
  {
   "cell_type": "markdown",
   "metadata": {},
   "source": [
    "## Locating Result Data"
   ]
  },
  {
   "cell_type": "code",
   "execution_count": null,
   "metadata": {},
   "outputs": [],
   "source": [
    "\n",
    "result_paths: dict[str, dict[str, Path]] = {}\n",
    "\n",
    "res = {\n",
    "    \"bounds\": \"bounds.csv\",\n",
    "    \"dual_solver\": \"dual_solver.csv\",\n",
    "    \"runtime\": \"runtime.json\",\n",
    "}\n",
    "\n",
    "for rdir in RESULTS_DIR.iterdir():\n",
    "    if not rdir.is_dir():\n",
    "        continue\n",
    "    result_paths[rdir.name] = {}\n",
    "    for k, v in res.items():\n",
    "        p = rdir / v\n",
    "        if not p.exists():\n",
    "            msg = f\"File {p} not found\"\n",
    "            raise FileNotFoundError(msg)\n",
    "        result_paths[rdir.name][k] = p\n",
    "\n",
    "def natural_sort(text: str) -> list[int | str]:\n",
    "    \"\"\"Sort alphanumerical strings naturally.\"\"\"\n",
    "    def a2i(_text: str) -> int | str:\n",
    "        return int(_text) if _text.isdigit() else _text\n",
    "    return [a2i(t) for t in re.split(r\"(\\d+)\", text)]\n",
    "\n",
    "result_paths = {\n",
    "    k: result_paths[k]\n",
    "    for k in sorted(result_paths.keys(), key=natural_sort)\n",
    "}\n",
    "\n",
    "pprint(result_paths)  # noqa: T203"
   ]
  },
  {
   "cell_type": "markdown",
   "metadata": {},
   "source": [
    "## Arrange Data"
   ]
  },
  {
   "cell_type": "code",
   "execution_count": null,
   "metadata": {},
   "outputs": [],
   "source": [
    "lagrange_markers = {}\n",
    "\n",
    "for label, paths in result_paths.items():\n",
    "    ds_path = paths.get(\"dual_solver\")\n",
    "    if ds_path:\n",
    "        ds_df = pd.read_csv(paths[\"dual_solver\"], sep=\"\\t\")\n",
    "        lagrange_markers[label] = list(ds_df.i.unique().tolist())\n",
    "    else:\n",
    "        lagrange_markers[label] = []"
   ]
  },
  {
   "cell_type": "code",
   "execution_count": null,
   "metadata": {},
   "outputs": [],
   "source": [
    "lower_bounds = {}\n",
    "\n",
    "for label, paths in result_paths.items():\n",
    "    bounds_df = pd.read_csv(paths[\"bounds\"], sep=\"\\t\")\n",
    "    # TODO: Which upper bound to use?\n",
    "    ub = bounds_df[\"ub_r\"].array[-1]\n",
    "    lbs = bounds_df[\"lb\"].div(ub).tolist()\n",
    "    # TODO: How to consider last iteration?\n",
    "    lbs.pop()\n",
    "    lower_bounds[label] = lbs"
   ]
  },
  {
   "cell_type": "code",
   "execution_count": null,
   "metadata": {},
   "outputs": [],
   "source": [
    "runtimes = {}\n",
    "\n",
    "for label, paths in result_paths.items():\n",
    "    with paths[\"runtime\"].open() as runtime_file:\n",
    "        runtime_data = runtime_file.read()\n",
    "        runtimes[label] = json.loads(runtime_data)\n",
    "\n",
    "iter_durations = defaultdict(list)\n",
    "iterations = {}\n",
    "\n",
    "for label, runtime in runtimes.items():\n",
    "    iter_list = [i+1 for i in range(len(lower_bounds[label]))]\n",
    "    iterations[label] = iter_list\n",
    "    for i in iter_list:\n",
    "        duration = sum(\n",
    "            value for key, value in runtime.items()\n",
    "            if f\"i{i}\" == key.split(\"_\")[-1]\n",
    "        )\n",
    "        iter_durations[label].append(duration)\n",
    "\n",
    "# Determine the cumulative duration of iterations\n",
    "iter_durations_cum = {}\n",
    "for label, durations in iter_durations.items():\n",
    "    iter_durations_cum[label] = [\n",
    "        sum(durations[:i]) for i in range(1, len(durations)+1)\n",
    "    ]"
   ]
  },
  {
   "cell_type": "markdown",
   "metadata": {},
   "source": [
    "## Plot"
   ]
  },
  {
   "cell_type": "code",
   "execution_count": null,
   "metadata": {},
   "outputs": [],
   "source": [
    "fig = plt.figure(dpi= 600, facecolor=\"w\", edgecolor=\"k\")\n",
    "ax = fig.gca()\n",
    "ax.xaxis.get_major_locator().set_params(integer=True)\n",
    "\n",
    "plt.axhline(y=1, color=\"r\", linestyle=\"-\")\n",
    "\n",
    "for label in result_paths:\n",
    "    values = [0] + lower_bounds[label]\n",
    "    iterations =list(range(len(values)))\n",
    "    markers = lagrange_markers[label]\n",
    "    if markers and iterations[-1] + 1 < markers[-1]:\n",
    "        markers.pop()\n",
    "    plt.plot(iterations, values, \".\", ls=\"-\", markevery=markers, label=label)\n",
    "\n",
    "ax.set(\n",
    "    xlabel=\"Iteration\",\n",
    "    ylabel=r\"Ratio $\\left[\\frac{1}{\\overline{v}}\\right]$\"\n",
    ")\n",
    "plt.title(\"Lower bound vs SDDiP Iteration\")\n",
    "plt.xlim(left=0)\n",
    "plt.ylim(bottom=0)\n",
    "plt.legend(loc=4)\n",
    "\n",
    "plt.savefig(OUT_DIR / \"convergence_iterations.png\")\n",
    "plt.show()"
   ]
  },
  {
   "cell_type": "code",
   "execution_count": null,
   "metadata": {},
   "outputs": [],
   "source": [
    "fig = plt.figure(dpi= 600, facecolor=\"w\", edgecolor=\"k\")\n",
    "ax = fig.gca()\n",
    "ax.xaxis.get_major_locator().set_params(integer=True)\n",
    "\n",
    "plt.axhline(y=1, color=\"r\", linestyle=\"-\")\n",
    "\n",
    "for label, color in zip(\n",
    "    result_paths.keys(), mcolors.TABLEAU_COLORS.keys(), strict=False\n",
    "):\n",
    "    values = [0] + lower_bounds[label]\n",
    "    iterations =list(range(len(values)))\n",
    "    durations = [0] + iter_durations_cum[label]\n",
    "    markers = lagrange_markers[label]\n",
    "    if markers and iterations[-1] + 1 < markers[-1]:\n",
    "        markers.pop()\n",
    "    plt.plot(durations, values, ls=\"--\", label=f\"{label}\")\n",
    "    for i in range(len(values)):\n",
    "        if i in markers:\n",
    "            plt.scatter(durations[i], values[i], color=color, marker=\"x\")\n",
    "        else:\n",
    "            plt.scatter(durations[i], values[i], color=color, marker=\".\")\n",
    "\n",
    "\n",
    "ax.set(\n",
    "    xlabel=\"Time past [s]\",\n",
    "    ylabel=r\"Ratio $\\left[\\frac{1}{\\overline{v}}\\right]$\"\n",
    ")\n",
    "plt.title(\"Lower bound vs. Time Past\")\n",
    "plt.xlim(left=0)\n",
    "plt.ylim(bottom=0)\n",
    "plt.legend(loc=4)\n",
    "\n",
    "plt.savefig(OUT_DIR / \"convergence_time.png\")\n",
    "plt.show()"
   ]
  }
 ],
 "metadata": {
  "kernelspec": {
   "display_name": ".venv",
   "language": "python",
   "name": "python3"
  },
  "language_info": {
   "codemirror_mode": {
    "name": "ipython",
    "version": 3
   },
   "file_extension": ".py",
   "mimetype": "text/x-python",
   "name": "python",
   "nbconvert_exporter": "python",
   "pygments_lexer": "ipython3",
   "version": "3.12.7"
  }
 },
 "nbformat": 4,
 "nbformat_minor": 4
}
