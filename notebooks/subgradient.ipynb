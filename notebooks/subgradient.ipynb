{
 "cells": [
  {
   "cell_type": "markdown",
   "metadata": {},
   "source": [
    "# Subgradient method on MILP"
   ]
  },
  {
   "cell_type": "code",
   "execution_count": 9,
   "metadata": {},
   "outputs": [],
   "source": [
    "import sys\n",
    "sys.path.append('../sddip')"
   ]
  },
  {
   "cell_type": "code",
   "execution_count": 10,
   "metadata": {},
   "outputs": [],
   "source": [
    "import gurobipy as gp\n",
    "import numpy as np\n",
    "import pandas as pd\n",
    "\n",
    "import sddip.dualsolver as ds"
   ]
  },
  {
   "cell_type": "markdown",
   "metadata": {},
   "source": [
    "## Problem parameters"
   ]
  },
  {
   "cell_type": "code",
   "execution_count": 11,
   "metadata": {},
   "outputs": [],
   "source": [
    "i_max = 4\n",
    "j_max = 5\n",
    "\n",
    "d = np.array([120, 150, 100, 150, 180])\n",
    "a = np.array([250, 300, 400, 700])\n",
    "k = np.array([700, 900, 300, 400])\n",
    "c = np.array([[2, 1, 3, 4, 5],[4, 2, 8, 14, 10], [4, 12, 3, 14, 7], [8, 17, 7, 9, 15]])\n",
    "\n",
    "x = np.empty((i_max, j_max), dtype=object)\n",
    "y = np.empty(i_max, dtype=object)"
   ]
  },
  {
   "cell_type": "markdown",
   "metadata": {},
   "source": [
    "## Original problem"
   ]
  },
  {
   "cell_type": "code",
   "execution_count": 12,
   "metadata": {},
   "outputs": [
    {
     "name": "stdout",
     "output_type": "stream",
     "text": [
      "Gurobi Optimizer version 9.5.0 build v9.5.0rc5 (win64)\n",
      "Thread count: 8 physical cores, 16 logical processors, using up to 16 threads\n",
      "Optimize a model with 9 rows, 104 columns and 44 nonzeros\n",
      "Model fingerprint: 0x6d512bd2\n",
      "Variable types: 100 continuous, 4 integer (4 binary)\n",
      "Coefficient statistics:\n",
      "  Matrix range     [1e+00, 7e+02]\n",
      "  Objective range  [1e+00, 9e+02]\n",
      "  Bounds range     [1e+00, 1e+00]\n",
      "  RHS range        [1e+02, 2e+02]\n",
      "Presolve removed 0 rows and 80 columns\n",
      "Presolve time: 0.00s\n",
      "Presolved: 9 rows, 24 columns, 44 nonzeros\n",
      "Variable types: 20 continuous, 4 integer (4 binary)\n",
      "Found heuristic solution: objective 4640.0000000\n",
      "\n",
      "Root relaxation: objective 3.990000e+03, 4 iterations, 0.00 seconds (0.00 work units)\n",
      "\n",
      "    Nodes    |    Current Node    |     Objective Bounds      |     Work\n",
      " Expl Unexpl |  Obj  Depth IntInf | Incumbent    BestBd   Gap | It/Node Time\n",
      "\n",
      "     0     0 3990.00000    0    1 4640.00000 3990.00000  14.0%     -    0s\n",
      "H    0     0                    4440.0000000 3990.00000  10.1%     -    0s\n",
      "\n",
      "Cutting planes:\n",
      "  Gomory: 1\n",
      "  Implied bound: 1\n",
      "  MIR: 1\n",
      "\n",
      "Explored 1 nodes (4 simplex iterations) in 0.01 seconds (0.00 work units)\n",
      "Thread count was 16 (of 16 available processors)\n",
      "\n",
      "Solution count 2: 4440 4640 \n",
      "\n",
      "Optimal solution found (tolerance 1.00e-04)\n",
      "Best objective 4.440000000000e+03, best bound 4.440000000000e+03, gap 0.0000%\n",
      "\n",
      "    Variable            X \n",
      "-------------------------\n",
      "         y_1            1 \n",
      "        x_12          150 \n",
      "        x_14          100 \n",
      "         y_3            1 \n",
      "        x_31          120 \n",
      "        x_33          100 \n",
      "        x_35          180 \n",
      "         y_4            1 \n",
      "        x_44           50 \n",
      "#################################################\n",
      "Optimal value v= 4440.0\n"
     ]
    }
   ],
   "source": [
    "m = gp.Model(\"Standortproblem\")\n",
    "\n",
    "\n",
    "for i in range(i_max):\n",
    "    y[i] = m.addVar(vtype = gp.GRB.BINARY, name = \"y_%i\"%(i+1))\n",
    "    for j in range(j_max):\n",
    "        for j in range(j_max):\n",
    "            x[i,j] = m.addVar(vtype = gp.GRB.CONTINUOUS, lb = 0, name = \"x_%i%i\"%(i+1,j+1))\n",
    "\n",
    "m.update()\n",
    "\n",
    "expr_o1 = gp.LinExpr(k, y)\n",
    "expr_o2 = gp.LinExpr(c.flatten(), x.flatten())\n",
    "obj = expr_o1+expr_o2\n",
    "m.setObjective(obj)\n",
    "\n",
    "m.addConstrs(gp.quicksum(x[:,j]) == d[j] for j in range(j_max))\n",
    "m.addConstrs(gp.quicksum(x[i,:]) <= a[i]*y[i] for i in range(i_max))\n",
    "\n",
    "m.update()\n",
    "\n",
    "m.optimize()\n",
    "m.printAttr(\"X\")\n",
    "\n",
    "\n",
    "\n",
    "####################################\n",
    "# Solution\n",
    "####################################\n",
    "print('#################################################')\n",
    "\n",
    "# Optimal value\n",
    "v = m.getObjective().getValue()\n",
    "print(\"Optimal value v= {}\".format(v))"
   ]
  },
  {
   "cell_type": "markdown",
   "metadata": {},
   "source": [
    "## Lagrangian Dual"
   ]
  },
  {
   "cell_type": "code",
   "execution_count": 13,
   "metadata": {},
   "outputs": [],
   "source": [
    "m = gp.Model(\"Standortproblem\")\n",
    "\n",
    "\n",
    "for i in range(i_max):\n",
    "    y[i] = m.addVar(vtype = gp.GRB.BINARY, name = \"y_%i\"%(i+1))\n",
    "    for j in range(j_max):\n",
    "        for j in range(j_max):\n",
    "            x[i,j] = m.addVar(vtype = gp.GRB.CONTINUOUS, lb = 0, name = \"x_%i%i\"%(i+1,j+1))\n",
    "\n",
    "expr_o1 = gp.LinExpr(k, y)\n",
    "expr_o2 = gp.LinExpr(c.flatten(), x.flatten())\n",
    "\n",
    "objective_terms = expr_o1+expr_o2\n",
    "relaxed_terms = [gp.quicksum(x[:,j]) - d[j] for j in range(j_max)]\n",
    "\n",
    "#m.setObjective(objective_terms)\n",
    "#m.addConstrs(quicksum(x[:,j]) == d[j] for j in range(j_max))\n",
    "m.addConstrs(gp.quicksum(x[i,:]) <= a[i]*y[i] for i in range(i_max))\n",
    "\n",
    "m.update()\n",
    "\n",
    "m.setParam(\"Outputflag\",0)"
   ]
  },
  {
   "cell_type": "markdown",
   "metadata": {},
   "source": [
    "### Subgradient mehod"
   ]
  },
  {
   "cell_type": "code",
   "execution_count": 14,
   "metadata": {},
   "outputs": [
    {
     "name": "stdout",
     "output_type": "stream",
     "text": [
      "Subgradient Method started\n",
      "New lower bound\n",
      "Iteration: 0 | Optimal value: 0.0 | Gradient magnitude: 319.06112267087633 | Step size: 0.0031341957040361135\n",
      "New lower bound\n",
      "Iteration: 1 | Optimal value: 319.06112267087633 | Gradient magnitude: 319.06112267087633 | Step size: 0.0031341957040361135\n",
      "New lower bound\n",
      "Iteration: 2 | Optimal value: 638.1222453417527 | Gradient magnitude: 319.06112267087633 | Step size: 0.0031341957040361135\n",
      "New lower bound\n",
      "Iteration: 3 | Optimal value: 957.183368012629 | Gradient magnitude: 319.06112267087633 | Step size: 0.0031341957040361135\n",
      "New lower bound\n",
      "Iteration: 4 | Optimal value: 1276.2444906835053 | Gradient magnitude: 319.06112267087633 | Step size: 0.0031341957040361135\n",
      "New lower bound\n",
      "Iteration: 5 | Optimal value: 1595.3056133543819 | Gradient magnitude: 319.06112267087633 | Step size: 0.0031341957040361135\n",
      "New lower bound\n",
      "Iteration: 6 | Optimal value: 1914.366736025258 | Gradient magnitude: 319.06112267087633 | Step size: 0.0031341957040361135\n",
      "New lower bound\n",
      "Iteration: 7 | Optimal value: 2233.4278586961345 | Gradient magnitude: 319.06112267087633 | Step size: 0.0031341957040361135\n",
      "New lower bound\n",
      "Iteration: 8 | Optimal value: 2552.4889813670106 | Gradient magnitude: 319.06112267087633 | Step size: 0.0031341957040361135\n",
      "New lower bound\n",
      "Iteration: 9 | Optimal value: 2763.7590539256985 | Gradient magnitude: 298.83105594967867 | Step size: 0.0033463724070512736\n",
      "New lower bound\n",
      "Iteration: 10 | Optimal value: 3062.590109875377 | Gradient magnitude: 298.83105594967867 | Step size: 0.0033463724070512736\n",
      "New lower bound\n",
      "Iteration: 11 | Optimal value: 3301.893595584681 | Gradient magnitude: 319.06112267087633 | Step size: 0.0031341957040361135\n",
      "New lower bound\n",
      "Iteration: 12 | Optimal value: 3541.561875416031 | Gradient magnitude: 411.4608122288197 | Step size: 0.0024303651047183675\n",
      "New lower bound\n",
      "Iteration: 13 | Optimal value: 3623.737367484014 | Gradient magnitude: 606.8772528279504 | Step size: 0.0016477796709963354\n",
      "New lower bound\n",
      "Iteration: 14 | Optimal value: 3660.1923677645436 | Gradient magnitude: 298.83105594967867 | Step size: 0.0033463724070512736\n",
      "New lower bound\n",
      "Iteration: 15 | Optimal value: 3665.672864887455 | Gradient magnitude: 538.7949517209678 | Step size: 0.0018559936332103609\n",
      "New lower bound\n",
      "Iteration: 16 | Optimal value: 3828.1198238143625 | Gradient magnitude: 411.4608122288197 | Step size: 0.0024303651047183675\n",
      "Iteration: 17 | Optimal value: 3769.7667211131984 | Gradient magnitude: 391.5354390090379 | Step size: 0.0025540472211939844\n",
      "Iteration: 18 | Optimal value: 3714.5264573476525 | Gradient magnitude: 324.49961479175903 | Step size: 0.0030816677568068283\n",
      "Iteration: 19 | Optimal value: 3795.322507489397 | Gradient magnitude: 298.83105594967867 | Step size: 0.0033463724070512736\n",
      "New lower bound\n",
      "Iteration: 20 | Optimal value: 3887.770039340693 | Gradient magnitude: 324.49961479175903 | Step size: 0.0030816677568068283\n",
      "Iteration: 21 | Optimal value: 3725.0844706646612 | Gradient magnitude: 391.5354390090379 | Step size: 0.0025540472211939844\n",
      "Iteration: 22 | Optimal value: 3742.885424236932 | Gradient magnitude: 411.4608122288197 | Step size: 0.0024303651047183675\n",
      "Iteration: 23 | Optimal value: 3787.8058810063812 | Gradient magnitude: 324.49961479175903 | Step size: 0.0030816677568068283\n",
      "Iteration: 24 | Optimal value: 3811.927414564224 | Gradient magnitude: 391.5354390090379 | Step size: 0.0025540472211939844\n",
      "Iteration: 25 | Optimal value: 3796.82740421548 | Gradient magnitude: 411.4608122288197 | Step size: 0.0024303651047183675\n",
      "Iteration: 26 | Optimal value: 3765.4821886187383 | Gradient magnitude: 324.49961479175903 | Step size: 0.0030816677568068283\n",
      "Iteration: 27 | Optimal value: 3796.4613565693576 | Gradient magnitude: 550.7267925205746 | Step size: 0.0018157823690094776\n",
      "Iteration: 28 | Optimal value: 3839.0406800133883 | Gradient magnitude: 324.49961479175903 | Step size: 0.0030816677568068283\n",
      "Iteration: 29 | Optimal value: 3740.0060188344114 | Gradient magnitude: 411.4608122288197 | Step size: 0.0024303651047183675\n",
      "Iteration: 30 | Optimal value: 3799.9345969884266 | Gradient magnitude: 391.5354390090379 | Step size: 0.0025540472211939844\n",
      "Iteration: 31 | Optimal value: 3788.4122303377253 | Gradient magnitude: 324.49961479175903 | Step size: 0.0030816677568068283\n",
      "Iteration: 32 | Optimal value: 3822.252756100978 | Gradient magnitude: 411.4608122288197 | Step size: 0.0024303651047183675\n",
      "Iteration: 33 | Optimal value: 3854.0855140567437 | Gradient magnitude: 550.7267925205746 | Step size: 0.0018157823690094776\n",
      "Iteration: 34 | Optimal value: 3703.848906909602 | Gradient magnitude: 324.49961479175903 | Step size: 0.0030816677568068283\n",
      "New lower bound\n",
      "Iteration: 35 | Optimal value: 3895.9737080658674 | Gradient magnitude: 391.5354390090379 | Step size: 0.0025540472211939844\n",
      "Iteration: 36 | Optimal value: 3758.3313102530997 | Gradient magnitude: 505.27220386639124 | Step size: 0.0019791312333191976\n",
      "Iteration: 37 | Optimal value: 3716.5609974708686 | Gradient magnitude: 411.4608122288197 | Step size: 0.0024303651047183675\n",
      "Iteration: 38 | Optimal value: 3859.141218471308 | Gradient magnitude: 324.49961479175903 | Step size: 0.0030816677568068283\n",
      "Iteration: 39 | Optimal value: 3729.94125033193 | Gradient magnitude: 391.5354390090379 | Step size: 0.0025540472211939844\n",
      "Iteration: 40 | Optimal value: 3868.7839782072992 | Gradient magnitude: 411.4608122288197 | Step size: 0.0024303651047183675\n",
      "Iteration: 41 | Optimal value: 3694.716762377783 | Gradient magnitude: 505.27220386639124 | Step size: 0.0019791312333191976\n",
      "Iteration: 42 | Optimal value: 3851.120227532388 | Gradient magnitude: 391.5354390090379 | Step size: 0.0025540472211939844\n",
      "Iteration: 43 | Optimal value: 3768.2757801785915 | Gradient magnitude: 324.49961479175903 | Step size: 0.0030816677568068283\n",
      "Iteration: 44 | Optimal value: 3763.324072365568 | Gradient magnitude: 411.4608122288197 | Step size: 0.0024303651047183675\n",
      "Iteration: 45 | Optimal value: 3882.6954915541337 | Gradient magnitude: 324.49961479175903 | Step size: 0.0030816677568068283\n",
      "Iteration: 46 | Optimal value: 3597.5574818351242 | Gradient magnitude: 550.7267925205746 | Step size: 0.0018157823690094776\n",
      "New lower bound\n",
      "Iteration: 47 | Optimal value: 3911.9949389260664 | Gradient magnitude: 411.4608122288197 | Step size: 0.0024303651047183675\n",
      "Iteration: 48 | Optimal value: 3809.265513459368 | Gradient magnitude: 324.49961479175903 | Step size: 0.0030816677568068283\n",
      "Iteration: 49 | Optimal value: 3663.1073783115658 | Gradient magnitude: 391.5354390090379 | Step size: 0.0025540472211939844\n",
      "Subgradient Method finished (Max iterations)\n"
     ]
    }
   ],
   "source": [
    "sg_method = ds.SubgradientMethod(max_iterations = 50)\n",
    "sg_method.output_flag = True\n",
    "\n",
    "rlx_model, results = sg_method.solve(m, objective_terms, relaxed_terms, 5000)"
   ]
  },
  {
   "cell_type": "code",
   "execution_count": 15,
   "metadata": {},
   "outputs": [
    {
     "name": "stdout",
     "output_type": "stream",
     "text": [
      "Best lower bound: 3911.9949389260664\n",
      "Best multipliers: [-4.98328698 -4.52984567 -4.07119798 -7.77016022 -7.96055037]\n"
     ]
    }
   ],
   "source": [
    "print(f\"Best lower bound: {results.obj_value}\")\n",
    "print(f\"Best multipliers: {results.multipliers}\")"
   ]
  },
  {
   "cell_type": "code",
   "execution_count": 16,
   "metadata": {},
   "outputs": [
    {
     "name": "stdout",
     "output_type": "stream",
     "text": [
      "Set parameter OutputFlag to value 1\n",
      "\n",
      "    Variable            X \n",
      "-------------------------\n",
      "         y_1            1 \n",
      "        x_14          250 \n",
      "         y_3            1 \n",
      "        x_31          400 \n"
     ]
    }
   ],
   "source": [
    "m.setParam(\"Outputflag\",1)\n",
    "rlx_model.printAttr(\"X\")"
   ]
  }
 ],
 "metadata": {
  "interpreter": {
   "hash": "abe42ade3e87b4e6c3c5745962b526975dbcf6574cac0f27c7eb88f5d6f3bab5"
  },
  "kernelspec": {
   "display_name": "optimization",
   "language": "python",
   "name": "python3"
  },
  "language_info": {
   "codemirror_mode": {
    "name": "ipython",
    "version": 3
   },
   "file_extension": ".py",
   "mimetype": "text/x-python",
   "name": "python",
   "nbconvert_exporter": "python",
   "pygments_lexer": "ipython3",
   "version": "3.10.0"
  }
 },
 "nbformat": 4,
 "nbformat_minor": 4
}
