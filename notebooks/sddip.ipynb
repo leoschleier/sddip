{
 "cells": [
  {
   "cell_type": "markdown",
   "metadata": {},
   "source": [
    "# Stochastic Unit Commitment Problem"
   ]
  },
  {
   "cell_type": "code",
   "execution_count": 1,
   "metadata": {},
   "outputs": [],
   "source": [
    "import os\n",
    "import numpy as np\n",
    "import pandas as pd\n",
    "import gurobipy as gp\n",
    "from scipy import stats, linalg\n",
    "\n",
    "from sddip import config, storage, utils, parameters\n",
    "from sddip import dualsolver, ucmodel, scenarios"
   ]
  },
  {
   "cell_type": "markdown",
   "metadata": {},
   "source": [
    "## Data Processing"
   ]
  },
  {
   "cell_type": "code",
   "execution_count": 2,
   "metadata": {},
   "outputs": [],
   "source": [
    "test_case = \"WB2\"\n",
    "\n",
    "params = parameters.Parameters(test_case)\n",
    "\n",
    "bus_df = params.bus_df\n",
    "branch_df = params.bus_df\n",
    "gen_df = params.gen_df\n",
    "gen_cost_df = params.gen_cost_df\n",
    "gen_sup_df = params.gen_sup_df\n",
    "storage_df = params.storage_df\n",
    "scenario_df = params.scenario_df"
   ]
  },
  {
   "cell_type": "markdown",
   "metadata": {},
   "source": [
    "### Bus Data"
   ]
  },
  {
   "cell_type": "code",
   "execution_count": 3,
   "metadata": {},
   "outputs": [
    {
     "data": {
      "text/html": [
       "<div>\n",
       "<style scoped>\n",
       "    .dataframe tbody tr th:only-of-type {\n",
       "        vertical-align: middle;\n",
       "    }\n",
       "\n",
       "    .dataframe tbody tr th {\n",
       "        vertical-align: top;\n",
       "    }\n",
       "\n",
       "    .dataframe thead th {\n",
       "        text-align: right;\n",
       "    }\n",
       "</style>\n",
       "<table border=\"1\" class=\"dataframe\">\n",
       "  <thead>\n",
       "    <tr style=\"text-align: right;\">\n",
       "      <th></th>\n",
       "      <th>bus_i</th>\n",
       "      <th>type</th>\n",
       "      <th>Pd</th>\n",
       "      <th>Qd</th>\n",
       "      <th>Gs</th>\n",
       "      <th>Bs</th>\n",
       "      <th>area</th>\n",
       "      <th>Vm</th>\n",
       "      <th>Va</th>\n",
       "      <th>baseKV</th>\n",
       "      <th>zone</th>\n",
       "      <th>Vmax</th>\n",
       "      <th>Vmin</th>\n",
       "    </tr>\n",
       "  </thead>\n",
       "  <tbody>\n",
       "    <tr>\n",
       "      <th>0</th>\n",
       "      <td>1</td>\n",
       "      <td>3</td>\n",
       "      <td>0</td>\n",
       "      <td>0</td>\n",
       "      <td>0</td>\n",
       "      <td>0</td>\n",
       "      <td>1</td>\n",
       "      <td>0.964</td>\n",
       "      <td>0</td>\n",
       "      <td>0</td>\n",
       "      <td>1</td>\n",
       "      <td>1.05</td>\n",
       "      <td>0.95</td>\n",
       "    </tr>\n",
       "    <tr>\n",
       "      <th>1</th>\n",
       "      <td>2</td>\n",
       "      <td>1</td>\n",
       "      <td>350</td>\n",
       "      <td>-350</td>\n",
       "      <td>0</td>\n",
       "      <td>0</td>\n",
       "      <td>1</td>\n",
       "      <td>1.000</td>\n",
       "      <td>-65</td>\n",
       "      <td>0</td>\n",
       "      <td>1</td>\n",
       "      <td>1.05</td>\n",
       "      <td>0.95</td>\n",
       "    </tr>\n",
       "  </tbody>\n",
       "</table>\n",
       "</div>"
      ],
      "text/plain": [
       "   bus_i  type   Pd   Qd  Gs  Bs  area     Vm  Va  baseKV  zone  Vmax  Vmin\n",
       "0      1     3    0    0   0   0     1  0.964   0       0     1  1.05  0.95\n",
       "1      2     1  350 -350   0   0     1  1.000 -65       0     1  1.05  0.95"
      ]
     },
     "execution_count": 3,
     "metadata": {},
     "output_type": "execute_result"
    }
   ],
   "source": [
    "bus_df"
   ]
  },
  {
   "cell_type": "markdown",
   "metadata": {},
   "source": [
    "### Branch Data"
   ]
  },
  {
   "cell_type": "code",
   "execution_count": 4,
   "metadata": {},
   "outputs": [
    {
     "data": {
      "text/html": [
       "<div>\n",
       "<style scoped>\n",
       "    .dataframe tbody tr th:only-of-type {\n",
       "        vertical-align: middle;\n",
       "    }\n",
       "\n",
       "    .dataframe tbody tr th {\n",
       "        vertical-align: top;\n",
       "    }\n",
       "\n",
       "    .dataframe thead th {\n",
       "        text-align: right;\n",
       "    }\n",
       "</style>\n",
       "<table border=\"1\" class=\"dataframe\">\n",
       "  <thead>\n",
       "    <tr style=\"text-align: right;\">\n",
       "      <th></th>\n",
       "      <th>bus_i</th>\n",
       "      <th>type</th>\n",
       "      <th>Pd</th>\n",
       "      <th>Qd</th>\n",
       "      <th>Gs</th>\n",
       "      <th>Bs</th>\n",
       "      <th>area</th>\n",
       "      <th>Vm</th>\n",
       "      <th>Va</th>\n",
       "      <th>baseKV</th>\n",
       "      <th>zone</th>\n",
       "      <th>Vmax</th>\n",
       "      <th>Vmin</th>\n",
       "    </tr>\n",
       "  </thead>\n",
       "  <tbody>\n",
       "    <tr>\n",
       "      <th>0</th>\n",
       "      <td>1</td>\n",
       "      <td>3</td>\n",
       "      <td>0</td>\n",
       "      <td>0</td>\n",
       "      <td>0</td>\n",
       "      <td>0</td>\n",
       "      <td>1</td>\n",
       "      <td>0.964</td>\n",
       "      <td>0</td>\n",
       "      <td>0</td>\n",
       "      <td>1</td>\n",
       "      <td>1.05</td>\n",
       "      <td>0.95</td>\n",
       "    </tr>\n",
       "    <tr>\n",
       "      <th>1</th>\n",
       "      <td>2</td>\n",
       "      <td>1</td>\n",
       "      <td>350</td>\n",
       "      <td>-350</td>\n",
       "      <td>0</td>\n",
       "      <td>0</td>\n",
       "      <td>1</td>\n",
       "      <td>1.000</td>\n",
       "      <td>-65</td>\n",
       "      <td>0</td>\n",
       "      <td>1</td>\n",
       "      <td>1.05</td>\n",
       "      <td>0.95</td>\n",
       "    </tr>\n",
       "  </tbody>\n",
       "</table>\n",
       "</div>"
      ],
      "text/plain": [
       "   bus_i  type   Pd   Qd  Gs  Bs  area     Vm  Va  baseKV  zone  Vmax  Vmin\n",
       "0      1     3    0    0   0   0     1  0.964   0       0     1  1.05  0.95\n",
       "1      2     1  350 -350   0   0     1  1.000 -65       0     1  1.05  0.95"
      ]
     },
     "execution_count": 4,
     "metadata": {},
     "output_type": "execute_result"
    }
   ],
   "source": [
    "branch_df"
   ]
  },
  {
   "cell_type": "markdown",
   "metadata": {},
   "source": [
    "### Generator Data"
   ]
  },
  {
   "cell_type": "code",
   "execution_count": 5,
   "metadata": {},
   "outputs": [
    {
     "data": {
      "text/html": [
       "<div>\n",
       "<style scoped>\n",
       "    .dataframe tbody tr th:only-of-type {\n",
       "        vertical-align: middle;\n",
       "    }\n",
       "\n",
       "    .dataframe tbody tr th {\n",
       "        vertical-align: top;\n",
       "    }\n",
       "\n",
       "    .dataframe thead th {\n",
       "        text-align: right;\n",
       "    }\n",
       "</style>\n",
       "<table border=\"1\" class=\"dataframe\">\n",
       "  <thead>\n",
       "    <tr style=\"text-align: right;\">\n",
       "      <th></th>\n",
       "      <th>bus</th>\n",
       "      <th>Pg</th>\n",
       "      <th>Qg</th>\n",
       "      <th>Qmax</th>\n",
       "      <th>Qmin</th>\n",
       "      <th>Vg</th>\n",
       "      <th>mBase</th>\n",
       "      <th>status</th>\n",
       "      <th>Pmax</th>\n",
       "      <th>Pmin</th>\n",
       "      <th>...</th>\n",
       "      <th>Pc2</th>\n",
       "      <th>Qc1min</th>\n",
       "      <th>Qc1max</th>\n",
       "      <th>Qc2min</th>\n",
       "      <th>Qc2max</th>\n",
       "      <th>ramp_agc</th>\n",
       "      <th>ramp_10</th>\n",
       "      <th>ramp_30</th>\n",
       "      <th>ramp_q</th>\n",
       "      <th>apf</th>\n",
       "    </tr>\n",
       "  </thead>\n",
       "  <tbody>\n",
       "    <tr>\n",
       "      <th>0</th>\n",
       "      <td>1</td>\n",
       "      <td>400</td>\n",
       "      <td>100</td>\n",
       "      <td>400</td>\n",
       "      <td>-400</td>\n",
       "      <td>0.964</td>\n",
       "      <td>100</td>\n",
       "      <td>1</td>\n",
       "      <td>600</td>\n",
       "      <td>0</td>\n",
       "      <td>...</td>\n",
       "      <td>0</td>\n",
       "      <td>0</td>\n",
       "      <td>0</td>\n",
       "      <td>0</td>\n",
       "      <td>0</td>\n",
       "      <td>0</td>\n",
       "      <td>0</td>\n",
       "      <td>0</td>\n",
       "      <td>0</td>\n",
       "      <td>0</td>\n",
       "    </tr>\n",
       "  </tbody>\n",
       "</table>\n",
       "<p>1 rows × 21 columns</p>\n",
       "</div>"
      ],
      "text/plain": [
       "   bus   Pg   Qg  Qmax  Qmin     Vg  mBase  status  Pmax  Pmin  ...  Pc2  \\\n",
       "0    1  400  100   400  -400  0.964    100       1   600     0  ...    0   \n",
       "\n",
       "   Qc1min  Qc1max  Qc2min  Qc2max  ramp_agc  ramp_10  ramp_30  ramp_q  apf  \n",
       "0       0       0       0       0         0        0        0       0    0  \n",
       "\n",
       "[1 rows x 21 columns]"
      ]
     },
     "execution_count": 5,
     "metadata": {},
     "output_type": "execute_result"
    }
   ],
   "source": [
    "gen_df"
   ]
  },
  {
   "cell_type": "markdown",
   "metadata": {},
   "source": [
    "### Generator Cost Data"
   ]
  },
  {
   "cell_type": "code",
   "execution_count": 6,
   "metadata": {},
   "outputs": [
    {
     "data": {
      "text/html": [
       "<div>\n",
       "<style scoped>\n",
       "    .dataframe tbody tr th:only-of-type {\n",
       "        vertical-align: middle;\n",
       "    }\n",
       "\n",
       "    .dataframe tbody tr th {\n",
       "        vertical-align: top;\n",
       "    }\n",
       "\n",
       "    .dataframe thead th {\n",
       "        text-align: right;\n",
       "    }\n",
       "</style>\n",
       "<table border=\"1\" class=\"dataframe\">\n",
       "  <thead>\n",
       "    <tr style=\"text-align: right;\">\n",
       "      <th></th>\n",
       "      <th>type</th>\n",
       "      <th>startup</th>\n",
       "      <th>shutdown</th>\n",
       "      <th>n</th>\n",
       "      <th>c2</th>\n",
       "      <th>c1</th>\n",
       "      <th>c0</th>\n",
       "    </tr>\n",
       "  </thead>\n",
       "  <tbody>\n",
       "    <tr>\n",
       "      <th>0</th>\n",
       "      <td>2</td>\n",
       "      <td>0</td>\n",
       "      <td>0</td>\n",
       "      <td>3</td>\n",
       "      <td>0</td>\n",
       "      <td>2</td>\n",
       "      <td>0</td>\n",
       "    </tr>\n",
       "  </tbody>\n",
       "</table>\n",
       "</div>"
      ],
      "text/plain": [
       "   type  startup  shutdown  n  c2  c1  c0\n",
       "0     2        0         0  3   0   2   0"
      ]
     },
     "execution_count": 6,
     "metadata": {},
     "output_type": "execute_result"
    }
   ],
   "source": [
    "gen_cost_df"
   ]
  },
  {
   "cell_type": "markdown",
   "metadata": {},
   "source": [
    "### Storage Data"
   ]
  },
  {
   "cell_type": "code",
   "execution_count": 8,
   "metadata": {},
   "outputs": [
    {
     "data": {
      "text/html": [
       "<div>\n",
       "<style scoped>\n",
       "    .dataframe tbody tr th:only-of-type {\n",
       "        vertical-align: middle;\n",
       "    }\n",
       "\n",
       "    .dataframe tbody tr th {\n",
       "        vertical-align: top;\n",
       "    }\n",
       "\n",
       "    .dataframe thead th {\n",
       "        text-align: right;\n",
       "    }\n",
       "</style>\n",
       "<table border=\"1\" class=\"dataframe\">\n",
       "  <thead>\n",
       "    <tr style=\"text-align: right;\">\n",
       "      <th></th>\n",
       "      <th>bus</th>\n",
       "      <th>Rc</th>\n",
       "      <th>Rdc</th>\n",
       "      <th>Effc</th>\n",
       "      <th>Effdc</th>\n",
       "      <th>SOC</th>\n",
       "    </tr>\n",
       "  </thead>\n",
       "  <tbody>\n",
       "    <tr>\n",
       "      <th>0</th>\n",
       "      <td>1</td>\n",
       "      <td>25</td>\n",
       "      <td>25</td>\n",
       "      <td>1</td>\n",
       "      <td>1</td>\n",
       "      <td>100</td>\n",
       "    </tr>\n",
       "  </tbody>\n",
       "</table>\n",
       "</div>"
      ],
      "text/plain": [
       "   bus  Rc  Rdc  Effc  Effdc  SOC\n",
       "0    1  25   25     1      1  100"
      ]
     },
     "execution_count": 8,
     "metadata": {},
     "output_type": "execute_result"
    }
   ],
   "source": [
    "storage_df"
   ]
  },
  {
   "cell_type": "code",
   "execution_count": 7,
   "metadata": {},
   "outputs": [
    {
     "data": {
      "text/html": [
       "<div>\n",
       "<style scoped>\n",
       "    .dataframe tbody tr th:only-of-type {\n",
       "        vertical-align: middle;\n",
       "    }\n",
       "\n",
       "    .dataframe tbody tr th {\n",
       "        vertical-align: top;\n",
       "    }\n",
       "\n",
       "    .dataframe thead th {\n",
       "        text-align: right;\n",
       "    }\n",
       "</style>\n",
       "<table border=\"1\" class=\"dataframe\">\n",
       "  <thead>\n",
       "    <tr style=\"text-align: right;\">\n",
       "      <th></th>\n",
       "      <th>t</th>\n",
       "      <th>n</th>\n",
       "      <th>p</th>\n",
       "      <th>Pd1</th>\n",
       "      <th>Pd2</th>\n",
       "      <th>Re1</th>\n",
       "      <th>Re2</th>\n",
       "    </tr>\n",
       "  </thead>\n",
       "  <tbody>\n",
       "    <tr>\n",
       "      <th>0</th>\n",
       "      <td>1</td>\n",
       "      <td>1</td>\n",
       "      <td>1.0</td>\n",
       "      <td>0</td>\n",
       "      <td>174.047689</td>\n",
       "      <td>0</td>\n",
       "      <td>58.841980</td>\n",
       "    </tr>\n",
       "    <tr>\n",
       "      <th>1</th>\n",
       "      <td>2</td>\n",
       "      <td>1</td>\n",
       "      <td>0.5</td>\n",
       "      <td>0</td>\n",
       "      <td>324.065867</td>\n",
       "      <td>0</td>\n",
       "      <td>45.141510</td>\n",
       "    </tr>\n",
       "    <tr>\n",
       "      <th>2</th>\n",
       "      <td>2</td>\n",
       "      <td>2</td>\n",
       "      <td>0.5</td>\n",
       "      <td>0</td>\n",
       "      <td>330.583183</td>\n",
       "      <td>0</td>\n",
       "      <td>54.413346</td>\n",
       "    </tr>\n",
       "    <tr>\n",
       "      <th>3</th>\n",
       "      <td>3</td>\n",
       "      <td>1</td>\n",
       "      <td>0.5</td>\n",
       "      <td>0</td>\n",
       "      <td>320.983740</td>\n",
       "      <td>0</td>\n",
       "      <td>37.409633</td>\n",
       "    </tr>\n",
       "    <tr>\n",
       "      <th>4</th>\n",
       "      <td>3</td>\n",
       "      <td>2</td>\n",
       "      <td>0.5</td>\n",
       "      <td>0</td>\n",
       "      <td>373.451597</td>\n",
       "      <td>0</td>\n",
       "      <td>44.115535</td>\n",
       "    </tr>\n",
       "  </tbody>\n",
       "</table>\n",
       "</div>"
      ],
      "text/plain": [
       "   t  n    p  Pd1         Pd2  Re1        Re2\n",
       "0  1  1  1.0    0  174.047689    0  58.841980\n",
       "1  2  1  0.5    0  324.065867    0  45.141510\n",
       "2  2  2  0.5    0  330.583183    0  54.413346\n",
       "3  3  1  0.5    0  320.983740    0  37.409633\n",
       "4  3  2  0.5    0  373.451597    0  44.115535"
      ]
     },
     "execution_count": 7,
     "metadata": {},
     "output_type": "execute_result"
    }
   ],
   "source": [
    "scenario_df"
   ]
  },
  {
   "cell_type": "markdown",
   "metadata": {},
   "source": [
    "### Power Transfer Distribution Factor"
   ]
  },
  {
   "cell_type": "code",
   "execution_count": 109,
   "metadata": {},
   "outputs": [
    {
     "data": {
      "text/plain": [
       "array([[ 0.        , -0.39566454, -0.72503406],\n",
       "       [ 0.        , -0.39566454,  0.27496594],\n",
       "       [ 0.        , -0.60433546, -0.27496594]])"
      ]
     },
     "execution_count": 109,
     "metadata": {},
     "output_type": "execute_result"
    }
   ],
   "source": [
    "nodes = bus_df.bus_i.values.tolist()\n",
    "edges = branch_df[[\"fbus\", \"tbus\"]].values.tolist()\n",
    "\n",
    "graph = utils.Graph(nodes, edges)\n",
    "\n",
    "ref_bus = bus_df.loc[bus_df.type == 3].bus_i.values[0]\n",
    "\n",
    "a_inc = graph.incidence_matrix()\n",
    "b_l = (-branch_df.x /(branch_df.r**2 + branch_df.x**2)).tolist()\n",
    "b_diag = np.diag(b_l)\n",
    "\n",
    "m1 = b_diag.dot(a_inc)\n",
    "m2 = a_inc.T.dot(b_diag).dot(a_inc)\n",
    "\n",
    "m1 = np.delete(m1, ref_bus-1, 1)\n",
    "m2 = np.delete(m2, ref_bus-1, 0)\n",
    "m2 = np.delete(m2, ref_bus-1, 1)\n",
    "\n",
    "ptdf = m1.dot(np.linalg.inv(m2))\n",
    "\n",
    "ptdf = np.insert(ptdf, ref_bus-1, 0, axis=1)\n",
    "\n",
    "ptdf"
   ]
  },
  {
   "cell_type": "markdown",
   "metadata": {},
   "source": [
    "### Parameter Organization"
   ]
  },
  {
   "cell_type": "code",
   "execution_count": 110,
   "metadata": {},
   "outputs": [],
   "source": [
    "########################################################################################################################\n",
    "# Deterministic parameters\n",
    "########################################################################################################################\n",
    "gc = np.array(gen_cost_df.c1)\n",
    "suc = np.array(gen_cost_df.startup)\n",
    "sdc = np.array( gen_cost_df.startup)\n",
    "pg_min = np.array(gen_df.Pmin)\n",
    "pg_max = np.array(gen_df.Pmax)\n",
    "pl_max = np.array(branch_df.rateA)\n",
    "\n",
    "n_gens = len(gc)\n",
    "n_lines, n_buses = ptdf.shape\n",
    "\n",
    "# Lists of generators at each bus\n",
    "#\n",
    "# Example: [[0,1], [], [2]]\n",
    "# Generator 1 & 2 are located at bus 1\n",
    "# No Generator is located at bus 2\n",
    "# Generator 3 is located at bus 3\n",
    "gens_at_bus = [[] for _ in range(n_buses)]\n",
    "g = 0\n",
    "for b in gen_df.bus.values:\n",
    "    gens_at_bus[b-1].append(g)\n",
    "    g+=1\n",
    "\n",
    "# TODO Add ramp rate limits\n",
    "rg_up_max = np.full(n_gens, 1000)\n",
    "rg_down_max = np.full(n_gens, 1000)\n",
    "    \n",
    "########################################################################################################################\n",
    "# Stochastic parameters\n",
    "########################################################################################################################\n",
    "n_nodes_per_stage = scenario_df.groupby(\"t\")[\"n\"].nunique().tolist()\n",
    "n_stages = len(n_nodes_per_stage)\n",
    "\n",
    "prob = []\n",
    "p_d = []\n",
    "\n",
    "for t in range(n_stages):\n",
    "    stage_df = scenario_df[scenario_df[\"t\"] == t+1]\n",
    "    p_d.append(stage_df[scenario_df.columns[scenario_df.columns.to_series().str.contains('Pd')]].values.tolist())\n",
    "    prob.append(stage_df[\"p\"].values.tolist())\n",
    "\n",
    "\n",
    "########################################################################################################################\n",
    "# Expected values of stochastic parameters\n",
    "########################################################################################################################\n",
    "ex_pd = [np.array(prob[t]).dot(np.array(p_d[t])) for t in range(n_stages)]"
   ]
  },
  {
   "cell_type": "code",
   "execution_count": 111,
   "metadata": {},
   "outputs": [
    {
     "data": {
      "text/plain": [
       "[[1.0], [0.5, 0.5], [0.5, 0.5], [0.5, 0.5], [0.5, 0.5], [0.5, 0.5]]"
      ]
     },
     "execution_count": 111,
     "metadata": {},
     "output_type": "execute_result"
    }
   ],
   "source": [
    "# prob[t][n]\n",
    "# Probability of realization n at stage t\n",
    "#prob"
   ]
  },
  {
   "cell_type": "code",
   "execution_count": 112,
   "metadata": {},
   "outputs": [
    {
     "data": {
      "text/plain": [
       "[[[44.54372063015073, 39.87236623381583, 36.93197251275404]],\n",
       " [[62.54501068568694, 61.92614621908863, 50.108444390940704],\n",
       "  [65.15880071905508, 64.42778836961988, 57.203042112305226]],\n",
       " [[112.95342858934262, 100.26378409014924, 83.68709047284852],\n",
       "  [105.88728210075874, 98.82902687421333, 87.81655289255107]],\n",
       " [[102.47359712356636, 102.86368574222556, 95.7770332692824],\n",
       "  [97.60080286189832, 102.11013441557157, 85.05346559544873]],\n",
       " [[100.25006136356586, 95.53875225838196, 84.69123942554963],\n",
       "  [103.10516072236364, 97.5092131933629, 92.6944656222324]],\n",
       " [[110.31905816594666, 119.95213524929262, 102.05904507775809],\n",
       "  [109.4285821721908, 102.5049435468718, 87.92290719259505]]]"
      ]
     },
     "execution_count": 112,
     "metadata": {},
     "output_type": "execute_result"
    }
   ],
   "source": [
    "# p_d[t][n][b]\n",
    "# Demand in stage t and realization n at bus b\n",
    "#p_d"
   ]
  },
  {
   "cell_type": "code",
   "execution_count": 113,
   "metadata": {},
   "outputs": [
    {
     "data": {
      "text/plain": [
       "[array([44.54372063, 39.87236623, 36.93197251]),\n",
       " array([63.8519057 , 63.17696729, 53.65574325]),\n",
       " array([109.42035535,  99.54640548,  85.75182168]),\n",
       " array([100.03719999, 102.48691008,  90.41524943]),\n",
       " array([101.67761104,  96.52398273,  88.69285252]),\n",
       " array([109.87382017, 111.2285394 ,  94.99097614])]"
      ]
     },
     "execution_count": 113,
     "metadata": {},
     "output_type": "execute_result"
    }
   ],
   "source": [
    "# ex_pd[t][b]\n",
    "# Expected demand in stage t at bus b\n",
    "#ex_pd"
   ]
  },
  {
   "cell_type": "markdown",
   "metadata": {},
   "source": [
    "## SDDiP"
   ]
  },
  {
   "cell_type": "code",
   "execution_count": 114,
   "metadata": {},
   "outputs": [],
   "source": [
    "# Result keys\n",
    "x_key = \"x\"\n",
    "y_key = \"y\"\n",
    "x_bs_key = \"x_bs\"\n",
    "primal_solution_keys = [x_key, y_key, x_bs_key]\n",
    "\n",
    "dv_key = \"dual_value\"\n",
    "dm_key = \"dual_multiplier\"\n",
    "dual_solution_keys = [dv_key, dm_key]\n",
    "\n",
    "ci_key = \"intercepts\"\n",
    "cg_key = \"gradients\"\n",
    "bm_key = \"multipliers\"\n",
    "cut_coefficient_keys = [ci_key, cg_key, bm_key]\n",
    "\n",
    "\n",
    "# Result storage\n",
    "ps_storage = storage.ResultStorage(primal_solution_keys, \"primal\")\n",
    "ds_storage = storage.ResultStorage(dual_solution_keys, \"dual\")\n",
    "cc_storage = storage.ResultStorage(cut_coefficient_keys, \"cuts\")\n"
   ]
  },
  {
   "cell_type": "code",
   "execution_count": 115,
   "metadata": {},
   "outputs": [],
   "source": [
    "global_sos = True"
   ]
  },
  {
   "cell_type": "markdown",
   "metadata": {},
   "source": [
    "### Forward pass"
   ]
  },
  {
   "cell_type": "code",
   "execution_count": 116,
   "metadata": {},
   "outputs": [
    {
     "name": "stdout",
     "output_type": "stream",
     "text": [
      "k=0\n",
      "Objective value t=0, n=0: 150.61767125206472\n",
      "[[0.0, -0.0], [1.0, -0.0]]\n",
      "Objective value t=1, n=1: 224.14755744117622\n",
      "[[0.0, -0.0], [1.0, 1.0]]\n",
      "Objective value t=2, n=0: 356.28516378280847\n",
      "[[0.0, -0.0], [1.0, 1.0]]\n",
      "Objective value t=3, n=0: 370.5715806753716\n",
      "[[1.0, -0.0], [1.0, 1.0]]\n",
      "Objective value t=4, n=1: 351.9706074455507\n",
      "[[1.0, 1.0], [1.0, 1.0]]\n",
      "Objective value t=5, n=0: 521.6511924649867\n",
      "[[1.0, 1.0], [1.0, 1.0]]\n"
     ]
    }
   ],
   "source": [
    "penalty = 10000\n",
    "cost_coeffs = gc.tolist() + suc.tolist() + sdc.tolist() + [penalty]*2\n",
    "theta_lb = 0\n",
    "\n",
    "min_up_times = [2]*n_gens\n",
    "min_down_times = [2]*n_gens\n",
    "backsight_periods = [max(ut, dt) for ut, dt in zip(min_up_times, min_down_times)]\n",
    "\n",
    "x_trial_point = [0]*n_gens\n",
    "y_trial_point = [0]*n_gens\n",
    "x_bs_trial_point = [[0]*periods for periods in backsight_periods]\n",
    "soc_trial_point = params.init_soc_trial_point\n",
    "\n",
    "# Sampling\n",
    "n_samples = 1\n",
    "samples = scenarios.ScenarioSampler(n_stages, 2).generate_samples(n_samples)\n",
    "\n",
    "v_opt_k = []\n",
    "i = 0\n",
    "for k in range(n_samples):\n",
    "    v_opt_k.append(0)\n",
    "    print(f\"k={k}\")\n",
    "    for t, n in zip(range(n_stages), samples[k]):\n",
    "\n",
    "        # Create forward model\n",
    "        uc_fw = ucmodel.ForwardModelBuilder(n_buses, n_lines, n_gens, gens_at_bus, backsight_periods)\n",
    "\n",
    "        uc_fw.add_objective(cost_coeffs)\n",
    "\n",
    "        uc_fw.add_balance_constraints(sum(params.p_d[t][n]), sum(params.re[t][n]))\n",
    "\n",
    "        uc_fw.add_power_flow_constraints(ptdf, pl_max, p_d[t][n])\n",
    "\n",
    "        uc_fw.add_generator_constraints(pg_min, pg_max)\n",
    "\n",
    "        uc_fw.add_startup_shutdown_constraints()\n",
    "\n",
    "        uc_fw.add_ramp_rate_constraints(rg_up_max, rg_down_max)\n",
    "\n",
    "        uc_fw.add_up_down_time_constraints(min_up_times, min_up_times)\n",
    "\n",
    "        uc_fw.add_copy_constraints(x_trial_point, y_trial_point, x_bs_trial_point)\n",
    "\n",
    "        #TODO Lower bound\n",
    "        uc_fw.add_cut_lower_bound(theta_lb)\n",
    "        \n",
    "        if i>0:\n",
    "            cut_coefficients = cc_storage.get_stage_result(t)\n",
    "            uc_fw.add_cut_constraints(cut_coefficients[ci_key], cut_coefficients[cg_key], cut_coefficients[bm_key])\n",
    "        \n",
    "        # Solve problem\n",
    "        uc_fw.disable_output()\n",
    "        uc_fw.model.optimize()\n",
    "        model = uc_fw.model\n",
    "        uc_fw.model.printAttr(\"X\")\n",
    "\n",
    "        # Store xtik, ytik, ztik, vtik\n",
    "        x_kt = [x_g.x for x_g in uc_fw.x]\n",
    "        y_kt = [y_g.x for y_g in uc_fw.y]\n",
    "        x_bs_kt = [[x_bs_g.x for x_bs_g in x_bs] for x_bs in uc_fw.x_bs ]\n",
    "        z_x_kt = [z_g.x for z_g in uc_fw.z_x]\n",
    "        z_y_kt = [z_g.x for z_g in uc_fw.z_y]\n",
    "        s_up_kt = [s_up_g.x for s_up_g in uc_fw.s_up]\n",
    "        s_down_kt = [s_down_g.x for s_down_g in uc_fw.s_down]\n",
    "        # Value of stage t objective function\n",
    "        print(f\"Objective value t={t}, n={n}: {uc_fw.model.getObjective().getValue()}\")\n",
    "        v_opt_kt = uc_fw.model.getObjective().getValue() - uc_fw.theta.x\n",
    "\n",
    "        v_opt_k[-1] += v_opt_kt\n",
    "\n",
    "        # New trial point\n",
    "        x_trial_point = x_kt\n",
    "        y_trial_point = y_kt\n",
    "        x_bs_trial_point = [[x_trial_point[g]]+x_bs_kt[g][:-1] for g in range(n_gens)]\n",
    "\n",
    "        ps_dict = ps_storage.create_empty_result_dict()\n",
    "        ps_dict[x_key] = x_kt\n",
    "        ps_dict[y_key] = y_kt\n",
    "        ps_dict[x_bs_key] = x_bs_trial_point\n",
    "        \n",
    "        ps_storage.add_result(i, k, t, ps_dict)"
   ]
  },
  {
   "cell_type": "markdown",
   "metadata": {},
   "source": [
    "#### Statistical Upper Bound"
   ]
  },
  {
   "cell_type": "code",
   "execution_count": 118,
   "metadata": {},
   "outputs": [
    {
     "data": {
      "text/plain": [
       "1975.2437730619586"
      ]
     },
     "execution_count": 118,
     "metadata": {},
     "output_type": "execute_result"
    }
   ],
   "source": [
    "v_opt_k = np.array(v_opt_k)\n",
    "\n",
    "v_mean = np.mean(v_opt_k)\n",
    "v_std = np.std(v_opt_k)\n",
    "alpha = 0.05\n",
    "\n",
    "# Lower limit of the confidence interval\n",
    "v_upper = v_mean + stats.norm.ppf(alpha/2)*v_std/np.sqrt(n_samples)\n",
    "v_upper"
   ]
  },
  {
   "cell_type": "code",
   "execution_count": 119,
   "metadata": {},
   "outputs": [
    {
     "data": {
      "text/plain": [
       "1975.2437730619586"
      ]
     },
     "execution_count": 119,
     "metadata": {},
     "output_type": "execute_result"
    }
   ],
   "source": [
    "# Upper limit of the confidence interval\n",
    "v_mean - stats.norm.ppf(alpha/2)*v_std/np.sqrt(n_samples)"
   ]
  },
  {
   "cell_type": "code",
   "execution_count": 120,
   "metadata": {},
   "outputs": [
    {
     "data": {
      "text/html": [
       "<div>\n",
       "<style scoped>\n",
       "    .dataframe tbody tr th:only-of-type {\n",
       "        vertical-align: middle;\n",
       "    }\n",
       "\n",
       "    .dataframe tbody tr th {\n",
       "        vertical-align: top;\n",
       "    }\n",
       "\n",
       "    .dataframe thead th {\n",
       "        text-align: right;\n",
       "    }\n",
       "</style>\n",
       "<table border=\"1\" class=\"dataframe\">\n",
       "  <thead>\n",
       "    <tr style=\"text-align: right;\">\n",
       "      <th></th>\n",
       "      <th></th>\n",
       "      <th></th>\n",
       "      <th>x</th>\n",
       "      <th>y</th>\n",
       "      <th>x_bs</th>\n",
       "    </tr>\n",
       "    <tr>\n",
       "      <th>i</th>\n",
       "      <th>k</th>\n",
       "      <th>t</th>\n",
       "      <th></th>\n",
       "      <th></th>\n",
       "      <th></th>\n",
       "    </tr>\n",
       "  </thead>\n",
       "  <tbody>\n",
       "    <tr>\n",
       "      <th rowspan=\"6\" valign=\"top\">0</th>\n",
       "      <th rowspan=\"6\" valign=\"top\">0</th>\n",
       "      <th>0</th>\n",
       "      <td>[0.0, 1.0]</td>\n",
       "      <td>[0.0, 121.34805937672061]</td>\n",
       "      <td>[[0.0, -0.0], [1.0, -0.0]]</td>\n",
       "    </tr>\n",
       "    <tr>\n",
       "      <th>1</th>\n",
       "      <td>[0.0, 1.0]</td>\n",
       "      <td>[0.0, 186.78963120098018]</td>\n",
       "      <td>[[0.0, -0.0], [1.0, 1.0]]</td>\n",
       "    </tr>\n",
       "    <tr>\n",
       "      <th>2</th>\n",
       "      <td>[0.0, 1.0]</td>\n",
       "      <td>[0.0, 296.9043031523404]</td>\n",
       "      <td>[[0.0, -0.0], [1.0, 1.0]]</td>\n",
       "    </tr>\n",
       "    <tr>\n",
       "      <th>3</th>\n",
       "      <td>[1.0, 1.0]</td>\n",
       "      <td>[1.1143161350743185, 300.0]</td>\n",
       "      <td>[[1.0, -0.0], [1.0, 1.0]]</td>\n",
       "    </tr>\n",
       "    <tr>\n",
       "      <th>4</th>\n",
       "      <td>[1.0, 1.0]</td>\n",
       "      <td>[0.0, 293.30883953795893]</td>\n",
       "      <td>[[1.0, 1.0], [1.0, 1.0]]</td>\n",
       "    </tr>\n",
       "    <tr>\n",
       "      <th>5</th>\n",
       "      <td>[1.0, 1.0]</td>\n",
       "      <td>[32.33023849299735, 300.0]</td>\n",
       "      <td>[[1.0, 1.0], [1.0, 1.0]]</td>\n",
       "    </tr>\n",
       "  </tbody>\n",
       "</table>\n",
       "</div>"
      ],
      "text/plain": [
       "                x                            y                        x_bs\n",
       "i k t                                                                     \n",
       "0 0 0  [0.0, 1.0]    [0.0, 121.34805937672061]  [[0.0, -0.0], [1.0, -0.0]]\n",
       "    1  [0.0, 1.0]    [0.0, 186.78963120098018]   [[0.0, -0.0], [1.0, 1.0]]\n",
       "    2  [0.0, 1.0]     [0.0, 296.9043031523404]   [[0.0, -0.0], [1.0, 1.0]]\n",
       "    3  [1.0, 1.0]  [1.1143161350743185, 300.0]   [[1.0, -0.0], [1.0, 1.0]]\n",
       "    4  [1.0, 1.0]    [0.0, 293.30883953795893]    [[1.0, 1.0], [1.0, 1.0]]\n",
       "    5  [1.0, 1.0]   [32.33023849299735, 300.0]    [[1.0, 1.0], [1.0, 1.0]]"
      ]
     },
     "execution_count": 120,
     "metadata": {},
     "output_type": "execute_result"
    }
   ],
   "source": [
    "primal_solution_df = ps_storage.to_dataframe()\n",
    "primal_solution_df"
   ]
  },
  {
   "cell_type": "markdown",
   "metadata": {},
   "source": [
    "### Backward pass"
   ]
  },
  {
   "cell_type": "code",
   "execution_count": 121,
   "metadata": {},
   "outputs": [],
   "source": [
    "########################################################################################################################\n",
    "# Backward pass\n",
    "########################################################################################################################\n",
    "\n",
    "\n",
    "binarizer = utils.Binarizer()\n",
    "\n",
    "sg_method = dualsolver.SubgradientMethod(max_iterations=10)\n",
    "\n",
    "cut_lower_bounds = [theta_lb]*n_stages\n",
    "v_opt_k =[]\n",
    "\n",
    "\n",
    "i = 0\n",
    "\n",
    "for t in reversed(range(1,n_stages)):\n",
    "    n_realizations = n_nodes_per_stage[t]\n",
    "    for k in range(n_samples):\n",
    "        ds_dict = ds_storage.create_empty_result_dict()\n",
    "        cc_dict = cc_storage.create_empty_result_dict()\n",
    "        \n",
    "        for n in range(n_realizations):\n",
    "\n",
    "            # TODO Binarization\n",
    "            bin_vars = []\n",
    "            bin_multipliers = []\n",
    "            if t>0:\n",
    "                y_float_vars = ps_storage.get_result(i,k,t-1)[y_key]\n",
    "                x_binary_trial_point = ps_storage.get_result(i,k,t-1)[x_key]\n",
    "                x_bs_binary_trial_point = ps_storage.get_result(i,k,t-1)[x_bs_key]\n",
    "            else:\n",
    "                #TODO Approximation needed?\n",
    "                # Might lead to active penalty\n",
    "                y_float_vars = np.zeros(n_gens)\n",
    "                x_binary_trial_point = np.zeros(n_gens)\n",
    "                x_bs_binary_trial_point = [[0]*periods for periods in backsight_periods]\n",
    "            \n",
    "            for j in range(len(y_float_vars)):\n",
    "                #new_vars, new_multipliers = binarizer.binary_expansion(float_vars[j], upper_bound=pg_max, precision=0.5)\n",
    "                new_vars, new_multipliers = binarizer.binary_expansion_from_n_binaries(y_float_vars[j], pg_max[j], 14)\n",
    "                bin_vars += new_vars\n",
    "                bin_multipliers.append(new_multipliers) \n",
    "\n",
    "\n",
    "            y_binary_trial_point = bin_vars\n",
    "            y_binary_trial_multipliers = linalg.block_diag(*bin_multipliers)\n",
    "\n",
    "\n",
    "            uc_bw = ucmodel.BackwardModelBuilder(n_buses, n_lines, n_gens, gens_at_bus, backsight_periods)\n",
    "\n",
    "            uc_bw.add_objective(cost_coeffs)\n",
    "\n",
    "            uc_bw.add_balance_constraints(sum(p_d[t][n]))\n",
    "\n",
    "            uc_bw.add_generator_constraints(pg_min, pg_max)\n",
    "\n",
    "            uc_bw.add_power_flow_constraints(ptdf, pl_max, p_d[t][n])\n",
    "\n",
    "            uc_bw.add_startup_shutdown_constraints()\n",
    "\n",
    "            uc_bw.add_ramp_rate_constraints(rg_up_max, rg_down_max)\n",
    "\n",
    "            uc_bw.add_relaxation(x_binary_trial_point, y_binary_trial_point, x_bs_binary_trial_point)\n",
    "\n",
    "            uc_bw.add_copy_constraints(y_binary_trial_multipliers)\n",
    "\n",
    "            uc_fw.add_up_down_time_constraints(min_up_times, min_up_times)\n",
    "\n",
    "            uc_bw.add_cut_lower_bound(cut_lower_bounds[t])\n",
    "            \n",
    "            if t < n_stages-1:\n",
    "                cut_coefficients = cc_storage.get_stage_result(t)\n",
    "                uc_bw.add_cut_constraints(cut_coefficients[ci_key], cut_coefficients[cg_key], cut_coefficients[bm_key], big_m=10**25, sos=global_sos)\n",
    "\n",
    "            objective_terms = uc_bw.objective_terms\n",
    "            relaxed_terms = uc_bw.relaxed_terms\n",
    "            \n",
    "            # Solve problem with subgradient method\n",
    "            uc_bw.disable_output()\n",
    "            #uc_bw.model.optimize()\n",
    "            #uc_bw.model.display()\n",
    "            \n",
    "            display_iteration_info = False\n",
    "            if display_iteration_info:\n",
    "                print()\n",
    "                print(\"#\"*20)\n",
    "                print(f\"# t={t}, n={n}\")\n",
    "                print(\"#\"*20)\n",
    "\n",
    "                print(f\"Trial point: {x_binary_trial_point+y_binary_trial_point}\", \"\\n\")\n",
    "                sg_method.output_flag = True\n",
    "                sg_method.output_verbose = True\n",
    "                        \n",
    "            model, sg_results = sg_method.solve(uc_bw.model, objective_terms, relaxed_terms, 100)\n",
    "            \n",
    "            # Dual value and multiplier for each realization\n",
    "            binary_trial_point = x_binary_trial_point + y_binary_trial_point + [x_bs_g for x_bs in x_bs_binary_trial_point for x_bs_g in x_bs]\n",
    "            dual_multipliers = sg_results.multipliers.tolist()\n",
    "            dual_value = sg_results.obj_value - np.array(dual_multipliers).dot(binary_trial_point)\n",
    "\n",
    "            ds_dict[dv_key].append(dual_value)\n",
    "            ds_dict[dm_key].append(dual_multipliers)\n",
    "            \n",
    "        \n",
    "        ds_storage.add_result(i, k, t, ds_dict)\n",
    "\n",
    "        # Calculate and store cut coefficients\n",
    "        probabilities = prob[t]        \n",
    "        intercept = np.array(probabilities).dot(np.array(ds_dict[dv_key]))\n",
    "        gradient = np.array(probabilities).dot(np.array(ds_dict[dm_key]))\n",
    "\n",
    "        cc_dict[ci_key] = intercept.tolist()\n",
    "        cc_dict[cg_key] = gradient.tolist()\n",
    "        cc_dict[bm_key] = y_binary_trial_multipliers\n",
    "\n",
    "        if t > 0 : cc_storage.add_result(i, k, t-1, cc_dict)\n",
    "                "
   ]
  },
  {
   "cell_type": "code",
   "execution_count": 122,
   "metadata": {},
   "outputs": [
    {
     "name": "stdout",
     "output_type": "stream",
     "text": [
      "Primal optimal value t=5, n=0: 521.6511924649867\n",
      "Primal optimal value t=5, n=1: 359.82771949398915\n",
      "Primal optimal value t=4, n=0: 777.2090708015628\n",
      "Primal optimal value t=4, n=1: 792.612000517764\n",
      "Primal optimal value t=3, n=0: 1154.9918259969058\n",
      "Primal optimal value t=3, n=1: 1126.117610342001\n",
      "Primal optimal value t=2, n=0: 1496.4476483671472\n",
      "Primal optimal value t=2, n=1: 1491.1963106059025\n",
      "Primal optimal value t=1, n=0: 1702.7205117957105\n",
      "Primal optimal value t=1, n=1: 1717.3885106001683\n"
     ]
    }
   ],
   "source": [
    "########################################################################################################################\n",
    "# Backward Primal solutions\n",
    "########################################################################################################################\n",
    "\n",
    "\n",
    "binarizer = utils.Binarizer()\n",
    "\n",
    "sg_method = dualsolver.SubgradientMethod(max_iterations=10)\n",
    "\n",
    "cut_lower_bounds = [theta_lb]*n_stages\n",
    "v_opt_k =[]\n",
    "\n",
    "\n",
    "i = 0\n",
    "for t in reversed(range(1,n_stages)):\n",
    "    n_realizations = n_nodes_per_stage[t]\n",
    "    for k in range(n_samples):\n",
    "        ds_dict = ds_storage.create_empty_result_dict()\n",
    "        cc_dict = cc_storage.create_empty_result_dict()\n",
    "        \n",
    "        for n in range(n_realizations):\n",
    "\n",
    "            # TODO Binarization\n",
    "            bin_vars = []\n",
    "            bin_multipliers = []\n",
    "            if t>0:\n",
    "                float_vars = ps_storage.get_result(i,k,t-1)[y_key]\n",
    "                x_binary_trial_point = ps_storage.get_result(i,k,t-1)[x_key]\n",
    "                x_bs_binary_trial_point = ps_storage.get_result(i,k,t-1)[x_bs_key]\n",
    "            else:\n",
    "                #TODO Approximation needed?\n",
    "                # Might lead to active penalty\n",
    "                float_vars = np.zeros(n_gens)\n",
    "                x_binary_trial_point = np.zeros(n_gens)\n",
    "                x_bs_binary_trial_point = [[0]*periods for periods in backsight_periods]\n",
    "            \n",
    "            for j in range(len(float_vars)):\n",
    "                #new_vars, new_multipliers = binarizer.binary_expansion(float_vars[j], upper_bound=pg_max[j], precision=0.5)\n",
    "                new_multipliers = binarizer.calc_binary_multipliers_from_n_binaries(pg_max[j], 14)\n",
    "                new_vars, new_multipliers = binarizer.get_best_binary_approximation(float_vars[j], new_multipliers)\n",
    "                bin_vars += new_vars\n",
    "                bin_multipliers.append(new_multipliers) \n",
    "\n",
    "\n",
    "            y_binary_trial_point = bin_vars\n",
    "            y_binary_trial_multipliers = linalg.block_diag(*bin_multipliers)\n",
    "\n",
    "\n",
    "            uc_bw = ucmodel.BackwardModelBuilder(n_buses, n_lines, n_gens, gens_at_bus, backsight_periods)\n",
    "\n",
    "            uc_bw.add_objective(cost_coeffs)\n",
    "\n",
    "            uc_bw.add_balance_constraints(sum(p_d[t][n]))\n",
    "\n",
    "            uc_bw.add_generator_constraints(pg_min, pg_max)\n",
    "\n",
    "            uc_bw.add_power_flow_constraints(ptdf, pl_max, p_d[t][n])\n",
    "\n",
    "            uc_bw.add_startup_shutdown_constraints()\n",
    "\n",
    "            uc_bw.add_ramp_rate_constraints(rg_up_max, rg_down_max)\n",
    "\n",
    "            uc_bw.add_up_down_time_constraints(min_up_times, min_down_times)\n",
    "\n",
    "            uc_bw.add_relaxation(x_binary_trial_point, y_binary_trial_point, x_bs_binary_trial_point)\n",
    "\n",
    "            uc_bw.add_copy_constraints(y_binary_trial_multipliers)\n",
    "\n",
    "            uc_bw.add_cut_lower_bound(cut_lower_bounds[t])\n",
    "            \n",
    "            if t < n_stages-1:\n",
    "                cut_coefficients = cc_storage.get_stage_result(t)\n",
    "                uc_bw.add_cut_constraints(cut_coefficients[ci_key], cut_coefficients[cg_key], cut_coefficients[bm_key], big_m=10**25, sos=global_sos)\n",
    "\n",
    "            objective_terms = uc_bw.objective_terms\n",
    "            relaxed_terms = uc_bw.relaxed_terms\n",
    "            \n",
    "            for rt in relaxed_terms:\n",
    "                uc_bw.model.addConstr(rt==0)\n",
    "            \n",
    "            uc_bw.model.optimize()\n",
    "            obj_val = uc_bw.model.getObjective().getValue()\n",
    "            print(f\"Primal optimal value t={t}, n={n}: {obj_val}\")"
   ]
  },
  {
   "cell_type": "code",
   "execution_count": 123,
   "metadata": {},
   "outputs": [
    {
     "data": {
      "text/html": [
       "<div>\n",
       "<style scoped>\n",
       "    .dataframe tbody tr th:only-of-type {\n",
       "        vertical-align: middle;\n",
       "    }\n",
       "\n",
       "    .dataframe tbody tr th {\n",
       "        vertical-align: top;\n",
       "    }\n",
       "\n",
       "    .dataframe thead th {\n",
       "        text-align: right;\n",
       "    }\n",
       "</style>\n",
       "<table border=\"1\" class=\"dataframe\">\n",
       "  <thead>\n",
       "    <tr style=\"text-align: right;\">\n",
       "      <th></th>\n",
       "      <th></th>\n",
       "      <th></th>\n",
       "      <th>dual_value</th>\n",
       "      <th>dual_multiplier</th>\n",
       "    </tr>\n",
       "    <tr>\n",
       "      <th>i</th>\n",
       "      <th>k</th>\n",
       "      <th>t</th>\n",
       "      <th></th>\n",
       "      <th></th>\n",
       "    </tr>\n",
       "  </thead>\n",
       "  <tbody>\n",
       "    <tr>\n",
       "      <th rowspan=\"5\" valign=\"top\">0</th>\n",
       "      <th rowspan=\"5\" valign=\"top\">0</th>\n",
       "      <th>5</th>\n",
       "      <td>[519.297798843329, 359.82771949398915]</td>\n",
       "      <td>[[0.0, 0.0, -0.19611613513818404, -0.196116135...</td>\n",
       "    </tr>\n",
       "    <tr>\n",
       "      <th>4</th>\n",
       "      <td>[773.5809223015074, 788.9838520182768]</td>\n",
       "      <td>[[0.0, 0.0, 0.0, -0.19611613513818404, 0.0, 0....</td>\n",
       "    </tr>\n",
       "    <tr>\n",
       "      <th>3</th>\n",
       "      <td>[1152.2901926510078, 1123.4159769955347]</td>\n",
       "      <td>[[-5.639663685229833, 0.0, -0.1924500897298752...</td>\n",
       "    </tr>\n",
       "    <tr>\n",
       "      <th>2</th>\n",
       "      <td>[1493.9054707011667, 1488.654132939922]</td>\n",
       "      <td>[[-3.196116135138184, 0.0, -0.1961161351381840...</td>\n",
       "    </tr>\n",
       "    <tr>\n",
       "      <th>1</th>\n",
       "      <td>[1700.68727835377, 1715.3552771582276]</td>\n",
       "      <td>[[-3.2041241452319316, 0.0, -0.204124145231931...</td>\n",
       "    </tr>\n",
       "  </tbody>\n",
       "</table>\n",
       "</div>"
      ],
      "text/plain": [
       "                                     dual_value  \\\n",
       "i k t                                             \n",
       "0 0 5    [519.297798843329, 359.82771949398915]   \n",
       "    4    [773.5809223015074, 788.9838520182768]   \n",
       "    3  [1152.2901926510078, 1123.4159769955347]   \n",
       "    2   [1493.9054707011667, 1488.654132939922]   \n",
       "    1    [1700.68727835377, 1715.3552771582276]   \n",
       "\n",
       "                                         dual_multiplier  \n",
       "i k t                                                     \n",
       "0 0 5  [[0.0, 0.0, -0.19611613513818404, -0.196116135...  \n",
       "    4  [[0.0, 0.0, 0.0, -0.19611613513818404, 0.0, 0....  \n",
       "    3  [[-5.639663685229833, 0.0, -0.1924500897298752...  \n",
       "    2  [[-3.196116135138184, 0.0, -0.1961161351381840...  \n",
       "    1  [[-3.2041241452319316, 0.0, -0.204124145231931...  "
      ]
     },
     "execution_count": 123,
     "metadata": {},
     "output_type": "execute_result"
    }
   ],
   "source": [
    "# One dual value and one set of dual multipliers for each realization\n",
    "ds_storage.to_dataframe()\n"
   ]
  },
  {
   "cell_type": "code",
   "execution_count": 124,
   "metadata": {},
   "outputs": [
    {
     "data": {
      "text/html": [
       "<div>\n",
       "<style scoped>\n",
       "    .dataframe tbody tr th:only-of-type {\n",
       "        vertical-align: middle;\n",
       "    }\n",
       "\n",
       "    .dataframe tbody tr th {\n",
       "        vertical-align: top;\n",
       "    }\n",
       "\n",
       "    .dataframe thead th {\n",
       "        text-align: right;\n",
       "    }\n",
       "</style>\n",
       "<table border=\"1\" class=\"dataframe\">\n",
       "  <thead>\n",
       "    <tr style=\"text-align: right;\">\n",
       "      <th></th>\n",
       "      <th></th>\n",
       "      <th></th>\n",
       "      <th>intercepts</th>\n",
       "      <th>gradients</th>\n",
       "      <th>multipliers</th>\n",
       "    </tr>\n",
       "    <tr>\n",
       "      <th>i</th>\n",
       "      <th>k</th>\n",
       "      <th>t</th>\n",
       "      <th></th>\n",
       "      <th></th>\n",
       "      <th></th>\n",
       "    </tr>\n",
       "  </thead>\n",
       "  <tbody>\n",
       "    <tr>\n",
       "      <th rowspan=\"5\" valign=\"top\">0</th>\n",
       "      <th rowspan=\"5\" valign=\"top\">0</th>\n",
       "      <th>4</th>\n",
       "      <td>439.562759</td>\n",
       "      <td>[0.0, 0.0, -0.09805806756909202, -0.0980580675...</td>\n",
       "      <td>[[0.018311664530305805, 0.03662332906061161, 0...</td>\n",
       "    </tr>\n",
       "    <tr>\n",
       "      <th>3</th>\n",
       "      <td>781.282387</td>\n",
       "      <td>[0.0, 0.0, 0.0, -0.19611613513818404, 0.0, 0.0...</td>\n",
       "      <td>[[0.018311664530305805, 0.03662332906061161, 0...</td>\n",
       "    </tr>\n",
       "    <tr>\n",
       "      <th>2</th>\n",
       "      <td>1137.853085</td>\n",
       "      <td>[-2.9160568874798543, 0.0, -0.1924500897298752...</td>\n",
       "      <td>[[0.018311664530305805, 0.03662332906061161, 0...</td>\n",
       "    </tr>\n",
       "    <tr>\n",
       "      <th>1</th>\n",
       "      <td>1491.279802</td>\n",
       "      <td>[-3.196116135138184, 0.0, -0.19611613513818404...</td>\n",
       "      <td>[[0.018311664530305805, 0.03662332906061161, 0...</td>\n",
       "    </tr>\n",
       "    <tr>\n",
       "      <th>0</th>\n",
       "      <td>1708.021278</td>\n",
       "      <td>[-3.2041241452319316, 0.0, -0.2041241452319315...</td>\n",
       "      <td>[[0.018311664530305805, 0.03662332906061161, 0...</td>\n",
       "    </tr>\n",
       "  </tbody>\n",
       "</table>\n",
       "</div>"
      ],
      "text/plain": [
       "        intercepts                                          gradients  \\\n",
       "i k t                                                                   \n",
       "0 0 4   439.562759  [0.0, 0.0, -0.09805806756909202, -0.0980580675...   \n",
       "    3   781.282387  [0.0, 0.0, 0.0, -0.19611613513818404, 0.0, 0.0...   \n",
       "    2  1137.853085  [-2.9160568874798543, 0.0, -0.1924500897298752...   \n",
       "    1  1491.279802  [-3.196116135138184, 0.0, -0.19611613513818404...   \n",
       "    0  1708.021278  [-3.2041241452319316, 0.0, -0.2041241452319315...   \n",
       "\n",
       "                                             multipliers  \n",
       "i k t                                                     \n",
       "0 0 4  [[0.018311664530305805, 0.03662332906061161, 0...  \n",
       "    3  [[0.018311664530305805, 0.03662332906061161, 0...  \n",
       "    2  [[0.018311664530305805, 0.03662332906061161, 0...  \n",
       "    1  [[0.018311664530305805, 0.03662332906061161, 0...  \n",
       "    0  [[0.018311664530305805, 0.03662332906061161, 0...  "
      ]
     },
     "execution_count": 124,
     "metadata": {},
     "output_type": "execute_result"
    }
   ],
   "source": [
    "cc_storage.to_dataframe()\n"
   ]
  },
  {
   "cell_type": "markdown",
   "metadata": {},
   "source": [
    "### Lower Bound Update"
   ]
  },
  {
   "cell_type": "code",
   "execution_count": 125,
   "metadata": {},
   "outputs": [
    {
     "data": {
      "text/plain": [
       "1860.2719330761556"
      ]
     },
     "execution_count": 125,
     "metadata": {},
     "output_type": "execute_result"
    }
   ],
   "source": [
    "i = 1\n",
    "t = 0\n",
    "n = 0\n",
    "\n",
    "x_trial_point = [0]*n_gens\n",
    "y_trial_point = [0]*n_gens\n",
    "x_bs_trial_point = [[0]*periods for periods in backsight_periods]\n",
    "\n",
    "\n",
    "# Create forward model\n",
    "uc_fw = ucmodel.ForwardModelBuilder(n_buses, n_lines, n_gens, gens_at_bus, backsight_periods)\n",
    "\n",
    "uc_fw.add_objective(cost_coeffs)\n",
    "\n",
    "uc_fw.add_balance_constraints(sum(p_d[t][n]))\n",
    "\n",
    "uc_fw.add_power_flow_constraints(ptdf, pl_max, p_d[t][n])\n",
    "\n",
    "uc_fw.add_generator_constraints(pg_min, pg_max)\n",
    "\n",
    "uc_fw.add_startup_shutdown_constraints()\n",
    "\n",
    "uc_fw.add_ramp_rate_constraints(rg_up_max, rg_down_max)\n",
    "\n",
    "uc_fw.add_up_down_time_constraints(min_down_times, min_up_times)\n",
    "\n",
    "uc_fw.add_copy_constraints(x_trial_point, y_trial_point, x_bs_trial_point)\n",
    "\n",
    "#TODO Lower bound\n",
    "uc_fw.add_cut_lower_bound(theta_lb)\n",
    "\n",
    "if i>0:\n",
    "    cut_coefficients = cc_storage.get_stage_result(t)\n",
    "    uc_fw.add_cut_constraints(cut_coefficients[ci_key], cut_coefficients[cg_key], cut_coefficients[bm_key], big_m=10**25, sos=global_sos)\n",
    "\n",
    "# Solve problem\n",
    "#uc_fw.disable_output()\n",
    "uc_fw.model.optimize()\n",
    "uc_fw.model.printAttr(\"X\")\n",
    "    \n",
    "\n",
    "\n",
    "# Store xtik, ytik, ztik, vtik\n",
    "x_kt = [x_g.x for x_g in uc_fw.x]\n",
    "y_kt = [y_g.x for y_g in uc_fw.y]\n",
    "z_x_kt = [z_g.x for z_g in uc_fw.z_x]\n",
    "z_y_kt = [z_g.x for z_g in uc_fw.z_y]\n",
    "s_up_kt = [s_up_g.x for s_up_g in uc_fw.s_up]\n",
    "s_down_kt = [s_down_g.x for s_down_g in uc_fw.s_down]\n",
    "\n",
    "# Value of stage t objective function\n",
    "v_lower = uc_fw.model.getObjective().getValue()\n",
    "\n",
    "v_lower\n",
    "#TODO : Problem cut ist keine Funktion in y, sondern scalar"
   ]
  },
  {
   "cell_type": "code",
   "execution_count": 126,
   "metadata": {},
   "outputs": [],
   "source": [
    "# model.setParam(\"DualReductions\", 0)\n",
    "# model.reset()\n",
    "# model.optimize()"
   ]
  },
  {
   "cell_type": "code",
   "execution_count": 127,
   "metadata": {},
   "outputs": [],
   "source": [
    "# model.computeIIS()\n",
    "# if model.IISMinimal:\n",
    "#     print(\"IIS is minimal.\")\n",
    "# else:\n",
    "#     print(\"IIS is not minimal.\")\n",
    "# for c in model.getConstrs():\n",
    "#     if c.IISConstr:\n",
    "#         print('%s'%model.constrName)"
   ]
  },
  {
   "cell_type": "code",
   "execution_count": 128,
   "metadata": {},
   "outputs": [],
   "source": [
    "# model.write(\"iis\"+\".ilp\")"
   ]
  },
  {
   "cell_type": "code",
   "execution_count": 129,
   "metadata": {},
   "outputs": [],
   "source": [
    "#df = ps_storage.to_dataframe()\n",
    "#df"
   ]
  },
  {
   "cell_type": "code",
   "execution_count": 1,
   "metadata": {},
   "outputs": [
    {
     "data": {
      "text/plain": [
       "[1, 3, 4, 5, 6, 7]"
      ]
     },
     "execution_count": 1,
     "metadata": {},
     "output_type": "execute_result"
    }
   ],
   "source": [
    "[1,3,4] + [5,6,7]"
   ]
  }
 ],
 "metadata": {
  "interpreter": {
   "hash": "abe42ade3e87b4e6c3c5745962b526975dbcf6574cac0f27c7eb88f5d6f3bab5"
  },
  "kernelspec": {
   "display_name": "Python 3.10.0 64-bit ('optimization': conda)",
   "language": "python",
   "name": "python3"
  },
  "language_info": {
   "codemirror_mode": {
    "name": "ipython",
    "version": 3
   },
   "file_extension": ".py",
   "mimetype": "text/x-python",
   "name": "python",
   "nbconvert_exporter": "python",
   "pygments_lexer": "ipython3",
   "version": "3.9.7"
  },
  "orig_nbformat": 4
 },
 "nbformat": 4,
 "nbformat_minor": 2
}
