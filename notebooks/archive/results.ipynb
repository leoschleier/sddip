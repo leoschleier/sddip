{
 "cells": [
  {
   "cell_type": "markdown",
   "metadata": {},
   "source": [
    "# Results"
   ]
  },
  {
   "cell_type": "code",
   "execution_count": null,
   "metadata": {},
   "outputs": [],
   "source": [
    "import os\n",
    "import ast\n",
    "import numpy as np\n",
    "import pandas as pd"
   ]
  },
  {
   "cell_type": "code",
   "execution_count": null,
   "metadata": {},
   "outputs": [],
   "source": [
    "from sddip import config"
   ]
  },
  {
   "cell_type": "markdown",
   "metadata": {},
   "source": [
    "## Choose results folder !!!"
   ]
  },
  {
   "cell_type": "code",
   "execution_count": null,
   "metadata": {},
   "outputs": [],
   "source": [
    "# Choose results folder\n",
    "results_folder = \"results_2022_03_04__14_32_13\""
   ]
  },
  {
   "cell_type": "code",
   "execution_count": null,
   "metadata": {},
   "outputs": [],
   "source": [
    "ps = \"primal_solutions.csv\"\n",
    "ds = \"dual_solutions.csv\"\n",
    "cc = \"cut_coefficients.csv\"\n",
    "dual_solver = \"dual_solver.csv\"\n",
    "\n",
    "results_dir = os.path.join(config.solutions_dir, results_folder)\n",
    "\n",
    "ps_dir = os.path.join(results_dir, ps)\n",
    "ds_dir = os.path.join(results_dir, ds)\n",
    "cc_dir = os.path.join(results_dir, cc)\n",
    "dual_solver_dir = os.path.join(results_dir, dual_solver)"
   ]
  },
  {
   "cell_type": "code",
   "execution_count": null,
   "metadata": {},
   "outputs": [],
   "source": [
    "ps_df = pd.read_csv(ps_dir, sep=\"\\t\")\n",
    "ps_df"
   ]
  },
  {
   "cell_type": "code",
   "execution_count": null,
   "metadata": {},
   "outputs": [],
   "source": [
    "ds_df = pd.read_csv(ds_dir, sep = \"\\t\")\n",
    "ds_df"
   ]
  },
  {
   "cell_type": "code",
   "execution_count": null,
   "metadata": {},
   "outputs": [],
   "source": [
    "cc_df = pd.read_csv(cc_dir, sep = \"\\t\")\n",
    "cc_df"
   ]
  },
  {
   "cell_type": "code",
   "execution_count": null,
   "metadata": {},
   "outputs": [],
   "source": [
    "dual_solver_df = pd.read_csv(dual_solver_dir, sep= \"\\t\")\n",
    "dual_solver_df"
   ]
  },
  {
   "cell_type": "code",
   "execution_count": null,
   "metadata": {},
   "outputs": [],
   "source": [
    "dual_solver_df[\"iterations\"]=dual_solver_df.iterations.apply(lambda x: ast.literal_eval(str(x)))\n",
    "dual_solver_df[\"solver_time\"]=dual_solver_df.solver_time.apply(lambda x: ast.literal_eval(str(x)))"
   ]
  },
  {
   "cell_type": "code",
   "execution_count": null,
   "metadata": {},
   "outputs": [],
   "source": [
    "solver_times = np.array(dual_solver_df.solver_time.values.tolist())\n",
    "solver_times"
   ]
  },
  {
   "cell_type": "code",
   "execution_count": null,
   "metadata": {},
   "outputs": [],
   "source": [
    "iterations = np.array(dual_solver_df.iterations.tolist())\n",
    "iterations"
   ]
  },
  {
   "cell_type": "code",
   "execution_count": null,
   "metadata": {},
   "outputs": [],
   "source": [
    "np.sum(solver_times, axis=1)"
   ]
  },
  {
   "cell_type": "code",
   "execution_count": null,
   "metadata": {},
   "outputs": [],
   "source": [
    "solver_times_adjusted = np.divide(solver_times, iterations)\n",
    "np.sum(solver_times_adjusted, axis=1)"
   ]
  }
 ],
 "metadata": {
  "interpreter": {
   "hash": "abe42ade3e87b4e6c3c5745962b526975dbcf6574cac0f27c7eb88f5d6f3bab5"
  },
  "kernelspec": {
   "display_name": "Python 3.10.0 64-bit ('optimization': conda)",
   "language": "python",
   "name": "python3"
  },
  "language_info": {
   "codemirror_mode": {
    "name": "ipython",
    "version": 3
   },
   "file_extension": ".py",
   "mimetype": "text/x-python",
   "name": "python",
   "nbconvert_exporter": "python",
   "pygments_lexer": "ipython3",
   "version": "3.9.7"
  },
  "orig_nbformat": 4
 },
 "nbformat": 4,
 "nbformat_minor": 2
}
