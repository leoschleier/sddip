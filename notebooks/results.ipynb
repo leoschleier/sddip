{
 "cells": [
  {
   "cell_type": "markdown",
   "metadata": {},
   "source": [
    "# Results"
   ]
  },
  {
   "cell_type": "code",
   "execution_count": 125,
   "metadata": {},
   "outputs": [],
   "source": [
    "import os\n",
    "import ast\n",
    "import numpy as np\n",
    "import pandas as pd"
   ]
  },
  {
   "cell_type": "code",
   "execution_count": 126,
   "metadata": {},
   "outputs": [],
   "source": [
    "from sddip import config"
   ]
  },
  {
   "cell_type": "markdown",
   "metadata": {},
   "source": [
    "## Choose results folder !!!"
   ]
  },
  {
   "cell_type": "code",
   "execution_count": 127,
   "metadata": {},
   "outputs": [],
   "source": [
    "# Choose results folder\n",
    "results_folder = \"results_2022_03_04__14_32_13\""
   ]
  },
  {
   "cell_type": "code",
   "execution_count": 128,
   "metadata": {},
   "outputs": [],
   "source": [
    "ps = \"primal_solutions.csv\"\n",
    "ds = \"dual_solutions.csv\"\n",
    "cc = \"cut_coefficients.csv\"\n",
    "dual_solver = \"dual_solver.csv\"\n",
    "\n",
    "results_dir = os.path.join(config.solutions_dir, results_folder)\n",
    "\n",
    "ps_dir = os.path.join(results_dir, ps)\n",
    "ds_dir = os.path.join(results_dir, ds)\n",
    "cc_dir = os.path.join(results_dir, cc)\n",
    "dual_solver_dir = os.path.join(results_dir, dual_solver)"
   ]
  },
  {
   "cell_type": "code",
   "execution_count": 129,
   "metadata": {},
   "outputs": [
    {
     "data": {
      "text/html": [
       "<div>\n",
       "<style scoped>\n",
       "    .dataframe tbody tr th:only-of-type {\n",
       "        vertical-align: middle;\n",
       "    }\n",
       "\n",
       "    .dataframe tbody tr th {\n",
       "        vertical-align: top;\n",
       "    }\n",
       "\n",
       "    .dataframe thead th {\n",
       "        text-align: right;\n",
       "    }\n",
       "</style>\n",
       "<table border=\"1\" class=\"dataframe\">\n",
       "  <thead>\n",
       "    <tr style=\"text-align: right;\">\n",
       "      <th></th>\n",
       "      <th>i</th>\n",
       "      <th>k</th>\n",
       "      <th>t</th>\n",
       "      <th>x</th>\n",
       "      <th>y</th>\n",
       "      <th>x_bs</th>\n",
       "      <th>soc</th>\n",
       "      <th>v</th>\n",
       "    </tr>\n",
       "  </thead>\n",
       "  <tbody>\n",
       "    <tr>\n",
       "      <th>0</th>\n",
       "      <td>0</td>\n",
       "      <td>0</td>\n",
       "      <td>0</td>\n",
       "      <td>[0.0, 1.0, 0.0]</td>\n",
       "      <td>[0.0, 49.95917534446764, 0.0]</td>\n",
       "      <td>[[0.0, -0.0], [1.0, -0.0], [0.0, -0.0]]</td>\n",
       "      <td>[5.0]</td>\n",
       "      <td>1516.228159</td>\n",
       "    </tr>\n",
       "    <tr>\n",
       "      <th>1</th>\n",
       "      <td>0</td>\n",
       "      <td>0</td>\n",
       "      <td>1</td>\n",
       "      <td>[-0.0, 1.0, -0.0]</td>\n",
       "      <td>[0.0, 48.266054658227894, 0.0]</td>\n",
       "      <td>[[-0.0, -0.0], [1.0, 1.0], [-0.0, -0.0]]</td>\n",
       "      <td>[0.0]</td>\n",
       "      <td>498.733143</td>\n",
       "    </tr>\n",
       "    <tr>\n",
       "      <th>2</th>\n",
       "      <td>0</td>\n",
       "      <td>0</td>\n",
       "      <td>2</td>\n",
       "      <td>[0.0, 1.0, 1.0]</td>\n",
       "      <td>[0.0, 112.2360766032002, 78.0627931279801]</td>\n",
       "      <td>[[0.0, -0.0], [1.0, 1.0], [1.0, -0.0]]</td>\n",
       "      <td>[0.0]</td>\n",
       "      <td>3005.389617</td>\n",
       "    </tr>\n",
       "    <tr>\n",
       "      <th>3</th>\n",
       "      <td>0</td>\n",
       "      <td>0</td>\n",
       "      <td>3</td>\n",
       "      <td>[-0.0, 1.0, 1.0]</td>\n",
       "      <td>[0.0, 85.39266103370836, 74.56552282144106]</td>\n",
       "      <td>[[-0.0, -0.0], [1.0, 1.0], [1.0, 1.0]]</td>\n",
       "      <td>[0.0]</td>\n",
       "      <td>1690.130675</td>\n",
       "    </tr>\n",
       "    <tr>\n",
       "      <th>4</th>\n",
       "      <td>0</td>\n",
       "      <td>0</td>\n",
       "      <td>4</td>\n",
       "      <td>[-0.0, 1.0, 1.0]</td>\n",
       "      <td>[0.0, 77.97527475987059, 45.0]</td>\n",
       "      <td>[[-0.0, -0.0], [1.0, 1.0], [1.0, 1.0]]</td>\n",
       "      <td>[0.0]</td>\n",
       "      <td>1293.203514</td>\n",
       "    </tr>\n",
       "    <tr>\n",
       "      <th>...</th>\n",
       "      <td>...</td>\n",
       "      <td>...</td>\n",
       "      <td>...</td>\n",
       "      <td>...</td>\n",
       "      <td>...</td>\n",
       "      <td>...</td>\n",
       "      <td>...</td>\n",
       "      <td>...</td>\n",
       "    </tr>\n",
       "    <tr>\n",
       "      <th>181</th>\n",
       "      <td>1</td>\n",
       "      <td>29</td>\n",
       "      <td>1</td>\n",
       "      <td>[0.0, 0.0, 1.0]</td>\n",
       "      <td>[0.0, 0.0, 78.00204635636379]</td>\n",
       "      <td>[[0.0, 0.0], [0.0, 0.0], [1.0, 1.0]]</td>\n",
       "      <td>[30.0]</td>\n",
       "      <td>6971.108961</td>\n",
       "    </tr>\n",
       "    <tr>\n",
       "      <th>182</th>\n",
       "      <td>1</td>\n",
       "      <td>29</td>\n",
       "      <td>2</td>\n",
       "      <td>[0.0, 1.0, 1.0]</td>\n",
       "      <td>[0.0, 75.0, 99.92552964926995]</td>\n",
       "      <td>[[0.0, 0.0], [1.0, 0.0], [1.0, 1.0]]</td>\n",
       "      <td>[30.0]</td>\n",
       "      <td>7161.989604</td>\n",
       "    </tr>\n",
       "    <tr>\n",
       "      <th>183</th>\n",
       "      <td>1</td>\n",
       "      <td>29</td>\n",
       "      <td>3</td>\n",
       "      <td>[-0.0, 1.0, 1.0]</td>\n",
       "      <td>[0.0, 88.44802698950053, 61.53132784681346]</td>\n",
       "      <td>[[-0.0, 0.0], [1.0, 1.0], [1.0, 1.0]]</td>\n",
       "      <td>[30.0]</td>\n",
       "      <td>4255.299296</td>\n",
       "    </tr>\n",
       "    <tr>\n",
       "      <th>184</th>\n",
       "      <td>1</td>\n",
       "      <td>29</td>\n",
       "      <td>4</td>\n",
       "      <td>[0.0, 1.0, 1.0]</td>\n",
       "      <td>[0.0, 79.69802663663114, 45.0]</td>\n",
       "      <td>[[0.0, 0.0], [1.0, 1.0], [1.0, 1.0]]</td>\n",
       "      <td>[30.0]</td>\n",
       "      <td>2603.059702</td>\n",
       "    </tr>\n",
       "    <tr>\n",
       "      <th>185</th>\n",
       "      <td>1</td>\n",
       "      <td>29</td>\n",
       "      <td>5</td>\n",
       "      <td>[-0.0, 1.0, 1.0]</td>\n",
       "      <td>[0.0, 95.54311086807274, 45.0]</td>\n",
       "      <td>[[-0.0, -0.0], [1.0, 1.0], [1.0, 1.0]]</td>\n",
       "      <td>[20.0]</td>\n",
       "      <td>1474.731965</td>\n",
       "    </tr>\n",
       "  </tbody>\n",
       "</table>\n",
       "<p>186 rows × 8 columns</p>\n",
       "</div>"
      ],
      "text/plain": [
       "     i   k  t                  x                                            y  \\\n",
       "0    0   0  0    [0.0, 1.0, 0.0]                [0.0, 49.95917534446764, 0.0]   \n",
       "1    0   0  1  [-0.0, 1.0, -0.0]               [0.0, 48.266054658227894, 0.0]   \n",
       "2    0   0  2    [0.0, 1.0, 1.0]   [0.0, 112.2360766032002, 78.0627931279801]   \n",
       "3    0   0  3   [-0.0, 1.0, 1.0]  [0.0, 85.39266103370836, 74.56552282144106]   \n",
       "4    0   0  4   [-0.0, 1.0, 1.0]               [0.0, 77.97527475987059, 45.0]   \n",
       "..  ..  .. ..                ...                                          ...   \n",
       "181  1  29  1    [0.0, 0.0, 1.0]                [0.0, 0.0, 78.00204635636379]   \n",
       "182  1  29  2    [0.0, 1.0, 1.0]               [0.0, 75.0, 99.92552964926995]   \n",
       "183  1  29  3   [-0.0, 1.0, 1.0]  [0.0, 88.44802698950053, 61.53132784681346]   \n",
       "184  1  29  4    [0.0, 1.0, 1.0]               [0.0, 79.69802663663114, 45.0]   \n",
       "185  1  29  5   [-0.0, 1.0, 1.0]               [0.0, 95.54311086807274, 45.0]   \n",
       "\n",
       "                                         x_bs     soc            v  \n",
       "0     [[0.0, -0.0], [1.0, -0.0], [0.0, -0.0]]   [5.0]  1516.228159  \n",
       "1    [[-0.0, -0.0], [1.0, 1.0], [-0.0, -0.0]]   [0.0]   498.733143  \n",
       "2      [[0.0, -0.0], [1.0, 1.0], [1.0, -0.0]]   [0.0]  3005.389617  \n",
       "3      [[-0.0, -0.0], [1.0, 1.0], [1.0, 1.0]]   [0.0]  1690.130675  \n",
       "4      [[-0.0, -0.0], [1.0, 1.0], [1.0, 1.0]]   [0.0]  1293.203514  \n",
       "..                                        ...     ...          ...  \n",
       "181      [[0.0, 0.0], [0.0, 0.0], [1.0, 1.0]]  [30.0]  6971.108961  \n",
       "182      [[0.0, 0.0], [1.0, 0.0], [1.0, 1.0]]  [30.0]  7161.989604  \n",
       "183     [[-0.0, 0.0], [1.0, 1.0], [1.0, 1.0]]  [30.0]  4255.299296  \n",
       "184      [[0.0, 0.0], [1.0, 1.0], [1.0, 1.0]]  [30.0]  2603.059702  \n",
       "185    [[-0.0, -0.0], [1.0, 1.0], [1.0, 1.0]]  [20.0]  1474.731965  \n",
       "\n",
       "[186 rows x 8 columns]"
      ]
     },
     "execution_count": 129,
     "metadata": {},
     "output_type": "execute_result"
    }
   ],
   "source": [
    "ps_df = pd.read_csv(ps_dir, sep=\"\\t\")\n",
    "ps_df"
   ]
  },
  {
   "cell_type": "code",
   "execution_count": 130,
   "metadata": {},
   "outputs": [
    {
     "data": {
      "text/html": [
       "<div>\n",
       "<style scoped>\n",
       "    .dataframe tbody tr th:only-of-type {\n",
       "        vertical-align: middle;\n",
       "    }\n",
       "\n",
       "    .dataframe tbody tr th {\n",
       "        vertical-align: top;\n",
       "    }\n",
       "\n",
       "    .dataframe thead th {\n",
       "        text-align: right;\n",
       "    }\n",
       "</style>\n",
       "<table border=\"1\" class=\"dataframe\">\n",
       "  <thead>\n",
       "    <tr style=\"text-align: right;\">\n",
       "      <th></th>\n",
       "      <th>i</th>\n",
       "      <th>k</th>\n",
       "      <th>t</th>\n",
       "      <th>dual_value</th>\n",
       "      <th>dual_multiplier</th>\n",
       "    </tr>\n",
       "  </thead>\n",
       "  <tbody>\n",
       "    <tr>\n",
       "      <th>0</th>\n",
       "      <td>1</td>\n",
       "      <td>0</td>\n",
       "      <td>5</td>\n",
       "      <td>[1715.9846967608646, 1619.7393692508851, 1503....</td>\n",
       "      <td>[[0.0, 0.0, 12.000000212357048, 0.0, 0.0, 0.0,...</td>\n",
       "    </tr>\n",
       "    <tr>\n",
       "      <th>1</th>\n",
       "      <td>1</td>\n",
       "      <td>0</td>\n",
       "      <td>4</td>\n",
       "      <td>[2894.019036431712, 3197.742382685873, 2877.20...</td>\n",
       "      <td>[[0.0, 0.0, 12.000000083105142, 0.0, 0.0, 0.0,...</td>\n",
       "    </tr>\n",
       "    <tr>\n",
       "      <th>2</th>\n",
       "      <td>1</td>\n",
       "      <td>0</td>\n",
       "      <td>3</td>\n",
       "      <td>[4651.346591922584, 4593.716798928463, 4705.26...</td>\n",
       "      <td>[[0.0, 0.0, 0.0, 0.0, 0.0, 0.0, 0.0, 0.0, 1.00...</td>\n",
       "    </tr>\n",
       "    <tr>\n",
       "      <th>3</th>\n",
       "      <td>1</td>\n",
       "      <td>0</td>\n",
       "      <td>2</td>\n",
       "      <td>[6329.1127655315895, 6754.317164348647, 6926.1...</td>\n",
       "      <td>[[0.0, 0.0, -17.94107481924953, 0.0, 0.0, 0.0,...</td>\n",
       "    </tr>\n",
       "    <tr>\n",
       "      <th>4</th>\n",
       "      <td>1</td>\n",
       "      <td>0</td>\n",
       "      <td>1</td>\n",
       "      <td>[7422.864126537231, 7224.887704594412, 7029.74...</td>\n",
       "      <td>[[-56.1746337516675, 0.0, -131.82536624833259,...</td>\n",
       "    </tr>\n",
       "  </tbody>\n",
       "</table>\n",
       "</div>"
      ],
      "text/plain": [
       "   i  k  t                                         dual_value  \\\n",
       "0  1  0  5  [1715.9846967608646, 1619.7393692508851, 1503....   \n",
       "1  1  0  4  [2894.019036431712, 3197.742382685873, 2877.20...   \n",
       "2  1  0  3  [4651.346591922584, 4593.716798928463, 4705.26...   \n",
       "3  1  0  2  [6329.1127655315895, 6754.317164348647, 6926.1...   \n",
       "4  1  0  1  [7422.864126537231, 7224.887704594412, 7029.74...   \n",
       "\n",
       "                                     dual_multiplier  \n",
       "0  [[0.0, 0.0, 12.000000212357048, 0.0, 0.0, 0.0,...  \n",
       "1  [[0.0, 0.0, 12.000000083105142, 0.0, 0.0, 0.0,...  \n",
       "2  [[0.0, 0.0, 0.0, 0.0, 0.0, 0.0, 0.0, 0.0, 1.00...  \n",
       "3  [[0.0, 0.0, -17.94107481924953, 0.0, 0.0, 0.0,...  \n",
       "4  [[-56.1746337516675, 0.0, -131.82536624833259,...  "
      ]
     },
     "execution_count": 130,
     "metadata": {},
     "output_type": "execute_result"
    }
   ],
   "source": [
    "ds_df = pd.read_csv(ds_dir, sep = \"\\t\")\n",
    "ds_df"
   ]
  },
  {
   "cell_type": "code",
   "execution_count": 131,
   "metadata": {},
   "outputs": [
    {
     "data": {
      "text/html": [
       "<div>\n",
       "<style scoped>\n",
       "    .dataframe tbody tr th:only-of-type {\n",
       "        vertical-align: middle;\n",
       "    }\n",
       "\n",
       "    .dataframe tbody tr th {\n",
       "        vertical-align: top;\n",
       "    }\n",
       "\n",
       "    .dataframe thead th {\n",
       "        text-align: right;\n",
       "    }\n",
       "</style>\n",
       "<table border=\"1\" class=\"dataframe\">\n",
       "  <thead>\n",
       "    <tr style=\"text-align: right;\">\n",
       "      <th></th>\n",
       "      <th>i</th>\n",
       "      <th>k</th>\n",
       "      <th>t</th>\n",
       "      <th>intercepts</th>\n",
       "      <th>gradients</th>\n",
       "      <th>y_multipliers</th>\n",
       "      <th>soc_multipliers</th>\n",
       "    </tr>\n",
       "  </thead>\n",
       "  <tbody>\n",
       "    <tr>\n",
       "      <th>0</th>\n",
       "      <td>1</td>\n",
       "      <td>0</td>\n",
       "      <td>4</td>\n",
       "      <td>1613.019231</td>\n",
       "      <td>[0.0, 0.0, 12.069567934521393, 0.0, 0.0, 0.0, ...</td>\n",
       "      <td>[[  6.4516129   12.90322581  25.80645161  51.6...</td>\n",
       "      <td>[[ 0.96774194  1.93548387  3.87096774  7.74193...</td>\n",
       "    </tr>\n",
       "    <tr>\n",
       "      <th>1</th>\n",
       "      <td>1</td>\n",
       "      <td>0</td>\n",
       "      <td>3</td>\n",
       "      <td>2989.654587</td>\n",
       "      <td>[0.0, 0.0, 8.000000056707952, 0.0, 0.0, 0.0, 0...</td>\n",
       "      <td>[[  6.4516129   12.90322581  25.80645161  51.6...</td>\n",
       "      <td>[[ 0.96774194  1.93548387  3.87096774  7.74193...</td>\n",
       "    </tr>\n",
       "    <tr>\n",
       "      <th>2</th>\n",
       "      <td>1</td>\n",
       "      <td>0</td>\n",
       "      <td>2</td>\n",
       "      <td>4650.109323</td>\n",
       "      <td>[-0.33333333396557474, 0.0, 0.3333333339655747...</td>\n",
       "      <td>[[  6.4516129   12.90322581  25.80645161  51.6...</td>\n",
       "      <td>[[ 0.96774194  1.93548387  3.87096774  7.74193...</td>\n",
       "    </tr>\n",
       "    <tr>\n",
       "      <th>3</th>\n",
       "      <td>1</td>\n",
       "      <td>0</td>\n",
       "      <td>1</td>\n",
       "      <td>6669.863017</td>\n",
       "      <td>[-153.84866006031342, 0.0, -185.13169821276978...</td>\n",
       "      <td>[[  6.4516129   12.90322581  25.80645161  51.6...</td>\n",
       "      <td>[[ 0.96774194  1.93548387  3.87096774  7.74193...</td>\n",
       "    </tr>\n",
       "    <tr>\n",
       "      <th>4</th>\n",
       "      <td>1</td>\n",
       "      <td>0</td>\n",
       "      <td>0</td>\n",
       "      <td>7225.832126</td>\n",
       "      <td>[-18.7248779172225, 24.334813478272796, -68.27...</td>\n",
       "      <td>[[  6.4516129   12.90322581  25.80645161  51.6...</td>\n",
       "      <td>[[ 0.96774194  1.93548387  3.87096774  7.74193...</td>\n",
       "    </tr>\n",
       "  </tbody>\n",
       "</table>\n",
       "</div>"
      ],
      "text/plain": [
       "   i  k  t   intercepts                                          gradients  \\\n",
       "0  1  0  4  1613.019231  [0.0, 0.0, 12.069567934521393, 0.0, 0.0, 0.0, ...   \n",
       "1  1  0  3  2989.654587  [0.0, 0.0, 8.000000056707952, 0.0, 0.0, 0.0, 0...   \n",
       "2  1  0  2  4650.109323  [-0.33333333396557474, 0.0, 0.3333333339655747...   \n",
       "3  1  0  1  6669.863017  [-153.84866006031342, 0.0, -185.13169821276978...   \n",
       "4  1  0  0  7225.832126  [-18.7248779172225, 24.334813478272796, -68.27...   \n",
       "\n",
       "                                       y_multipliers  \\\n",
       "0  [[  6.4516129   12.90322581  25.80645161  51.6...   \n",
       "1  [[  6.4516129   12.90322581  25.80645161  51.6...   \n",
       "2  [[  6.4516129   12.90322581  25.80645161  51.6...   \n",
       "3  [[  6.4516129   12.90322581  25.80645161  51.6...   \n",
       "4  [[  6.4516129   12.90322581  25.80645161  51.6...   \n",
       "\n",
       "                                     soc_multipliers  \n",
       "0  [[ 0.96774194  1.93548387  3.87096774  7.74193...  \n",
       "1  [[ 0.96774194  1.93548387  3.87096774  7.74193...  \n",
       "2  [[ 0.96774194  1.93548387  3.87096774  7.74193...  \n",
       "3  [[ 0.96774194  1.93548387  3.87096774  7.74193...  \n",
       "4  [[ 0.96774194  1.93548387  3.87096774  7.74193...  "
      ]
     },
     "execution_count": 131,
     "metadata": {},
     "output_type": "execute_result"
    }
   ],
   "source": [
    "cc_df = pd.read_csv(cc_dir, sep = \"\\t\")\n",
    "cc_df"
   ]
  },
  {
   "cell_type": "code",
   "execution_count": 132,
   "metadata": {},
   "outputs": [
    {
     "data": {
      "text/html": [
       "<div>\n",
       "<style scoped>\n",
       "    .dataframe tbody tr th:only-of-type {\n",
       "        vertical-align: middle;\n",
       "    }\n",
       "\n",
       "    .dataframe tbody tr th {\n",
       "        vertical-align: top;\n",
       "    }\n",
       "\n",
       "    .dataframe thead th {\n",
       "        text-align: right;\n",
       "    }\n",
       "</style>\n",
       "<table border=\"1\" class=\"dataframe\">\n",
       "  <thead>\n",
       "    <tr style=\"text-align: right;\">\n",
       "      <th></th>\n",
       "      <th>i</th>\n",
       "      <th>k</th>\n",
       "      <th>t</th>\n",
       "      <th>iterations</th>\n",
       "      <th>solver_time</th>\n",
       "    </tr>\n",
       "  </thead>\n",
       "  <tbody>\n",
       "    <tr>\n",
       "      <th>0</th>\n",
       "      <td>1</td>\n",
       "      <td>0</td>\n",
       "      <td>5</td>\n",
       "      <td>[193, 193, 193]</td>\n",
       "      <td>[0.4247708320617676, 0.5127451419830322, 0.416...</td>\n",
       "    </tr>\n",
       "    <tr>\n",
       "      <th>1</th>\n",
       "      <td>1</td>\n",
       "      <td>0</td>\n",
       "      <td>4</td>\n",
       "      <td>[180, 180, 180]</td>\n",
       "      <td>[2.6470000743865967, 2.518671751022339, 2.4119...</td>\n",
       "    </tr>\n",
       "    <tr>\n",
       "      <th>2</th>\n",
       "      <td>1</td>\n",
       "      <td>0</td>\n",
       "      <td>3</td>\n",
       "      <td>[181, 181, 181]</td>\n",
       "      <td>[2.9257893562316895, 3.037350654602051, 2.9564...</td>\n",
       "    </tr>\n",
       "    <tr>\n",
       "      <th>3</th>\n",
       "      <td>1</td>\n",
       "      <td>0</td>\n",
       "      <td>2</td>\n",
       "      <td>[187, 500, 500]</td>\n",
       "      <td>[2.5125672817230225, 6.940274477005005, 7.6971...</td>\n",
       "    </tr>\n",
       "    <tr>\n",
       "      <th>4</th>\n",
       "      <td>1</td>\n",
       "      <td>0</td>\n",
       "      <td>1</td>\n",
       "      <td>[191, 189, 189]</td>\n",
       "      <td>[2.196112871170044, 2.276871681213379, 2.17946...</td>\n",
       "    </tr>\n",
       "  </tbody>\n",
       "</table>\n",
       "</div>"
      ],
      "text/plain": [
       "   i  k  t       iterations                                        solver_time\n",
       "0  1  0  5  [193, 193, 193]  [0.4247708320617676, 0.5127451419830322, 0.416...\n",
       "1  1  0  4  [180, 180, 180]  [2.6470000743865967, 2.518671751022339, 2.4119...\n",
       "2  1  0  3  [181, 181, 181]  [2.9257893562316895, 3.037350654602051, 2.9564...\n",
       "3  1  0  2  [187, 500, 500]  [2.5125672817230225, 6.940274477005005, 7.6971...\n",
       "4  1  0  1  [191, 189, 189]  [2.196112871170044, 2.276871681213379, 2.17946..."
      ]
     },
     "execution_count": 132,
     "metadata": {},
     "output_type": "execute_result"
    }
   ],
   "source": [
    "dual_solver_df = pd.read_csv(dual_solver_dir, sep= \"\\t\")\n",
    "dual_solver_df"
   ]
  },
  {
   "cell_type": "code",
   "execution_count": 133,
   "metadata": {},
   "outputs": [],
   "source": [
    "dual_solver_df[\"iterations\"]=dual_solver_df.iterations.apply(lambda x: ast.literal_eval(str(x)))\n",
    "dual_solver_df[\"solver_time\"]=dual_solver_df.solver_time.apply(lambda x: ast.literal_eval(str(x)))"
   ]
  },
  {
   "cell_type": "code",
   "execution_count": 134,
   "metadata": {},
   "outputs": [
    {
     "data": {
      "text/plain": [
       "array([[0.42477083, 0.51274514, 0.41609931],\n",
       "       [2.64700007, 2.51867175, 2.41198182],\n",
       "       [2.92578936, 3.03735065, 2.95646954],\n",
       "       [2.51256728, 6.94027448, 7.69717383],\n",
       "       [2.19611287, 2.27687168, 2.17946935]])"
      ]
     },
     "execution_count": 134,
     "metadata": {},
     "output_type": "execute_result"
    }
   ],
   "source": [
    "solver_times = np.array(dual_solver_df.solver_time.values.tolist())\n",
    "solver_times"
   ]
  },
  {
   "cell_type": "code",
   "execution_count": 135,
   "metadata": {},
   "outputs": [
    {
     "data": {
      "text/plain": [
       "array([[193, 193, 193],\n",
       "       [180, 180, 180],\n",
       "       [181, 181, 181],\n",
       "       [187, 500, 500],\n",
       "       [191, 189, 189]])"
      ]
     },
     "execution_count": 135,
     "metadata": {},
     "output_type": "execute_result"
    }
   ],
   "source": [
    "iterations = np.array(dual_solver_df.iterations.tolist())\n",
    "iterations"
   ]
  },
  {
   "cell_type": "code",
   "execution_count": 136,
   "metadata": {},
   "outputs": [
    {
     "data": {
      "text/plain": [
       "array([ 1.35361528,  7.57765365,  8.91960955, 17.15001559,  6.6524539 ])"
      ]
     },
     "execution_count": 136,
     "metadata": {},
     "output_type": "execute_result"
    }
   ],
   "source": [
    "np.sum(solver_times, axis=1)"
   ]
  },
  {
   "cell_type": "code",
   "execution_count": 137,
   "metadata": {},
   "outputs": [
    {
     "data": {
      "text/plain": [
       "array([0.00701355, 0.04209808, 0.04927961, 0.04271109, 0.0350765 ])"
      ]
     },
     "execution_count": 137,
     "metadata": {},
     "output_type": "execute_result"
    }
   ],
   "source": [
    "solver_times_adjusted = np.divide(solver_times, iterations)\n",
    "np.sum(solver_times_adjusted, axis=1)"
   ]
  }
 ],
 "metadata": {
  "interpreter": {
   "hash": "abe42ade3e87b4e6c3c5745962b526975dbcf6574cac0f27c7eb88f5d6f3bab5"
  },
  "kernelspec": {
   "display_name": "Python 3.10.0 64-bit ('optimization': conda)",
   "language": "python",
   "name": "python3"
  },
  "language_info": {
   "codemirror_mode": {
    "name": "ipython",
    "version": 3
   },
   "file_extension": ".py",
   "mimetype": "text/x-python",
   "name": "python",
   "nbconvert_exporter": "python",
   "pygments_lexer": "ipython3",
   "version": "3.9.7"
  },
  "orig_nbformat": 4
 },
 "nbformat": 4,
 "nbformat_minor": 2
}
