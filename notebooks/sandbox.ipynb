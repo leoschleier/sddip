{
 "cells": [
  {
   "cell_type": "markdown",
   "metadata": {},
   "source": [
    "# Sandbox"
   ]
  },
  {
   "cell_type": "code",
   "execution_count": 1,
   "metadata": {},
   "outputs": [],
   "source": [
    "import sys\n",
    "sys.path.append('../sddip')"
   ]
  },
  {
   "cell_type": "code",
   "execution_count": 2,
   "metadata": {},
   "outputs": [],
   "source": [
    "#%run ../scripts/create_result_directories.py"
   ]
  },
  {
   "cell_type": "code",
   "execution_count": 3,
   "metadata": {},
   "outputs": [],
   "source": [
    "import os\n",
    "import numpy as np\n",
    "import pandas as pd\n",
    "from gurobipy import *\n",
    "\n",
    "import sddip.tree as tree\n",
    "import sddip.utils as utils\n",
    "import sddip.config as config\n"
   ]
  },
  {
   "cell_type": "markdown",
   "metadata": {},
   "source": [
    "## Data Processing"
   ]
  },
  {
   "cell_type": "code",
   "execution_count": 4,
   "metadata": {},
   "outputs": [],
   "source": [
    "test_case_raw_dir = \"WB2/raw\"\n",
    "\n",
    "test_case_raw_dir = os.path.join(config.test_cases_dir, test_case_raw_dir)\n",
    "\n",
    "bus_file_raw = os.path.join(test_case_raw_dir, \"bus_data.txt\")\n",
    "branch_file_raw = os.path.join(test_case_raw_dir, \"branch_data.txt\")\n",
    "gen_file_raw = os.path.join(test_case_raw_dir, \"gen_data.txt\")\n",
    "gen_cost_file_raw = os.path.join(test_case_raw_dir, \"gen_cost_data.txt\")\n",
    "\n",
    "scenario_data_file = os.path.join(test_case_raw_dir, \"scenario_data.txt\")\n",
    "\n",
    "bus_df = pd.read_csv(bus_file_raw, delimiter=\"\\t\")\n",
    "branch_df = pd.read_csv(branch_file_raw, delimiter=\"\\t\")\n",
    "gen_df = pd.read_csv(gen_file_raw, delimiter=\"\\t\")\n",
    "gen_cost_df = pd.read_csv(gen_cost_file_raw, delimiter=\"\\t\")\n",
    "\n",
    "scenario_df = pd.read_csv(scenario_data_file, delimiter=\"\\t\")"
   ]
  },
  {
   "cell_type": "markdown",
   "metadata": {},
   "source": [
    "### Bus Data"
   ]
  },
  {
   "cell_type": "code",
   "execution_count": 5,
   "metadata": {},
   "outputs": [
    {
     "data": {
      "text/html": [
       "<div>\n",
       "<style scoped>\n",
       "    .dataframe tbody tr th:only-of-type {\n",
       "        vertical-align: middle;\n",
       "    }\n",
       "\n",
       "    .dataframe tbody tr th {\n",
       "        vertical-align: top;\n",
       "    }\n",
       "\n",
       "    .dataframe thead th {\n",
       "        text-align: right;\n",
       "    }\n",
       "</style>\n",
       "<table border=\"1\" class=\"dataframe\">\n",
       "  <thead>\n",
       "    <tr style=\"text-align: right;\">\n",
       "      <th></th>\n",
       "      <th>bus_i</th>\n",
       "      <th>type</th>\n",
       "      <th>Pd</th>\n",
       "      <th>Qd</th>\n",
       "      <th>Gs</th>\n",
       "      <th>Bs</th>\n",
       "      <th>area</th>\n",
       "      <th>Vm</th>\n",
       "      <th>Va</th>\n",
       "      <th>baseKV</th>\n",
       "      <th>zone</th>\n",
       "      <th>Vmax</th>\n",
       "      <th>Vmin</th>\n",
       "    </tr>\n",
       "  </thead>\n",
       "  <tbody>\n",
       "    <tr>\n",
       "      <th>0</th>\n",
       "      <td>1</td>\n",
       "      <td>3</td>\n",
       "      <td>0</td>\n",
       "      <td>0</td>\n",
       "      <td>0</td>\n",
       "      <td>0</td>\n",
       "      <td>1</td>\n",
       "      <td>0.964</td>\n",
       "      <td>0</td>\n",
       "      <td>0</td>\n",
       "      <td>1</td>\n",
       "      <td>1.05</td>\n",
       "      <td>0.95</td>\n",
       "    </tr>\n",
       "    <tr>\n",
       "      <th>1</th>\n",
       "      <td>2</td>\n",
       "      <td>1</td>\n",
       "      <td>350</td>\n",
       "      <td>-350</td>\n",
       "      <td>0</td>\n",
       "      <td>0</td>\n",
       "      <td>1</td>\n",
       "      <td>1.000</td>\n",
       "      <td>-65</td>\n",
       "      <td>0</td>\n",
       "      <td>1</td>\n",
       "      <td>1.05</td>\n",
       "      <td>0.95</td>\n",
       "    </tr>\n",
       "  </tbody>\n",
       "</table>\n",
       "</div>"
      ],
      "text/plain": [
       "   bus_i  type   Pd   Qd  Gs  Bs  area     Vm  Va  baseKV  zone  Vmax  Vmin\n",
       "0      1     3    0    0   0   0     1  0.964   0       0     1  1.05  0.95\n",
       "1      2     1  350 -350   0   0     1  1.000 -65       0     1  1.05  0.95"
      ]
     },
     "execution_count": 5,
     "metadata": {},
     "output_type": "execute_result"
    }
   ],
   "source": [
    "bus_df"
   ]
  },
  {
   "cell_type": "code",
   "execution_count": 6,
   "metadata": {},
   "outputs": [
    {
     "data": {
      "text/plain": [
       "bus_i       int64\n",
       "type        int64\n",
       "Pd          int64\n",
       "Qd          int64\n",
       "Gs          int64\n",
       "Bs          int64\n",
       "area        int64\n",
       "Vm        float64\n",
       "Va          int64\n",
       "baseKV      int64\n",
       "zone        int64\n",
       "Vmax      float64\n",
       "Vmin      float64\n",
       "dtype: object"
      ]
     },
     "execution_count": 6,
     "metadata": {},
     "output_type": "execute_result"
    }
   ],
   "source": [
    "bus_df.dtypes"
   ]
  },
  {
   "cell_type": "markdown",
   "metadata": {},
   "source": [
    "### Branch Data"
   ]
  },
  {
   "cell_type": "code",
   "execution_count": 7,
   "metadata": {},
   "outputs": [
    {
     "data": {
      "text/html": [
       "<div>\n",
       "<style scoped>\n",
       "    .dataframe tbody tr th:only-of-type {\n",
       "        vertical-align: middle;\n",
       "    }\n",
       "\n",
       "    .dataframe tbody tr th {\n",
       "        vertical-align: top;\n",
       "    }\n",
       "\n",
       "    .dataframe thead th {\n",
       "        text-align: right;\n",
       "    }\n",
       "</style>\n",
       "<table border=\"1\" class=\"dataframe\">\n",
       "  <thead>\n",
       "    <tr style=\"text-align: right;\">\n",
       "      <th></th>\n",
       "      <th>fbus</th>\n",
       "      <th>tbus</th>\n",
       "      <th>r</th>\n",
       "      <th>x</th>\n",
       "      <th>b</th>\n",
       "      <th>rateA</th>\n",
       "      <th>rateB</th>\n",
       "      <th>rateC</th>\n",
       "      <th>ratio</th>\n",
       "      <th>angle</th>\n",
       "      <th>status</th>\n",
       "      <th>angmin</th>\n",
       "      <th>angmax</th>\n",
       "    </tr>\n",
       "  </thead>\n",
       "  <tbody>\n",
       "    <tr>\n",
       "      <th>0</th>\n",
       "      <td>1</td>\n",
       "      <td>2</td>\n",
       "      <td>0.04</td>\n",
       "      <td>0.2</td>\n",
       "      <td>0</td>\n",
       "      <td>990000</td>\n",
       "      <td>0</td>\n",
       "      <td>0</td>\n",
       "      <td>0</td>\n",
       "      <td>0</td>\n",
       "      <td>1</td>\n",
       "      <td>-360</td>\n",
       "      <td>360</td>\n",
       "    </tr>\n",
       "  </tbody>\n",
       "</table>\n",
       "</div>"
      ],
      "text/plain": [
       "   fbus  tbus     r    x  b   rateA  rateB  rateC  ratio  angle  status  \\\n",
       "0     1     2  0.04  0.2  0  990000      0      0      0      0       1   \n",
       "\n",
       "   angmin   angmax  \n",
       "0     -360     360  "
      ]
     },
     "execution_count": 7,
     "metadata": {},
     "output_type": "execute_result"
    }
   ],
   "source": [
    "branch_df"
   ]
  },
  {
   "cell_type": "markdown",
   "metadata": {},
   "source": [
    "### Generator Data"
   ]
  },
  {
   "cell_type": "code",
   "execution_count": 8,
   "metadata": {},
   "outputs": [
    {
     "data": {
      "text/html": [
       "<div>\n",
       "<style scoped>\n",
       "    .dataframe tbody tr th:only-of-type {\n",
       "        vertical-align: middle;\n",
       "    }\n",
       "\n",
       "    .dataframe tbody tr th {\n",
       "        vertical-align: top;\n",
       "    }\n",
       "\n",
       "    .dataframe thead th {\n",
       "        text-align: right;\n",
       "    }\n",
       "</style>\n",
       "<table border=\"1\" class=\"dataframe\">\n",
       "  <thead>\n",
       "    <tr style=\"text-align: right;\">\n",
       "      <th></th>\n",
       "      <th>bus</th>\n",
       "      <th>Pg</th>\n",
       "      <th>Qg</th>\n",
       "      <th>Qmax</th>\n",
       "      <th>Qmin</th>\n",
       "      <th>Vg</th>\n",
       "      <th>mBase</th>\n",
       "      <th>status</th>\n",
       "      <th>Pmax</th>\n",
       "      <th>Pmin</th>\n",
       "      <th>...</th>\n",
       "      <th>Pc2</th>\n",
       "      <th>Qc1min</th>\n",
       "      <th>Qc1max</th>\n",
       "      <th>Qc2min</th>\n",
       "      <th>Qc2max</th>\n",
       "      <th>ramp_agc</th>\n",
       "      <th>ramp_10</th>\n",
       "      <th>ramp_30</th>\n",
       "      <th>ramp_q</th>\n",
       "      <th>apf</th>\n",
       "    </tr>\n",
       "  </thead>\n",
       "  <tbody>\n",
       "    <tr>\n",
       "      <th>0</th>\n",
       "      <td>1</td>\n",
       "      <td>400</td>\n",
       "      <td>100</td>\n",
       "      <td>400</td>\n",
       "      <td>-400</td>\n",
       "      <td>0.964</td>\n",
       "      <td>100</td>\n",
       "      <td>1</td>\n",
       "      <td>600</td>\n",
       "      <td>0</td>\n",
       "      <td>...</td>\n",
       "      <td>0</td>\n",
       "      <td>0</td>\n",
       "      <td>0</td>\n",
       "      <td>0</td>\n",
       "      <td>0</td>\n",
       "      <td>0</td>\n",
       "      <td>0</td>\n",
       "      <td>0</td>\n",
       "      <td>0</td>\n",
       "      <td>0</td>\n",
       "    </tr>\n",
       "  </tbody>\n",
       "</table>\n",
       "<p>1 rows × 21 columns</p>\n",
       "</div>"
      ],
      "text/plain": [
       "   bus   Pg   Qg  Qmax  Qmin     Vg  mBase  status  Pmax  Pmin  ...  Pc2  \\\n",
       "0    1  400  100   400  -400  0.964    100       1   600     0  ...    0   \n",
       "\n",
       "   Qc1min  Qc1max  Qc2min  Qc2max  ramp_agc  ramp_10  ramp_30  ramp_q  apf  \n",
       "0       0       0       0       0         0        0        0       0    0  \n",
       "\n",
       "[1 rows x 21 columns]"
      ]
     },
     "execution_count": 8,
     "metadata": {},
     "output_type": "execute_result"
    }
   ],
   "source": [
    "gen_df"
   ]
  },
  {
   "cell_type": "markdown",
   "metadata": {},
   "source": [
    "### Generator Cost Data"
   ]
  },
  {
   "cell_type": "code",
   "execution_count": 9,
   "metadata": {},
   "outputs": [
    {
     "data": {
      "text/html": [
       "<div>\n",
       "<style scoped>\n",
       "    .dataframe tbody tr th:only-of-type {\n",
       "        vertical-align: middle;\n",
       "    }\n",
       "\n",
       "    .dataframe tbody tr th {\n",
       "        vertical-align: top;\n",
       "    }\n",
       "\n",
       "    .dataframe thead th {\n",
       "        text-align: right;\n",
       "    }\n",
       "</style>\n",
       "<table border=\"1\" class=\"dataframe\">\n",
       "  <thead>\n",
       "    <tr style=\"text-align: right;\">\n",
       "      <th></th>\n",
       "      <th>type</th>\n",
       "      <th>startup</th>\n",
       "      <th>shutdown</th>\n",
       "      <th>n</th>\n",
       "      <th>c2</th>\n",
       "      <th>c1</th>\n",
       "      <th>c0</th>\n",
       "    </tr>\n",
       "  </thead>\n",
       "  <tbody>\n",
       "    <tr>\n",
       "      <th>0</th>\n",
       "      <td>2</td>\n",
       "      <td>0</td>\n",
       "      <td>0</td>\n",
       "      <td>3</td>\n",
       "      <td>0</td>\n",
       "      <td>2</td>\n",
       "      <td>0</td>\n",
       "    </tr>\n",
       "  </tbody>\n",
       "</table>\n",
       "</div>"
      ],
      "text/plain": [
       "   type  startup  shutdown  n  c2  c1  c0\n",
       "0     2        0         0  3   0   2   0"
      ]
     },
     "execution_count": 9,
     "metadata": {},
     "output_type": "execute_result"
    }
   ],
   "source": [
    "gen_cost_df"
   ]
  },
  {
   "cell_type": "code",
   "execution_count": 10,
   "metadata": {},
   "outputs": [
    {
     "data": {
      "text/html": [
       "<div>\n",
       "<style scoped>\n",
       "    .dataframe tbody tr th:only-of-type {\n",
       "        vertical-align: middle;\n",
       "    }\n",
       "\n",
       "    .dataframe tbody tr th {\n",
       "        vertical-align: top;\n",
       "    }\n",
       "\n",
       "    .dataframe thead th {\n",
       "        text-align: right;\n",
       "    }\n",
       "</style>\n",
       "<table border=\"1\" class=\"dataframe\">\n",
       "  <thead>\n",
       "    <tr style=\"text-align: right;\">\n",
       "      <th></th>\n",
       "      <th>t</th>\n",
       "      <th>n</th>\n",
       "      <th>p</th>\n",
       "      <th>Pd</th>\n",
       "    </tr>\n",
       "  </thead>\n",
       "  <tbody>\n",
       "    <tr>\n",
       "      <th>0</th>\n",
       "      <td>1</td>\n",
       "      <td>1</td>\n",
       "      <td>1.0</td>\n",
       "      <td>350</td>\n",
       "    </tr>\n",
       "    <tr>\n",
       "      <th>1</th>\n",
       "      <td>2</td>\n",
       "      <td>1</td>\n",
       "      <td>0.5</td>\n",
       "      <td>300</td>\n",
       "    </tr>\n",
       "    <tr>\n",
       "      <th>2</th>\n",
       "      <td>2</td>\n",
       "      <td>2</td>\n",
       "      <td>0.5</td>\n",
       "      <td>200</td>\n",
       "    </tr>\n",
       "  </tbody>\n",
       "</table>\n",
       "</div>"
      ],
      "text/plain": [
       "   t  n    p   Pd\n",
       "0  1  1  1.0  350\n",
       "1  2  1  0.5  300\n",
       "2  2  2  0.5  200"
      ]
     },
     "execution_count": 10,
     "metadata": {},
     "output_type": "execute_result"
    }
   ],
   "source": [
    "scenario_df\n",
    "# TDOD: Stochastische Nachfrage für jeden Knoten"
   ]
  },
  {
   "cell_type": "markdown",
   "metadata": {},
   "source": [
    "### Power Transfer Distribution Factor"
   ]
  },
  {
   "cell_type": "code",
   "execution_count": 11,
   "metadata": {},
   "outputs": [
    {
     "data": {
      "text/plain": [
       "array([[ 0., -1.]])"
      ]
     },
     "execution_count": 11,
     "metadata": {},
     "output_type": "execute_result"
    }
   ],
   "source": [
    "nodes = bus_df.bus_i.values.tolist()\n",
    "edges = branch_df[[\"fbus\", \"tbus\"]].values.tolist()\n",
    "\n",
    "graph = utils.Graph(nodes, edges)\n",
    "\n",
    "ref_bus = bus_df.loc[bus_df.type == 3].bus_i.values[0]\n",
    "\n",
    "a_inc = graph.incidence_matrix()\n",
    "b_l = (-branch_df.x /(branch_df.r**2 + branch_df.x**2)).tolist()\n",
    "b_diag = np.diag(b_l)\n",
    "\n",
    "m1 = b_diag.dot(a_inc)\n",
    "m2 = a_inc.T.dot(b_diag).dot(a_inc)\n",
    "\n",
    "m1 = np.delete(m1, ref_bus-1, 1)\n",
    "m2 = np.delete(m2, ref_bus-1, 0)\n",
    "m2 = np.delete(m2, ref_bus-1, 1)\n",
    "\n",
    "ptdf = m1.dot(np.linalg.inv(m2))\n",
    "\n",
    "zeros_col = np.zeros((1,ptdf.shape[1]))\n",
    "\n",
    "ptdf = np.insert(ptdf, ref_bus-1, zeros_col, axis=1)\n",
    "\n",
    "ptdf"
   ]
  },
  {
   "cell_type": "code",
   "execution_count": 12,
   "metadata": {},
   "outputs": [],
   "source": [
    "########################################################################################################################\n",
    "# Deterministic parameters\n",
    "########################################################################################################################\n",
    "gc = np.array(gen_cost_df.c1)\n",
    "suc = np.array(gen_cost_df.startup)\n",
    "sdc = np.array( gen_cost_df.startup)\n",
    "pg_min = np.array(gen_df.Pmin)\n",
    "pg_max = np.array(gen_df.Pmax)\n",
    "pl_max = np.array(branch_df.rateA)\n",
    "\n",
    "n_gens = len(gc)\n",
    "n_lines, n_buses = ptdf.shape\n",
    "\n",
    "gens_at_bus = [[] for _ in range(n_buses)]\n",
    "g = 0\n",
    "for b in gen_df.bus.values:\n",
    "    gens_at_bus[b-1].append(g)\n",
    "    g+=1\n",
    "    \n",
    "########################################################################################################################\n",
    "# Stochastic parameters\n",
    "########################################################################################################################\n",
    "n_nodes_per_stage = scenario_df.groupby(\"t\")[\"n\"].nunique().tolist()\n",
    "n_stages = len(n_nodes_per_stage)\n",
    "\n",
    "probs = np.empty(n_stages, dtype=object)\n",
    "p_d = np.empty(n_stages, dtype=object)\n",
    "\n",
    "for t in range(n_stages):\n",
    "    stage_df = scenario_df.loc[scenario_df[\"t\"] == t+1]\n",
    "    probs[t] = np.array(stage_df.p)\n",
    "    p_d[t] = np.array(stage_df.Pd)\n",
    "\n",
    "########################################################################################################################\n",
    "# Expected values of stochastic parameters\n",
    "########################################################################################################################\n",
    "ex_pd = np.array([probs[t].dot(p_d[t]) for t in range(n_stages)])"
   ]
  },
  {
   "cell_type": "markdown",
   "metadata": {},
   "source": [
    "## Recombining Tree"
   ]
  },
  {
   "cell_type": "code",
   "execution_count": 13,
   "metadata": {},
   "outputs": [],
   "source": [
    "# n_nodes_per_stage = scenario_df.groupby(\"t\")[\"n\"].nunique().tolist()\n",
    "\n",
    "# node_params_df = scenario_df.drop([\"t\", \"n\"], axis=1)\n",
    "# node_params_dicts = node_params_df.to_dict(\"records\")\n",
    "\n",
    "# s_tree = tree.RecombiningTree(n_nodes_per_stage)\n",
    "\n",
    "# s_tree.params[\"gc\"] = gen_cost_df.c1\n",
    "# s_tree.params[\"suc\"] = gen_cost_df.startup\n",
    "# s_tree.params[\"sdc\"] = gen_cost_df.startup\n",
    "# s_tree.params[\"pg_min\"] = gen_df.Pmin\n",
    "# s_tree.params[\"pg_max\"] = gen_df.Pmax\n",
    "# s_tree.params[\"pl_max\"] = branch_df.rateA\n",
    "# s_tree.params = {k: v.values.tolist() for k,v in s_tree.params.items()}\n",
    "# s_tree.params[\"ptdf\"] = ptdf\n",
    "# s_tree.params[\"n_gens\"] = len(s_tree.params[\"gc\"])\n",
    "# s_tree.params[\"n_buses\"] = ptdf.shape[1]\n",
    "\n",
    "# for stage in s_tree:\n",
    "#     for node in stage:\n",
    "#         params = node_params_dicts.pop(0)\n",
    "#         node.prob = params.pop(\"p\")\n",
    "#         node.params = params\n",
    "\n",
    "\n",
    "# for stage in s_tree:\n",
    "#     stage.params[\"ex_Pd\"] = np.zeros((1,s_tree.params[\"n_buses\"]))\n",
    "#     for node in stage:\n",
    "#         stage.params[\"ex_Pd\"] += node.prob*np.array(node.params[\"Pd\"])"
   ]
  },
  {
   "cell_type": "markdown",
   "metadata": {},
   "source": [
    "## Deterministic Unit Commitment Problem"
   ]
  },
  {
   "cell_type": "code",
   "execution_count": 14,
   "metadata": {},
   "outputs": [
    {
     "name": "stdout",
     "output_type": "stream",
     "text": [
      "Set parameter Username\n",
      "Academic license - for non-commercial use only - expires 2022-01-25\n",
      "Gurobi Optimizer version 9.5.0 build v9.5.0rc5 (win64)\n",
      "Thread count: 8 physical cores, 16 logical processors, using up to 16 threads\n",
      "Optimize a model with 14 rows, 8 columns and 20 nonzeros\n",
      "Model fingerprint: 0x886e56ee\n",
      "Variable types: 2 continuous, 6 integer (6 binary)\n",
      "Coefficient statistics:\n",
      "  Matrix range     [1e+00, 6e+02]\n",
      "  Objective range  [2e+00, 2e+00]\n",
      "  Bounds range     [1e+00, 1e+00]\n",
      "  RHS range        [3e+02, 1e+06]\n",
      "Presolve removed 14 rows and 8 columns\n",
      "Presolve time: 0.01s\n",
      "Presolve: All rows and columns removed\n",
      "\n",
      "Explored 0 nodes (0 simplex iterations) in 0.02 seconds (0.00 work units)\n",
      "Thread count was 1 (of 16 available processors)\n",
      "\n",
      "Solution count 1: 1200 \n",
      "\n",
      "Optimal solution found (tolerance 1.00e-04)\n",
      "Best objective 1.200000000000e+03, best bound 1.200000000000e+03, gap 0.0000%\n",
      "\n",
      "    Variable            X \n",
      "-------------------------\n",
      "       x_1,1            1 \n",
      "       y_1,1          350 \n",
      "     s_up1,1            1 \n",
      "       x_1,2            1 \n",
      "       y_1,2          250 \n",
      "     s_up1,2            1 \n"
     ]
    }
   ],
   "source": [
    "det_model = Model(\"Deterministic Problem\")\n",
    "\n",
    "\n",
    "########################################################################################################################\n",
    "# Add variables\n",
    "########################################################################################################################\n",
    "x = np.empty((n_gens,n_stages), dtype=object)\n",
    "y = np.empty((n_gens,n_stages), dtype=object)\n",
    "s_up = np.empty((n_gens,n_stages), dtype=object)\n",
    "s_down = np.empty((n_gens,n_stages), dtype=object)\n",
    "\n",
    "for g in range(n_gens):\n",
    "    for t in range(n_stages):\n",
    "        x[g,t] = det_model.addVar(vtype = GRB.BINARY, name = \"x_%i,%i\"%(g+1,t+1))\n",
    "        y[g,t] = det_model.addVar(vtype = GRB.CONTINUOUS, lb = 0, name = \"y_%i,%i\"%(g+1,t+1))\n",
    "        s_up[g,t] = det_model.addVar(vtype = GRB.BINARY, name = \"s_up%i,%i\"%(g+1,t+1))\n",
    "        s_down[g,t] = det_model.addVar(vtype = GRB.BINARY, name = \"s_down%i,%i\"%(g+1,t+1))\n",
    "\n",
    "det_model.update()\n",
    "\n",
    "########################################################################################################################\n",
    "# Add objective\n",
    "########################################################################################################################\n",
    "cost_coeffs = gc.tolist() + suc.tolist() + sdc.tolist()\n",
    "\n",
    "obj = LinExpr()\n",
    "\n",
    "for t in range(n_stages):\n",
    "    obj_vars = y[:,t].tolist() + s_up[:,t].tolist() + s_down[:,t].tolist()\n",
    "    obj += LinExpr(cost_coeffs, obj_vars)\n",
    "\n",
    "det_model.setObjective(obj)\n",
    "\n",
    "########################################################################################################################\n",
    "# Add constraints\n",
    "########################################################################################################################\n",
    "# Balance of supply and demand\n",
    "det_model.addConstrs((quicksum(y[:,t]) == ex_pd[t] for t in range(n_stages)), \"balance\")\n",
    "\n",
    "# Generator constraints\n",
    "for g in range(n_gens):\n",
    "    det_model.addConstrs((y[g,t] >= pg_min[g]*x[g,t] for t in range(n_stages)), \"gen_min\")\n",
    "    det_model.addConstrs((y[g,t] <= pg_max[g]*x[g,t] for t in range(n_stages)), \"gen_max\")\n",
    "\n",
    "# Power flow constraints\n",
    "for l in range(n_lines):\n",
    "    det_model.addConstrs((quicksum(ptdf[l,b] * quicksum(y[g,t] for g in gens_at_bus[b]) for b in range(n_buses)) <= pl_max for t in range(n_stages)), \"flow(1)\")\n",
    "    det_model.addConstrs((-quicksum(ptdf[l,b] * quicksum(y[g,t] for g in gens_at_bus[b]) for b in range(n_buses)) <= pl_max for t in range(n_stages)), \"flow(2)\")\n",
    "\n",
    "# Startup and shutdown\n",
    "for g in range(n_gens):\n",
    "    det_model.addConstr((x[g,0] <= s_up[g,0]), \"up-down(0.1)\")\n",
    "    det_model.addConstr((x[g,0] <= s_up[g,0] - s_down[g,t]), \"up-down(0.2)\")\n",
    "    det_model.addConstrs((x[g,t] - x[g,t-1] <= s_up[g,t]  for t in range(1,n_stages)), \"up-down(1)\")\n",
    "    det_model.addConstrs((x[g,t] - x[g,t-1] <= s_up[g,t] - s_down[g,t]  for t in range(1,n_stages)), \"up-down(2)\")\n",
    "\n",
    "det_model.update()\n",
    "\n",
    "det_model.optimize()\n",
    "det_model.printAttr(\"X\")"
   ]
  }
 ],
 "metadata": {
  "interpreter": {
   "hash": "abe42ade3e87b4e6c3c5745962b526975dbcf6574cac0f27c7eb88f5d6f3bab5"
  },
  "kernelspec": {
   "display_name": "Python 3.10.0 64-bit ('optimization': conda)",
   "language": "python",
   "name": "python3"
  },
  "language_info": {
   "codemirror_mode": {
    "name": "ipython",
    "version": 3
   },
   "file_extension": ".py",
   "mimetype": "text/x-python",
   "name": "python",
   "nbconvert_exporter": "python",
   "pygments_lexer": "ipython3",
   "version": "3.10.0"
  },
  "orig_nbformat": 4
 },
 "nbformat": 4,
 "nbformat_minor": 2
}
