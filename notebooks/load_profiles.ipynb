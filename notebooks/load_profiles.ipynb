{
 "cells": [
  {
   "cell_type": "markdown",
   "metadata": {},
   "source": [
    "# Scenarios and sampling"
   ]
  },
  {
   "cell_type": "markdown",
   "metadata": {},
   "source": [
    "## Load Profile"
   ]
  },
  {
   "cell_type": "code",
   "execution_count": 29,
   "metadata": {},
   "outputs": [],
   "source": [
    "import sys\n",
    "sys.path.append('../sddip')"
   ]
  },
  {
   "cell_type": "code",
   "execution_count": 30,
   "metadata": {},
   "outputs": [],
   "source": [
    "import os\n",
    "import random as rdm\n",
    "import pandas as pd\n",
    "import numpy as np\n",
    "import matplotlib.pyplot as plt\n",
    "import sddip.config as config"
   ]
  },
  {
   "cell_type": "markdown",
   "metadata": {},
   "source": [
    "## Load Profile Manipulation"
   ]
  },
  {
   "cell_type": "code",
   "execution_count": 31,
   "metadata": {},
   "outputs": [
    {
     "data": {
      "text/html": [
       "<div>\n",
       "<style scoped>\n",
       "    .dataframe tbody tr th:only-of-type {\n",
       "        vertical-align: middle;\n",
       "    }\n",
       "\n",
       "    .dataframe tbody tr th {\n",
       "        vertical-align: top;\n",
       "    }\n",
       "\n",
       "    .dataframe thead th {\n",
       "        text-align: right;\n",
       "    }\n",
       "</style>\n",
       "<table border=\"1\" class=\"dataframe\">\n",
       "  <thead>\n",
       "    <tr style=\"text-align: right;\">\n",
       "      <th></th>\n",
       "      <th>time</th>\n",
       "      <th>h0</th>\n",
       "    </tr>\n",
       "  </thead>\n",
       "  <tbody>\n",
       "    <tr>\n",
       "      <th>0</th>\n",
       "      <td>00:15:00</td>\n",
       "      <td>86.3</td>\n",
       "    </tr>\n",
       "    <tr>\n",
       "      <th>1</th>\n",
       "      <td>00:30:00</td>\n",
       "      <td>76.9</td>\n",
       "    </tr>\n",
       "    <tr>\n",
       "      <th>2</th>\n",
       "      <td>00:45:00</td>\n",
       "      <td>68.8</td>\n",
       "    </tr>\n",
       "    <tr>\n",
       "      <th>3</th>\n",
       "      <td>01:00:00</td>\n",
       "      <td>62.4</td>\n",
       "    </tr>\n",
       "    <tr>\n",
       "      <th>4</th>\n",
       "      <td>01:15:00</td>\n",
       "      <td>58.0</td>\n",
       "    </tr>\n",
       "    <tr>\n",
       "      <th>...</th>\n",
       "      <td>...</td>\n",
       "      <td>...</td>\n",
       "    </tr>\n",
       "    <tr>\n",
       "      <th>91</th>\n",
       "      <td>23:00:00</td>\n",
       "      <td>135.7</td>\n",
       "    </tr>\n",
       "    <tr>\n",
       "      <th>92</th>\n",
       "      <td>23:15:00</td>\n",
       "      <td>127.2</td>\n",
       "    </tr>\n",
       "    <tr>\n",
       "      <th>93</th>\n",
       "      <td>23:30:00</td>\n",
       "      <td>117.5</td>\n",
       "    </tr>\n",
       "    <tr>\n",
       "      <th>94</th>\n",
       "      <td>23:45:00</td>\n",
       "      <td>107.1</td>\n",
       "    </tr>\n",
       "    <tr>\n",
       "      <th>95</th>\n",
       "      <td>00:00:00</td>\n",
       "      <td>96.5</td>\n",
       "    </tr>\n",
       "  </tbody>\n",
       "</table>\n",
       "<p>96 rows × 2 columns</p>\n",
       "</div>"
      ],
      "text/plain": [
       "        time     h0\n",
       "0   00:15:00   86.3\n",
       "1   00:30:00   76.9\n",
       "2   00:45:00   68.8\n",
       "3   01:00:00   62.4\n",
       "4   01:15:00   58.0\n",
       "..       ...    ...\n",
       "91  23:00:00  135.7\n",
       "92  23:15:00  127.2\n",
       "93  23:30:00  117.5\n",
       "94  23:45:00  107.1\n",
       "95  00:00:00   96.5\n",
       "\n",
       "[96 rows x 2 columns]"
      ]
     },
     "execution_count": 31,
     "metadata": {},
     "output_type": "execute_result"
    }
   ],
   "source": [
    "load_profile_name = \"h0_summer_workday.txt\"\n",
    "load_profiles_dir = \"supplementary/load_profiles\"\n",
    "\n",
    "\n",
    "load_profile_dir = os.path.join(config.test_cases_dir, load_profiles_dir)\n",
    "\n",
    "load_profile_file = os.path.join(load_profile_dir, load_profile_name)\n",
    "\n",
    "profile_df = pd.read_csv(load_profile_file, delimiter=\"\\t\")\n",
    "\n",
    "profile_df"
   ]
  },
  {
   "cell_type": "code",
   "execution_count": 32,
   "metadata": {},
   "outputs": [
    {
     "data": {
      "text/plain": [
       "<AxesSubplot:>"
      ]
     },
     "execution_count": 32,
     "metadata": {},
     "output_type": "execute_result"
    },
    {
     "data": {
      "image/png": "[encoded data removed]",
      "text/plain": [
       "<Figure size 432x288 with 1 Axes>"
      ]
     },
     "metadata": {
      "needs_background": "light"
     },
     "output_type": "display_data"
    }
   ],
   "source": [
    "profile_df.plot()"
   ]
  },
  {
   "cell_type": "code",
   "execution_count": 33,
   "metadata": {},
   "outputs": [
    {
     "data": {
      "text/plain": [
       "<AxesSubplot:>"
      ]
     },
     "execution_count": 33,
     "metadata": {},
     "output_type": "execute_result"
    },
    {
     "data": {
      "image/png": "[encoded data removed]",
      "text/plain": [
       "<Figure size 432x288 with 1 Axes>"
      ]
     },
     "metadata": {
      "needs_background": "light"
     },
     "output_type": "display_data"
    }
   ],
   "source": [
    "values = np.array(profile_df.h0.tolist())\n",
    "\n",
    "reduction_factor = 4\n",
    "if len(values)%reduction_factor!=0:\n",
    "    raise ValueError(\"Number of values to be reduced must be divisible by the reduction factor.\")\n",
    "\n",
    "reduced_values = np.mean(values.reshape(-1,reduction_factor), axis=1)\n",
    "\n",
    "reduced_profile_df = pd.DataFrame({\"h0\" : reduced_values})\n",
    "reduced_profile_df.plot()"
   ]
  },
  {
   "cell_type": "code",
   "execution_count": 34,
   "metadata": {},
   "outputs": [
    {
     "data": {
      "text/plain": [
       "<AxesSubplot:>"
      ]
     },
     "execution_count": 34,
     "metadata": {},
     "output_type": "execute_result"
    },
    {
     "data": {
      "image/png": "[encoded data removed]",
      "text/plain": [
       "<Figure size 432x288 with 1 Axes>"
      ]
     },
     "metadata": {
      "needs_background": "light"
     },
     "output_type": "display_data"
    }
   ],
   "source": [
    "max_load = reduced_profile_df.h0.max()\n",
    "\n",
    "scaling_factor = 350/max_load\n",
    "\n",
    "scaled_profile = reduced_profile_df.h0*scaling_factor\n",
    "\n",
    "scaled_profile.plot()"
   ]
  },
  {
   "cell_type": "code",
   "execution_count": 35,
   "metadata": {},
   "outputs": [
    {
     "data": {
      "text/plain": [
       "[<matplotlib.lines.Line2D at 0x2145b82a350>]"
      ]
     },
     "execution_count": 35,
     "metadata": {},
     "output_type": "execute_result"
    },
    {
     "data": {
      "image/png": "[encoded data removed]",
      "text/plain": [
       "<Figure size 432x288 with 1 Axes>"
      ]
     },
     "metadata": {
      "needs_background": "light"
     },
     "output_type": "display_data"
    }
   ],
   "source": [
    "\n",
    "rdm_variation_profile = [p+p*rdm.uniform(-0.1,0.1) for p in scaled_profile]\n",
    "\n",
    "plt.plot(rdm_variation_profile)"
   ]
  },
  {
   "cell_type": "code",
   "execution_count": 36,
   "metadata": {},
   "outputs": [
    {
     "data": {
      "image/png": "[encoded data removed]",
      "text/plain": [
       "<Figure size 432x288 with 1 Axes>"
      ]
     },
     "metadata": {
      "needs_background": "light"
     },
     "output_type": "display_data"
    }
   ],
   "source": [
    "n_profiles = 3\n",
    "\n",
    "profiles = [[p+p*rdm.uniform(-0.1,0.1) for p in scaled_profile] for _ in range(n_profiles)]\n",
    "\n",
    "for profile in profiles:\n",
    "    profile[0] = scaled_profile[0]\n",
    "\n",
    "for i in range(n_profiles):\n",
    "    plt.plot(profiles[i])\n",
    "\n",
    "plt.show()"
   ]
  },
  {
   "cell_type": "markdown",
   "metadata": {},
   "source": [
    "## Scenario generation"
   ]
  },
  {
   "cell_type": "code",
   "execution_count": 37,
   "metadata": {},
   "outputs": [],
   "source": [
    "def get_rdm_variation(base_value, max_relative_variation = 0.1):\n",
    "    return base_value+base_value*rdm.uniform(-max_relative_variation, max_relative_variation)"
   ]
  },
  {
   "cell_type": "code",
   "execution_count": 38,
   "metadata": {},
   "outputs": [
    {
     "data": {
      "text/html": [
       "<div>\n",
       "<style scoped>\n",
       "    .dataframe tbody tr th:only-of-type {\n",
       "        vertical-align: middle;\n",
       "    }\n",
       "\n",
       "    .dataframe tbody tr th {\n",
       "        vertical-align: top;\n",
       "    }\n",
       "\n",
       "    .dataframe thead th {\n",
       "        text-align: right;\n",
       "    }\n",
       "</style>\n",
       "<table border=\"1\" class=\"dataframe\">\n",
       "  <thead>\n",
       "    <tr style=\"text-align: right;\">\n",
       "      <th></th>\n",
       "      <th>t</th>\n",
       "      <th>n</th>\n",
       "      <th>p</th>\n",
       "      <th>Pd1</th>\n",
       "      <th>Pd2</th>\n",
       "    </tr>\n",
       "  </thead>\n",
       "  <tbody>\n",
       "    <tr>\n",
       "      <th>0</th>\n",
       "      <td>1</td>\n",
       "      <td>1</td>\n",
       "      <td>1.000000</td>\n",
       "      <td>0</td>\n",
       "      <td>170.013191</td>\n",
       "    </tr>\n",
       "    <tr>\n",
       "      <th>1</th>\n",
       "      <td>2</td>\n",
       "      <td>1</td>\n",
       "      <td>0.333333</td>\n",
       "      <td>0</td>\n",
       "      <td>103.784909</td>\n",
       "    </tr>\n",
       "    <tr>\n",
       "      <th>2</th>\n",
       "      <td>2</td>\n",
       "      <td>2</td>\n",
       "      <td>0.333333</td>\n",
       "      <td>0</td>\n",
       "      <td>116.453382</td>\n",
       "    </tr>\n",
       "    <tr>\n",
       "      <th>3</th>\n",
       "      <td>2</td>\n",
       "      <td>3</td>\n",
       "      <td>0.333333</td>\n",
       "      <td>0</td>\n",
       "      <td>105.933885</td>\n",
       "    </tr>\n",
       "    <tr>\n",
       "      <th>4</th>\n",
       "      <td>3</td>\n",
       "      <td>1</td>\n",
       "      <td>0.333333</td>\n",
       "      <td>0</td>\n",
       "      <td>112.673108</td>\n",
       "    </tr>\n",
       "    <tr>\n",
       "      <th>...</th>\n",
       "      <td>...</td>\n",
       "      <td>...</td>\n",
       "      <td>...</td>\n",
       "      <td>...</td>\n",
       "      <td>...</td>\n",
       "    </tr>\n",
       "    <tr>\n",
       "      <th>65</th>\n",
       "      <td>23</td>\n",
       "      <td>2</td>\n",
       "      <td>0.333333</td>\n",
       "      <td>0</td>\n",
       "      <td>281.918999</td>\n",
       "    </tr>\n",
       "    <tr>\n",
       "      <th>66</th>\n",
       "      <td>23</td>\n",
       "      <td>3</td>\n",
       "      <td>0.333333</td>\n",
       "      <td>0</td>\n",
       "      <td>326.949688</td>\n",
       "    </tr>\n",
       "    <tr>\n",
       "      <th>67</th>\n",
       "      <td>24</td>\n",
       "      <td>1</td>\n",
       "      <td>0.333333</td>\n",
       "      <td>0</td>\n",
       "      <td>254.616515</td>\n",
       "    </tr>\n",
       "    <tr>\n",
       "      <th>68</th>\n",
       "      <td>24</td>\n",
       "      <td>2</td>\n",
       "      <td>0.333333</td>\n",
       "      <td>0</td>\n",
       "      <td>240.928476</td>\n",
       "    </tr>\n",
       "    <tr>\n",
       "      <th>69</th>\n",
       "      <td>24</td>\n",
       "      <td>3</td>\n",
       "      <td>0.333333</td>\n",
       "      <td>0</td>\n",
       "      <td>249.294734</td>\n",
       "    </tr>\n",
       "  </tbody>\n",
       "</table>\n",
       "<p>70 rows × 5 columns</p>\n",
       "</div>"
      ],
      "text/plain": [
       "     t  n         p  Pd1         Pd2\n",
       "0    1  1  1.000000    0  170.013191\n",
       "1    2  1  0.333333    0  103.784909\n",
       "2    2  2  0.333333    0  116.453382\n",
       "3    2  3  0.333333    0  105.933885\n",
       "4    3  1  0.333333    0  112.673108\n",
       "..  .. ..       ...  ...         ...\n",
       "65  23  2  0.333333    0  281.918999\n",
       "66  23  3  0.333333    0  326.949688\n",
       "67  24  1  0.333333    0  254.616515\n",
       "68  24  2  0.333333    0  240.928476\n",
       "69  24  3  0.333333    0  249.294734\n",
       "\n",
       "[70 rows x 5 columns]"
      ]
     },
     "execution_count": 38,
     "metadata": {},
     "output_type": "execute_result"
    }
   ],
   "source": [
    "n_buses = 2\n",
    "demand_buses = [1]\n",
    "no_demand_buses = [b for b in range(n_buses) if  b not in demand_buses]\n",
    "\n",
    "base_profile = scaled_profile\n",
    "\n",
    "n_realizations_per_stage = 3\n",
    "n_stages = len(base_profile)\n",
    "n_total_ralizations = (n_stages-1)*n_realizations_per_stage + 1\n",
    "\n",
    "scenario_data = {\n",
    "    \"t\": [],\n",
    "    \"n\": [],\n",
    "    \"p\": []\n",
    "}\n",
    "\n",
    "demand_bus_keys = []\n",
    "no_demand_bus_keys = []\n",
    "for b in range(n_buses):\n",
    "    bus_key = f\"Pd{b+1}\"\n",
    "    scenario_data[bus_key] = []\n",
    "    if b in demand_buses:\n",
    "        demand_bus_keys.append(bus_key)\n",
    "    else:\n",
    "        scenario_data[bus_key] = [0]*n_total_ralizations\n",
    "        no_demand_bus_keys.append(bus_key)\n",
    "\n",
    "\n",
    "\n",
    "scenario_data[\"t\"].append(1)\n",
    "scenario_data[\"n\"].append(1)\n",
    "scenario_data[\"p\"].append(1)\n",
    "\n",
    "for db in demand_bus_keys:\n",
    "    scenario_data[db].append(get_rdm_variation(base_profile[0]))\n",
    "\n",
    "\n",
    "if n_stages < 2:\n",
    "    raise ValueError(\"Number of stages must be greater than 1.\")\n",
    "if n_realizations_per_stage < 2:\n",
    "    raise ValueError(\"Number of realizations per stage must be greater than 1.\")\n",
    "\n",
    "for t in range(1,n_stages):\n",
    "    for n in range(1,n_realizations_per_stage+1):\n",
    "        scenario_data[f\"t\"].append(t+1)\n",
    "        scenario_data[\"n\"].append(n)\n",
    "        scenario_data[\"p\"].append(1/n_realizations_per_stage)\n",
    "        for db in demand_bus_keys:\n",
    "            scenario_data[db].append(get_rdm_variation(base_profile[t]))\n",
    "\n",
    "\n",
    "scenario_df = pd.DataFrame(scenario_data)\n",
    "scenario_df"
   ]
  },
  {
   "cell_type": "markdown",
   "metadata": {},
   "source": [
    "## Sampling"
   ]
  },
  {
   "cell_type": "code",
   "execution_count": 39,
   "metadata": {},
   "outputs": [
    {
     "data": {
      "text/plain": [
       "[[0, 1, 1, 2, 1, 0, 2, 2, 0, 1, 1, 2, 0, 2, 2, 2, 1, 1, 2, 1, 1, 0, 2, 2],\n",
       " [0, 2, 0, 1, 1, 1, 2, 0, 1, 0, 1, 1, 0, 2, 0, 1, 1, 1, 2, 0, 0, 0, 0, 0]]"
      ]
     },
     "execution_count": 39,
     "metadata": {},
     "output_type": "execute_result"
    }
   ],
   "source": [
    "n_samples = 2\n",
    "\n",
    "samples = []\n",
    "for _ in range(n_samples):\n",
    "    sample = [rdm.randint(0,n_realizations_per_stage-1) for _ in range(n_stages-1)]\n",
    "    sample.insert(0,0)\n",
    "    samples.append(sample)\n",
    "\n",
    "samples"
   ]
  },
  {
   "cell_type": "markdown",
   "metadata": {},
   "source": [
    "## External Scenario Module"
   ]
  },
  {
   "cell_type": "code",
   "execution_count": 40,
   "metadata": {},
   "outputs": [
    {
     "data": {
      "text/html": [
       "<div>\n",
       "<style scoped>\n",
       "    .dataframe tbody tr th:only-of-type {\n",
       "        vertical-align: middle;\n",
       "    }\n",
       "\n",
       "    .dataframe tbody tr th {\n",
       "        vertical-align: top;\n",
       "    }\n",
       "\n",
       "    .dataframe thead th {\n",
       "        text-align: right;\n",
       "    }\n",
       "</style>\n",
       "<table border=\"1\" class=\"dataframe\">\n",
       "  <thead>\n",
       "    <tr style=\"text-align: right;\">\n",
       "      <th></th>\n",
       "      <th>t</th>\n",
       "      <th>n</th>\n",
       "      <th>p</th>\n",
       "      <th>Pd1</th>\n",
       "      <th>Pd2</th>\n",
       "      <th>Pd3</th>\n",
       "    </tr>\n",
       "  </thead>\n",
       "  <tbody>\n",
       "    <tr>\n",
       "      <th>0</th>\n",
       "      <td>1</td>\n",
       "      <td>1</td>\n",
       "      <td>1.000000</td>\n",
       "      <td>0</td>\n",
       "      <td>143.077389</td>\n",
       "      <td>83.203451</td>\n",
       "    </tr>\n",
       "    <tr>\n",
       "      <th>1</th>\n",
       "      <td>2</td>\n",
       "      <td>1</td>\n",
       "      <td>0.333333</td>\n",
       "      <td>0</td>\n",
       "      <td>125.498927</td>\n",
       "      <td>67.553057</td>\n",
       "    </tr>\n",
       "    <tr>\n",
       "      <th>2</th>\n",
       "      <td>2</td>\n",
       "      <td>2</td>\n",
       "      <td>0.333333</td>\n",
       "      <td>0</td>\n",
       "      <td>110.997959</td>\n",
       "      <td>63.207778</td>\n",
       "    </tr>\n",
       "    <tr>\n",
       "      <th>3</th>\n",
       "      <td>2</td>\n",
       "      <td>3</td>\n",
       "      <td>0.333333</td>\n",
       "      <td>0</td>\n",
       "      <td>110.464344</td>\n",
       "      <td>61.141577</td>\n",
       "    </tr>\n",
       "    <tr>\n",
       "      <th>4</th>\n",
       "      <td>3</td>\n",
       "      <td>1</td>\n",
       "      <td>0.333333</td>\n",
       "      <td>0</td>\n",
       "      <td>96.072028</td>\n",
       "      <td>60.651234</td>\n",
       "    </tr>\n",
       "    <tr>\n",
       "      <th>...</th>\n",
       "      <td>...</td>\n",
       "      <td>...</td>\n",
       "      <td>...</td>\n",
       "      <td>...</td>\n",
       "      <td>...</td>\n",
       "      <td>...</td>\n",
       "    </tr>\n",
       "    <tr>\n",
       "      <th>65</th>\n",
       "      <td>23</td>\n",
       "      <td>2</td>\n",
       "      <td>0.333333</td>\n",
       "      <td>0</td>\n",
       "      <td>320.230344</td>\n",
       "      <td>175.181264</td>\n",
       "    </tr>\n",
       "    <tr>\n",
       "      <th>66</th>\n",
       "      <td>23</td>\n",
       "      <td>3</td>\n",
       "      <td>0.333333</td>\n",
       "      <td>0</td>\n",
       "      <td>290.916775</td>\n",
       "      <td>185.016091</td>\n",
       "    </tr>\n",
       "    <tr>\n",
       "      <th>67</th>\n",
       "      <td>24</td>\n",
       "      <td>1</td>\n",
       "      <td>0.333333</td>\n",
       "      <td>0</td>\n",
       "      <td>230.577754</td>\n",
       "      <td>132.083062</td>\n",
       "    </tr>\n",
       "    <tr>\n",
       "      <th>68</th>\n",
       "      <td>24</td>\n",
       "      <td>2</td>\n",
       "      <td>0.333333</td>\n",
       "      <td>0</td>\n",
       "      <td>247.867267</td>\n",
       "      <td>126.572548</td>\n",
       "    </tr>\n",
       "    <tr>\n",
       "      <th>69</th>\n",
       "      <td>24</td>\n",
       "      <td>3</td>\n",
       "      <td>0.333333</td>\n",
       "      <td>0</td>\n",
       "      <td>222.433001</td>\n",
       "      <td>142.206170</td>\n",
       "    </tr>\n",
       "  </tbody>\n",
       "</table>\n",
       "<p>70 rows × 6 columns</p>\n",
       "</div>"
      ],
      "text/plain": [
       "     t  n         p  Pd1         Pd2         Pd3\n",
       "0    1  1  1.000000    0  143.077389   83.203451\n",
       "1    2  1  0.333333    0  125.498927   67.553057\n",
       "2    2  2  0.333333    0  110.997959   63.207778\n",
       "3    2  3  0.333333    0  110.464344   61.141577\n",
       "4    3  1  0.333333    0   96.072028   60.651234\n",
       "..  .. ..       ...  ...         ...         ...\n",
       "65  23  2  0.333333    0  320.230344  175.181264\n",
       "66  23  3  0.333333    0  290.916775  185.016091\n",
       "67  24  1  0.333333    0  230.577754  132.083062\n",
       "68  24  2  0.333333    0  247.867267  126.572548\n",
       "69  24  3  0.333333    0  222.433001  142.206170\n",
       "\n",
       "[70 rows x 6 columns]"
      ]
     },
     "execution_count": 40,
     "metadata": {},
     "output_type": "execute_result"
    }
   ],
   "source": [
    "import sddip.scenarios as scenarios\n",
    "\n",
    "n_stages = 24\n",
    "n_realizations_per_stage = 3\n",
    "\n",
    "n_buses = 3\n",
    "demand_buses = [1,2]\n",
    "max_value_targets = [350, 200]\n",
    "\n",
    "\n",
    "sc_generator = scenarios.ScenarioGenerator(n_stages, n_realizations_per_stage)\n",
    "\n",
    "scenario_df = sc_generator.generate_scenario_dataframe(n_buses, demand_buses, max_value_targets)\n",
    "\n",
    "scenario_df"
   ]
  },
  {
   "cell_type": "code",
   "execution_count": 41,
   "metadata": {},
   "outputs": [
    {
     "data": {
      "text/plain": [
       "<AxesSubplot:>"
      ]
     },
     "execution_count": 41,
     "metadata": {},
     "output_type": "execute_result"
    },
    {
     "data": {
      "image/png": "[encoded data removed]",
      "text/plain": [
       "<Figure size 432x288 with 1 Axes>"
      ]
     },
     "metadata": {
      "needs_background": "light"
     },
     "output_type": "display_data"
    }
   ],
   "source": [
    "n = 1\n",
    "realization_df = scenario_df[scenario_df[\"n\"] == n]\n",
    "\n",
    "profiles_df = realization_df.drop([\"t\",\"n\", \"p\"], axis=1)\n",
    "\n",
    "profiles_df.plot()"
   ]
  },
  {
   "cell_type": "code",
   "execution_count": 42,
   "metadata": {},
   "outputs": [
    {
     "data": {
      "text/plain": [
       "[[0, 2, 1, 0, 1, 1, 2, 1, 0, 0, 1, 2, 0, 1, 0, 1, 1, 2, 2, 1, 1, 0, 2, 1],\n",
       " [0, 2, 0, 0, 2, 1, 2, 1, 2, 1, 0, 2, 2, 2, 1, 1, 0, 0, 1, 1, 2, 1, 1, 0],\n",
       " [0, 0, 1, 0, 2, 2, 1, 0, 1, 0, 1, 2, 1, 2, 2, 2, 0, 2, 1, 1, 0, 1, 0, 1]]"
      ]
     },
     "execution_count": 42,
     "metadata": {},
     "output_type": "execute_result"
    }
   ],
   "source": [
    "n_samples = 3\n",
    "\n",
    "sc_sampler = scenarios.ScenarioSampler(n_stages, n_realizations_per_stage)\n",
    "\n",
    "sc_sampler.generate_samples(n_samples)"
   ]
  }
 ],
 "metadata": {
  "interpreter": {
   "hash": "abe42ade3e87b4e6c3c5745962b526975dbcf6574cac0f27c7eb88f5d6f3bab5"
  },
  "kernelspec": {
   "display_name": "Python 3.10.0 64-bit ('optimization': conda)",
   "language": "python",
   "name": "python3"
  },
  "language_info": {
   "codemirror_mode": {
    "name": "ipython",
    "version": 3
   },
   "file_extension": ".py",
   "mimetype": "text/x-python",
   "name": "python",
   "nbconvert_exporter": "python",
   "pygments_lexer": "ipython3",
   "version": "3.9.7"
  },
  "orig_nbformat": 4
 },
 "nbformat": 4,
 "nbformat_minor": 2
}
