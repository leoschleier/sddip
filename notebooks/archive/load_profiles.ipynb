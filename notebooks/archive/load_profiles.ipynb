{
 "cells": [
  {
   "cell_type": "markdown",
   "metadata": {},
   "source": [
    "# Scenarios and sampling"
   ]
  },
  {
   "cell_type": "markdown",
   "metadata": {},
   "source": [
    "## Load Profile"
   ]
  },
  {
   "cell_type": "code",
   "execution_count": 61,
   "metadata": {},
   "outputs": [],
   "source": [
    "import sys\n",
    "\n",
    "sys.path.append(\"../sddip\")"
   ]
  },
  {
   "cell_type": "code",
   "execution_count": 62,
   "metadata": {},
   "outputs": [],
   "source": [
    "import os\n",
    "import random as rdm\n",
    "\n",
    "import matplotlib.pyplot as plt\n",
    "import numpy as np\n",
    "import pandas as pd\n",
    "\n",
    "from sddip import config"
   ]
  },
  {
   "cell_type": "markdown",
   "metadata": {},
   "source": [
    "## Load Profile Manipulation"
   ]
  },
  {
   "cell_type": "code",
   "execution_count": 63,
   "metadata": {},
   "outputs": [
    {
     "data": {
      "text/html": [
       "<div>\n",
       "<style scoped>\n",
       "    .dataframe tbody tr th:only-of-type {\n",
       "        vertical-align: middle;\n",
       "    }\n",
       "\n",
       "    .dataframe tbody tr th {\n",
       "        vertical-align: top;\n",
       "    }\n",
       "\n",
       "    .dataframe thead th {\n",
       "        text-align: right;\n",
       "    }\n",
       "</style>\n",
       "<table border=\"1\" class=\"dataframe\">\n",
       "  <thead>\n",
       "    <tr style=\"text-align: right;\">\n",
       "      <th></th>\n",
       "      <th>time</th>\n",
       "      <th>h0</th>\n",
       "    </tr>\n",
       "  </thead>\n",
       "  <tbody>\n",
       "    <tr>\n",
       "      <th>0</th>\n",
       "      <td>00:15:00</td>\n",
       "      <td>86.3</td>\n",
       "    </tr>\n",
       "    <tr>\n",
       "      <th>1</th>\n",
       "      <td>00:30:00</td>\n",
       "      <td>76.9</td>\n",
       "    </tr>\n",
       "    <tr>\n",
       "      <th>2</th>\n",
       "      <td>00:45:00</td>\n",
       "      <td>68.8</td>\n",
       "    </tr>\n",
       "    <tr>\n",
       "      <th>3</th>\n",
       "      <td>01:00:00</td>\n",
       "      <td>62.4</td>\n",
       "    </tr>\n",
       "    <tr>\n",
       "      <th>4</th>\n",
       "      <td>01:15:00</td>\n",
       "      <td>58.0</td>\n",
       "    </tr>\n",
       "    <tr>\n",
       "      <th>...</th>\n",
       "      <td>...</td>\n",
       "      <td>...</td>\n",
       "    </tr>\n",
       "    <tr>\n",
       "      <th>91</th>\n",
       "      <td>23:00:00</td>\n",
       "      <td>135.7</td>\n",
       "    </tr>\n",
       "    <tr>\n",
       "      <th>92</th>\n",
       "      <td>23:15:00</td>\n",
       "      <td>127.2</td>\n",
       "    </tr>\n",
       "    <tr>\n",
       "      <th>93</th>\n",
       "      <td>23:30:00</td>\n",
       "      <td>117.5</td>\n",
       "    </tr>\n",
       "    <tr>\n",
       "      <th>94</th>\n",
       "      <td>23:45:00</td>\n",
       "      <td>107.1</td>\n",
       "    </tr>\n",
       "    <tr>\n",
       "      <th>95</th>\n",
       "      <td>00:00:00</td>\n",
       "      <td>96.5</td>\n",
       "    </tr>\n",
       "  </tbody>\n",
       "</table>\n",
       "<p>96 rows × 2 columns</p>\n",
       "</div>"
      ],
      "text/plain": [
       "        time     h0\n",
       "0   00:15:00   86.3\n",
       "1   00:30:00   76.9\n",
       "2   00:45:00   68.8\n",
       "3   01:00:00   62.4\n",
       "4   01:15:00   58.0\n",
       "..       ...    ...\n",
       "91  23:00:00  135.7\n",
       "92  23:15:00  127.2\n",
       "93  23:30:00  117.5\n",
       "94  23:45:00  107.1\n",
       "95  00:00:00   96.5\n",
       "\n",
       "[96 rows x 2 columns]"
      ]
     },
     "execution_count": 63,
     "metadata": {},
     "output_type": "execute_result"
    }
   ],
   "source": [
    "load_profile_name = \"h0_summer_workday.txt\"\n",
    "load_profiles_dir = \"supplementary/load_profiles\"\n",
    "\n",
    "\n",
    "load_profile_dir = os.path.join(config.test_cases_dir, load_profiles_dir)\n",
    "\n",
    "load_profile_file = os.path.join(load_profile_dir, load_profile_name)\n",
    "\n",
    "profile_df = pd.read_csv(load_profile_file, delimiter=\"\\t\")\n",
    "\n",
    "profile_df"
   ]
  },
  {
   "cell_type": "code",
   "execution_count": 64,
   "metadata": {},
   "outputs": [
    {
     "data": {
      "text/plain": [
       "<AxesSubplot:>"
      ]
     },
     "execution_count": 64,
     "metadata": {},
     "output_type": "execute_result"
    },
    {
     "data": {
      "image/png": "[encoded data removed]",
      "text/plain": [
       "<Figure size 432x288 with 1 Axes>"
      ]
     },
     "metadata": {
      "needs_background": "light"
     },
     "output_type": "display_data"
    }
   ],
   "source": [
    "profile_df.plot()"
   ]
  },
  {
   "cell_type": "code",
   "execution_count": 65,
   "metadata": {},
   "outputs": [
    {
     "data": {
      "text/plain": [
       "<AxesSubplot:>"
      ]
     },
     "execution_count": 65,
     "metadata": {},
     "output_type": "execute_result"
    },
    {
     "data": {
      "image/png": "[encoded data removed]",
      "text/plain": [
       "<Figure size 432x288 with 1 Axes>"
      ]
     },
     "metadata": {
      "needs_background": "light"
     },
     "output_type": "display_data"
    }
   ],
   "source": [
    "values = np.array(profile_df.h0.tolist())\n",
    "\n",
    "reduction_factor = 4\n",
    "if len(values) % reduction_factor != 0:\n",
    "    raise ValueError(\n",
    "        \"Number of values to be reduced must be divisible by the reduction factor.\"\n",
    "    )\n",
    "\n",
    "reduced_values = np.mean(values.reshape(-1, reduction_factor), axis=1)\n",
    "\n",
    "reduced_profile_df = pd.DataFrame({\"h0\": reduced_values})\n",
    "reduced_profile_df.plot()"
   ]
  },
  {
   "cell_type": "code",
   "execution_count": 66,
   "metadata": {},
   "outputs": [
    {
     "data": {
      "text/plain": [
       "<AxesSubplot:>"
      ]
     },
     "execution_count": 66,
     "metadata": {},
     "output_type": "execute_result"
    },
    {
     "data": {
      "image/png": "[encoded data removed]",
      "text/plain": [
       "<Figure size 432x288 with 1 Axes>"
      ]
     },
     "metadata": {
      "needs_background": "light"
     },
     "output_type": "display_data"
    }
   ],
   "source": [
    "max_load = reduced_profile_df.h0.max()\n",
    "\n",
    "scaling_factor = 350 / max_load\n",
    "\n",
    "scaled_profile = reduced_profile_df.h0 * scaling_factor\n",
    "\n",
    "scaled_profile.plot()"
   ]
  },
  {
   "cell_type": "code",
   "execution_count": 67,
   "metadata": {},
   "outputs": [
    {
     "data": {
      "text/plain": [
       "[<matplotlib.lines.Line2D at 0x1e030b800a0>]"
      ]
     },
     "execution_count": 67,
     "metadata": {},
     "output_type": "execute_result"
    },
    {
     "data": {
      "image/png": "[encoded data removed]",
      "text/plain": [
       "<Figure size 432x288 with 1 Axes>"
      ]
     },
     "metadata": {
      "needs_background": "light"
     },
     "output_type": "display_data"
    }
   ],
   "source": [
    "rdm_variation_profile = [\n",
    "    p + p * rdm.uniform(-0.1, 0.1) for p in scaled_profile\n",
    "]\n",
    "\n",
    "plt.plot(rdm_variation_profile)"
   ]
  },
  {
   "cell_type": "code",
   "execution_count": 68,
   "metadata": {},
   "outputs": [
    {
     "data": {
      "image/png": "[encoded data removed]",
      "text/plain": [
       "<Figure size 432x288 with 1 Axes>"
      ]
     },
     "metadata": {
      "needs_background": "light"
     },
     "output_type": "display_data"
    }
   ],
   "source": [
    "n_profiles = 3\n",
    "\n",
    "profiles = [\n",
    "    [p + p * rdm.uniform(-0.1, 0.1) for p in scaled_profile]\n",
    "    for _ in range(n_profiles)\n",
    "]\n",
    "\n",
    "for profile in profiles:\n",
    "    profile[0] = scaled_profile[0]\n",
    "\n",
    "for i in range(n_profiles):\n",
    "    plt.plot(profiles[i])\n",
    "\n",
    "plt.show()"
   ]
  },
  {
   "cell_type": "markdown",
   "metadata": {},
   "source": [
    "## Scenario generation"
   ]
  },
  {
   "cell_type": "code",
   "execution_count": 69,
   "metadata": {},
   "outputs": [],
   "source": [
    "def get_rdm_variation(base_value, max_relative_variation=0.1):\n",
    "    return base_value + base_value * rdm.uniform(\n",
    "        -max_relative_variation, max_relative_variation\n",
    "    )"
   ]
  },
  {
   "cell_type": "code",
   "execution_count": 70,
   "metadata": {},
   "outputs": [
    {
     "data": {
      "text/html": [
       "<div>\n",
       "<style scoped>\n",
       "    .dataframe tbody tr th:only-of-type {\n",
       "        vertical-align: middle;\n",
       "    }\n",
       "\n",
       "    .dataframe tbody tr th {\n",
       "        vertical-align: top;\n",
       "    }\n",
       "\n",
       "    .dataframe thead th {\n",
       "        text-align: right;\n",
       "    }\n",
       "</style>\n",
       "<table border=\"1\" class=\"dataframe\">\n",
       "  <thead>\n",
       "    <tr style=\"text-align: right;\">\n",
       "      <th></th>\n",
       "      <th>t</th>\n",
       "      <th>n</th>\n",
       "      <th>p</th>\n",
       "      <th>Pd1</th>\n",
       "      <th>Pd2</th>\n",
       "    </tr>\n",
       "  </thead>\n",
       "  <tbody>\n",
       "    <tr>\n",
       "      <th>0</th>\n",
       "      <td>1</td>\n",
       "      <td>1</td>\n",
       "      <td>1.000000</td>\n",
       "      <td>0</td>\n",
       "      <td>159.160031</td>\n",
       "    </tr>\n",
       "    <tr>\n",
       "      <th>1</th>\n",
       "      <td>2</td>\n",
       "      <td>1</td>\n",
       "      <td>0.333333</td>\n",
       "      <td>0</td>\n",
       "      <td>106.052538</td>\n",
       "    </tr>\n",
       "    <tr>\n",
       "      <th>2</th>\n",
       "      <td>2</td>\n",
       "      <td>2</td>\n",
       "      <td>0.333333</td>\n",
       "      <td>0</td>\n",
       "      <td>121.119931</td>\n",
       "    </tr>\n",
       "    <tr>\n",
       "      <th>3</th>\n",
       "      <td>2</td>\n",
       "      <td>3</td>\n",
       "      <td>0.333333</td>\n",
       "      <td>0</td>\n",
       "      <td>125.338410</td>\n",
       "    </tr>\n",
       "    <tr>\n",
       "      <th>4</th>\n",
       "      <td>3</td>\n",
       "      <td>1</td>\n",
       "      <td>0.333333</td>\n",
       "      <td>0</td>\n",
       "      <td>102.818534</td>\n",
       "    </tr>\n",
       "    <tr>\n",
       "      <th>...</th>\n",
       "      <td>...</td>\n",
       "      <td>...</td>\n",
       "      <td>...</td>\n",
       "      <td>...</td>\n",
       "      <td>...</td>\n",
       "    </tr>\n",
       "    <tr>\n",
       "      <th>65</th>\n",
       "      <td>23</td>\n",
       "      <td>2</td>\n",
       "      <td>0.333333</td>\n",
       "      <td>0</td>\n",
       "      <td>287.732068</td>\n",
       "    </tr>\n",
       "    <tr>\n",
       "      <th>66</th>\n",
       "      <td>23</td>\n",
       "      <td>3</td>\n",
       "      <td>0.333333</td>\n",
       "      <td>0</td>\n",
       "      <td>303.207077</td>\n",
       "    </tr>\n",
       "    <tr>\n",
       "      <th>67</th>\n",
       "      <td>24</td>\n",
       "      <td>1</td>\n",
       "      <td>0.333333</td>\n",
       "      <td>0</td>\n",
       "      <td>219.341635</td>\n",
       "    </tr>\n",
       "    <tr>\n",
       "      <th>68</th>\n",
       "      <td>24</td>\n",
       "      <td>2</td>\n",
       "      <td>0.333333</td>\n",
       "      <td>0</td>\n",
       "      <td>240.637887</td>\n",
       "    </tr>\n",
       "    <tr>\n",
       "      <th>69</th>\n",
       "      <td>24</td>\n",
       "      <td>3</td>\n",
       "      <td>0.333333</td>\n",
       "      <td>0</td>\n",
       "      <td>254.687585</td>\n",
       "    </tr>\n",
       "  </tbody>\n",
       "</table>\n",
       "<p>70 rows × 5 columns</p>\n",
       "</div>"
      ],
      "text/plain": [
       "     t  n         p  Pd1         Pd2\n",
       "0    1  1  1.000000    0  159.160031\n",
       "1    2  1  0.333333    0  106.052538\n",
       "2    2  2  0.333333    0  121.119931\n",
       "3    2  3  0.333333    0  125.338410\n",
       "4    3  1  0.333333    0  102.818534\n",
       "..  .. ..       ...  ...         ...\n",
       "65  23  2  0.333333    0  287.732068\n",
       "66  23  3  0.333333    0  303.207077\n",
       "67  24  1  0.333333    0  219.341635\n",
       "68  24  2  0.333333    0  240.637887\n",
       "69  24  3  0.333333    0  254.687585\n",
       "\n",
       "[70 rows x 5 columns]"
      ]
     },
     "execution_count": 70,
     "metadata": {},
     "output_type": "execute_result"
    }
   ],
   "source": [
    "n_buses = 2\n",
    "demand_buses = [1]\n",
    "no_demand_buses = [b for b in range(n_buses) if b not in demand_buses]\n",
    "\n",
    "base_profile = scaled_profile\n",
    "\n",
    "n_realizations_per_stage = 3\n",
    "n_stages = len(base_profile)\n",
    "n_total_ralizations = (n_stages - 1) * n_realizations_per_stage + 1\n",
    "\n",
    "scenario_data = {\"t\": [], \"n\": [], \"p\": []}\n",
    "\n",
    "demand_bus_keys = []\n",
    "no_demand_bus_keys = []\n",
    "for b in range(n_buses):\n",
    "    bus_key = f\"Pd{b+1}\"\n",
    "    scenario_data[bus_key] = []\n",
    "    if b in demand_buses:\n",
    "        demand_bus_keys.append(bus_key)\n",
    "    else:\n",
    "        scenario_data[bus_key] = [0] * n_total_ralizations\n",
    "        no_demand_bus_keys.append(bus_key)\n",
    "\n",
    "\n",
    "scenario_data[\"t\"].append(1)\n",
    "scenario_data[\"n\"].append(1)\n",
    "scenario_data[\"p\"].append(1)\n",
    "\n",
    "for db in demand_bus_keys:\n",
    "    scenario_data[db].append(get_rdm_variation(base_profile[0]))\n",
    "\n",
    "\n",
    "if n_stages < 2:\n",
    "    raise ValueError(\"Number of stages must be greater than 1.\")\n",
    "if n_realizations_per_stage < 2:\n",
    "    raise ValueError(\n",
    "        \"Number of realizations per stage must be greater than 1.\"\n",
    "    )\n",
    "\n",
    "for t in range(1, n_stages):\n",
    "    for n in range(1, n_realizations_per_stage + 1):\n",
    "        scenario_data[\"t\"].append(t + 1)\n",
    "        scenario_data[\"n\"].append(n)\n",
    "        scenario_data[\"p\"].append(1 / n_realizations_per_stage)\n",
    "        for db in demand_bus_keys:\n",
    "            scenario_data[db].append(get_rdm_variation(base_profile[t]))\n",
    "\n",
    "\n",
    "scenario_df = pd.DataFrame(scenario_data)\n",
    "scenario_df"
   ]
  },
  {
   "cell_type": "markdown",
   "metadata": {},
   "source": [
    "## Sampling"
   ]
  },
  {
   "cell_type": "code",
   "execution_count": 71,
   "metadata": {},
   "outputs": [
    {
     "data": {
      "text/plain": [
       "[[0, 0, 2, 0, 1, 2, 2, 1, 0, 0, 0, 1, 2, 1, 0, 2, 0, 0, 1, 2, 0, 0, 1, 1],\n",
       " [0, 1, 1, 0, 1, 2, 1, 2, 1, 1, 1, 1, 2, 2, 0, 0, 1, 1, 1, 1, 0, 1, 2, 0]]"
      ]
     },
     "execution_count": 71,
     "metadata": {},
     "output_type": "execute_result"
    }
   ],
   "source": [
    "n_samples = 2\n",
    "\n",
    "samples = []\n",
    "for _ in range(n_samples):\n",
    "    sample = [\n",
    "        rdm.randint(0, n_realizations_per_stage - 1)\n",
    "        for _ in range(n_stages - 1)\n",
    "    ]\n",
    "    sample.insert(0, 0)\n",
    "    samples.append(sample)\n",
    "\n",
    "samples"
   ]
  },
  {
   "cell_type": "markdown",
   "metadata": {},
   "source": [
    "## External Scenario Module"
   ]
  },
  {
   "cell_type": "code",
   "execution_count": 72,
   "metadata": {},
   "outputs": [
    {
     "data": {
      "text/html": [
       "<div>\n",
       "<style scoped>\n",
       "    .dataframe tbody tr th:only-of-type {\n",
       "        vertical-align: middle;\n",
       "    }\n",
       "\n",
       "    .dataframe tbody tr th {\n",
       "        vertical-align: top;\n",
       "    }\n",
       "\n",
       "    .dataframe thead th {\n",
       "        text-align: right;\n",
       "    }\n",
       "</style>\n",
       "<table border=\"1\" class=\"dataframe\">\n",
       "  <thead>\n",
       "    <tr style=\"text-align: right;\">\n",
       "      <th></th>\n",
       "      <th>t</th>\n",
       "      <th>n</th>\n",
       "      <th>p</th>\n",
       "      <th>Pd1</th>\n",
       "      <th>Pd2</th>\n",
       "      <th>Pd3</th>\n",
       "    </tr>\n",
       "  </thead>\n",
       "  <tbody>\n",
       "    <tr>\n",
       "      <th>0</th>\n",
       "      <td>1</td>\n",
       "      <td>1</td>\n",
       "      <td>1.000000</td>\n",
       "      <td>0</td>\n",
       "      <td>164.447108</td>\n",
       "      <td>76.599980</td>\n",
       "    </tr>\n",
       "    <tr>\n",
       "      <th>1</th>\n",
       "      <td>2</td>\n",
       "      <td>1</td>\n",
       "      <td>0.333333</td>\n",
       "      <td>0</td>\n",
       "      <td>105.466849</td>\n",
       "      <td>66.900100</td>\n",
       "    </tr>\n",
       "    <tr>\n",
       "      <th>2</th>\n",
       "      <td>2</td>\n",
       "      <td>2</td>\n",
       "      <td>0.333333</td>\n",
       "      <td>0</td>\n",
       "      <td>117.865905</td>\n",
       "      <td>76.789767</td>\n",
       "    </tr>\n",
       "    <tr>\n",
       "      <th>3</th>\n",
       "      <td>2</td>\n",
       "      <td>3</td>\n",
       "      <td>0.333333</td>\n",
       "      <td>0</td>\n",
       "      <td>129.919840</td>\n",
       "      <td>53.755072</td>\n",
       "    </tr>\n",
       "    <tr>\n",
       "      <th>4</th>\n",
       "      <td>3</td>\n",
       "      <td>1</td>\n",
       "      <td>0.333333</td>\n",
       "      <td>0</td>\n",
       "      <td>102.263014</td>\n",
       "      <td>65.244820</td>\n",
       "    </tr>\n",
       "    <tr>\n",
       "      <th>...</th>\n",
       "      <td>...</td>\n",
       "      <td>...</td>\n",
       "      <td>...</td>\n",
       "      <td>...</td>\n",
       "      <td>...</td>\n",
       "      <td>...</td>\n",
       "    </tr>\n",
       "    <tr>\n",
       "      <th>65</th>\n",
       "      <td>23</td>\n",
       "      <td>2</td>\n",
       "      <td>0.333333</td>\n",
       "      <td>0</td>\n",
       "      <td>264.724449</td>\n",
       "      <td>146.507969</td>\n",
       "    </tr>\n",
       "    <tr>\n",
       "      <th>66</th>\n",
       "      <td>23</td>\n",
       "      <td>3</td>\n",
       "      <td>0.333333</td>\n",
       "      <td>0</td>\n",
       "      <td>315.593031</td>\n",
       "      <td>161.295507</td>\n",
       "    </tr>\n",
       "    <tr>\n",
       "      <th>67</th>\n",
       "      <td>24</td>\n",
       "      <td>1</td>\n",
       "      <td>0.333333</td>\n",
       "      <td>0</td>\n",
       "      <td>228.049492</td>\n",
       "      <td>155.756784</td>\n",
       "    </tr>\n",
       "    <tr>\n",
       "      <th>68</th>\n",
       "      <td>24</td>\n",
       "      <td>2</td>\n",
       "      <td>0.333333</td>\n",
       "      <td>0</td>\n",
       "      <td>264.896347</td>\n",
       "      <td>134.244840</td>\n",
       "    </tr>\n",
       "    <tr>\n",
       "      <th>69</th>\n",
       "      <td>24</td>\n",
       "      <td>3</td>\n",
       "      <td>0.333333</td>\n",
       "      <td>0</td>\n",
       "      <td>267.953371</td>\n",
       "      <td>111.581825</td>\n",
       "    </tr>\n",
       "  </tbody>\n",
       "</table>\n",
       "<p>70 rows × 6 columns</p>\n",
       "</div>"
      ],
      "text/plain": [
       "     t  n         p  Pd1         Pd2         Pd3\n",
       "0    1  1  1.000000    0  164.447108   76.599980\n",
       "1    2  1  0.333333    0  105.466849   66.900100\n",
       "2    2  2  0.333333    0  117.865905   76.789767\n",
       "3    2  3  0.333333    0  129.919840   53.755072\n",
       "4    3  1  0.333333    0  102.263014   65.244820\n",
       "..  .. ..       ...  ...         ...         ...\n",
       "65  23  2  0.333333    0  264.724449  146.507969\n",
       "66  23  3  0.333333    0  315.593031  161.295507\n",
       "67  24  1  0.333333    0  228.049492  155.756784\n",
       "68  24  2  0.333333    0  264.896347  134.244840\n",
       "69  24  3  0.333333    0  267.953371  111.581825\n",
       "\n",
       "[70 rows x 6 columns]"
      ]
     },
     "execution_count": 72,
     "metadata": {},
     "output_type": "execute_result"
    }
   ],
   "source": [
    "from sddip import scenarios\n",
    "\n",
    "n_stages = 24\n",
    "n_realizations_per_stage = 3\n",
    "\n",
    "n_buses = 3\n",
    "demand_buses = [1, 2]\n",
    "max_value_targets = [350, 200]\n",
    "\n",
    "\n",
    "sc_generator = scenarios.ScenarioGenerator(n_stages, n_realizations_per_stage)\n",
    "\n",
    "scenario_df = sc_generator.generate_demand_scenario_dataframe(\n",
    "    n_buses, demand_buses, max_value_targets, 0.2\n",
    ")\n",
    "\n",
    "scenario_df"
   ]
  },
  {
   "cell_type": "code",
   "execution_count": 73,
   "metadata": {},
   "outputs": [
    {
     "data": {
      "text/plain": [
       "<AxesSubplot:>"
      ]
     },
     "execution_count": 73,
     "metadata": {},
     "output_type": "execute_result"
    },
    {
     "data": {
      "image/png": "[encoded data removed]",
      "text/plain": [
       "<Figure size 432x288 with 1 Axes>"
      ]
     },
     "metadata": {
      "needs_background": "light"
     },
     "output_type": "display_data"
    }
   ],
   "source": [
    "n = 1\n",
    "realization_df = scenario_df[scenario_df[\"n\"] == n]\n",
    "\n",
    "profiles_df = realization_df.drop([\"t\", \"n\", \"p\"], axis=1)\n",
    "\n",
    "profiles_df.plot()"
   ]
  },
  {
   "cell_type": "code",
   "execution_count": 74,
   "metadata": {},
   "outputs": [
    {
     "data": {
      "text/plain": [
       "[[0, 2, 1, 1, 1, 2, 0, 0, 2, 1, 1, 1, 1, 1, 1, 0, 1, 0, 1, 0, 2, 0, 0, 1],\n",
       " [0, 2, 0, 2, 2, 2, 1, 0, 0, 2, 0, 1, 2, 1, 0, 0, 1, 2, 1, 0, 2, 0, 2, 0],\n",
       " [0, 1, 2, 0, 1, 1, 0, 0, 0, 0, 1, 1, 0, 1, 1, 0, 0, 2, 2, 0, 2, 2, 0, 2]]"
      ]
     },
     "execution_count": 74,
     "metadata": {},
     "output_type": "execute_result"
    }
   ],
   "source": [
    "n_samples = 3\n",
    "\n",
    "sc_sampler = scenarios.ScenarioSampler(n_stages, n_realizations_per_stage)\n",
    "\n",
    "sc_sampler.generate_samples(n_samples)"
   ]
  },
  {
   "cell_type": "code",
   "execution_count": 82,
   "metadata": {},
   "outputs": [
    {
     "data": {
      "text/plain": [
       "<AxesSubplot:>"
      ]
     },
     "execution_count": 82,
     "metadata": {},
     "output_type": "execute_result"
    },
    {
     "data": {
      "image/png": "[encoded data removed]",
      "text/plain": [
       "<Figure size 432x288 with 1 Axes>"
      ]
     },
     "metadata": {
      "needs_background": "light"
     },
     "output_type": "display_data"
    }
   ],
   "source": [
    "n = 1\n",
    "\n",
    "re_profiles = sc_generator.generate_renewables_scenario_dataframe(\n",
    "    3, [1], [0], [10], [0], [100], 0.2\n",
    ")\n",
    "\n",
    "re_profiles = re_profiles[re_profiles[\"n\"] == n]\n",
    "\n",
    "re_profiles.drop([\"t\", \"n\", \"p\"], axis=1, inplace=True)\n",
    "\n",
    "\n",
    "re_profiles.plot()"
   ]
  }
 ],
 "metadata": {
  "interpreter": {
   "hash": "abe42ade3e87b4e6c3c5745962b526975dbcf6574cac0f27c7eb88f5d6f3bab5"
  },
  "kernelspec": {
   "display_name": "Python 3.10.0 64-bit ('optimization': conda)",
   "language": "python",
   "name": "python3"
  },
  "language_info": {
   "codemirror_mode": {
    "name": "ipython",
    "version": 3
   },
   "file_extension": ".py",
   "mimetype": "text/x-python",
   "name": "python",
   "nbconvert_exporter": "python",
   "pygments_lexer": "ipython3",
   "version": "3.9.7"
  },
  "orig_nbformat": 4
 },
 "nbformat": 4,
 "nbformat_minor": 2
}
